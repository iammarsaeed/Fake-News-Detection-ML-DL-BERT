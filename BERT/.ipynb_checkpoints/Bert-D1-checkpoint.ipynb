{
 "cells": [
  {
   "cell_type": "code",
   "execution_count": null,
   "metadata": {
    "colab": {},
    "colab_type": "code",
    "id": "vr1ssFIS3soG"
   },
   "outputs": [],
   "source": []
  },
  {
   "cell_type": "markdown",
   "metadata": {
    "colab_type": "text",
    "id": "ROSg9T9EzYDf"
   },
   "source": [
    "# Islamophhobia Detection with BERT using Keras and TensorFlow 2"
   ]
  },
  {
   "cell_type": "code",
   "execution_count": 1,
   "metadata": {
    "colab": {
     "base_uri": "https://localhost:8080/",
     "height": 353
    },
    "colab_type": "code",
    "id": "LV210YNdrKIi",
    "outputId": "241efc07-fef8-43ba-b771-e02a51f60a02"
   },
   "outputs": [
    {
     "name": "stdout",
     "output_type": "stream",
     "text": [
      "zsh:1: command not found: nvidia-smi\r\n"
     ]
    }
   ],
   "source": [
    "!nvidia-smi"
   ]
  },
  {
   "cell_type": "code",
   "execution_count": 3,
   "metadata": {
    "colab": {
     "base_uri": "https://localhost:8080/",
     "height": 726
    },
    "colab_type": "code",
    "id": "WaaST8ILn0oN",
    "outputId": "64c91caf-c1cc-4f12-b7e6-f558bb58658a"
   },
   "outputs": [
    {
     "name": "stdout",
     "output_type": "stream",
     "text": [
      "\u001b[31mERROR: Could not find a version that satisfies the requirement tensorflow-gpu\u001b[0m\r\n",
      "\u001b[31mERROR: No matching distribution found for tensorflow-gpu\u001b[0m\r\n"
     ]
    }
   ],
   "source": [
    "!pip install tensorflow-gpu"
   ]
  },
  {
   "cell_type": "code",
   "execution_count": 4,
   "metadata": {
    "colab": {
     "base_uri": "https://localhost:8080/",
     "height": 50
    },
    "colab_type": "code",
    "id": "WTWu7zZeKhfV",
    "outputId": "8fff611b-25a5-49f6-d4a8-9aeba045b076"
   },
   "outputs": [
    {
     "name": "stdout",
     "output_type": "stream",
     "text": [
      "Requirement already satisfied: grpcio in /Users/syedshayanjamal/opt/anaconda3/lib/python3.8/site-packages (1.42.0)\n",
      "Collecting grpcio\n",
      "  Downloading grpcio-1.44.0-cp38-cp38-macosx_10_10_x86_64.whl (4.3 MB)\n",
      "\u001b[K     |████████████████████████████████| 4.3 MB 512 kB/s eta 0:00:01     |████████▋                       | 1.1 MB 176 kB/s eta 0:00:18\n",
      "\u001b[?25hRequirement already satisfied: six>=1.5.2 in /Users/syedshayanjamal/opt/anaconda3/lib/python3.8/site-packages (from grpcio) (1.15.0)\n",
      "Installing collected packages: grpcio\n",
      "  Attempting uninstall: grpcio\n",
      "    Found existing installation: grpcio 1.42.0\n",
      "    Uninstalling grpcio-1.42.0:\n",
      "      Successfully uninstalled grpcio-1.42.0\n",
      "Successfully installed grpcio-1.44.0\n"
     ]
    }
   ],
   "source": [
    "!pip install --upgrade grpcio"
   ]
  },
  {
   "cell_type": "code",
   "execution_count": 5,
   "metadata": {
    "colab": {
     "base_uri": "https://localhost:8080/",
     "height": 34
    },
    "colab_type": "code",
    "id": "zCRkokr-n26J",
    "outputId": "640041c5-9788-4071-e8ef-5c39497cbc5f"
   },
   "outputs": [
    {
     "name": "stdout",
     "output_type": "stream",
     "text": [
      "Requirement already satisfied: tqdm in /Users/syedshayanjamal/opt/anaconda3/lib/python3.8/site-packages (4.59.0)\r\n"
     ]
    }
   ],
   "source": [
    "!pip install tqdm"
   ]
  },
  {
   "cell_type": "code",
   "execution_count": 6,
   "metadata": {
    "colab": {
     "base_uri": "https://localhost:8080/",
     "height": 406
    },
    "colab_type": "code",
    "id": "-zgaripn6hjX",
    "outputId": "3043e952-c72d-4763-b003-e208d7f285d7"
   },
   "outputs": [
    {
     "name": "stdout",
     "output_type": "stream",
     "text": [
      "Collecting bert-for-tf2\n",
      "  Downloading bert-for-tf2-0.14.9.tar.gz (41 kB)\n",
      "\u001b[K     |████████████████████████████████| 41 kB 113 kB/s eta 0:00:011\n",
      "\u001b[?25hCollecting py-params>=0.9.6\n",
      "  Downloading py-params-0.10.2.tar.gz (7.4 kB)\n",
      "Collecting params-flow>=0.8.0\n",
      "  Downloading params-flow-0.8.2.tar.gz (22 kB)\n",
      "Requirement already satisfied: numpy in /Users/syedshayanjamal/opt/anaconda3/lib/python3.8/site-packages (from params-flow>=0.8.0->bert-for-tf2) (1.20.1)\n",
      "Requirement already satisfied: tqdm in /Users/syedshayanjamal/opt/anaconda3/lib/python3.8/site-packages (from params-flow>=0.8.0->bert-for-tf2) (4.59.0)\n",
      "Building wheels for collected packages: bert-for-tf2, params-flow, py-params\n",
      "  Building wheel for bert-for-tf2 (setup.py) ... \u001b[?25ldone\n",
      "\u001b[?25h  Created wheel for bert-for-tf2: filename=bert_for_tf2-0.14.9-py3-none-any.whl size=30536 sha256=78e9dd5a5cd493b5e066be027d5d4fc81136eb0d026a2ef3b9e19226c047d7a9\n",
      "  Stored in directory: /Users/syedshayanjamal/Library/Caches/pip/wheels/ab/a4/72/df07592cea3ae06b5e846f5e52262f8b16748e829ca354b7df\n",
      "  Building wheel for params-flow (setup.py) ... \u001b[?25ldone\n",
      "\u001b[?25h  Created wheel for params-flow: filename=params_flow-0.8.2-py3-none-any.whl size=19471 sha256=64b085c39fd33b8e121dc7987f667e3acd40218e5b2fb2b17139f751126bf088\n",
      "  Stored in directory: /Users/syedshayanjamal/Library/Caches/pip/wheels/c7/f3/85/b8cf1d8bfe55dc2ece0f1fcd4e91d6f8fc7b59ff3fd75329e1\n",
      "  Building wheel for py-params (setup.py) ... \u001b[?25ldone\n",
      "\u001b[?25h  Created wheel for py-params: filename=py_params-0.10.2-py3-none-any.whl size=7910 sha256=19d85affeaa2fe7db5798364d8a397f600091ea794690d8ba93ab322efa6b30c\n",
      "  Stored in directory: /Users/syedshayanjamal/Library/Caches/pip/wheels/ac/26/e9/df16869ccbd4abf517f1ff3be9a2c7ee5c5980fc87eea04fb1\n",
      "Successfully built bert-for-tf2 params-flow py-params\n",
      "Installing collected packages: py-params, params-flow, bert-for-tf2\n",
      "Successfully installed bert-for-tf2-0.14.9 params-flow-0.8.2 py-params-0.10.2\n"
     ]
    }
   ],
   "source": [
    "!pip install bert-for-tf2"
   ]
  },
  {
   "cell_type": "code",
   "execution_count": 7,
   "metadata": {
    "colab": {
     "base_uri": "https://localhost:8080/",
     "height": 121
    },
    "colab_type": "code",
    "id": "9nd4u1Qz6ms5",
    "outputId": "309e6922-be7a-43be-96af-16805c63b499"
   },
   "outputs": [
    {
     "name": "stdout",
     "output_type": "stream",
     "text": [
      "Collecting sentencepiece\n",
      "  Downloading sentencepiece-0.1.96-cp38-cp38-macosx_10_6_x86_64.whl (1.1 MB)\n",
      "\u001b[K     |████████████████████████████████| 1.1 MB 1.0 MB/s eta 0:00:01\n",
      "\u001b[?25hInstalling collected packages: sentencepiece\n",
      "Successfully installed sentencepiece-0.1.96\n"
     ]
    }
   ],
   "source": [
    "!pip install sentencepiece"
   ]
  },
  {
   "cell_type": "code",
   "execution_count": 9,
   "metadata": {
    "colab": {
     "base_uri": "https://localhost:8080/",
     "height": 70
    },
    "colab_type": "code",
    "id": "VLPwBaua6jf2",
    "outputId": "d0f5677b-494c-4838-9f05-87bade7488b7"
   },
   "outputs": [],
   "source": [
    "import os\n",
    "import math\n",
    "import datetime\n",
    "\n",
    "from tqdm import tqdm\n",
    "\n",
    "import pandas as pd\n",
    "import numpy as np\n",
    "\n",
    "import tensorflow as tf\n",
    "from tensorflow import keras\n",
    "\n",
    "import bert\n",
    "from bert import BertModelLayer\n",
    "from bert.loader import StockBertConfig, map_stock_config_to_params, load_stock_weights\n",
    "from bert.tokenization.bert_tokenization import FullTokenizer\n",
    "\n",
    "import seaborn as sns\n",
    "from pylab import rcParams\n",
    "import matplotlib.pyplot as plt\n",
    "from matplotlib.ticker import MaxNLocator\n",
    "from matplotlib import rc\n",
    "\n",
    "from sklearn.metrics import confusion_matrix, classification_report\n",
    "\n",
    "import re\n",
    "\n",
    "# translator\n",
    "import googletrans\n",
    "from googletrans import Translator\n",
    "\n",
    "%matplotlib inline\n",
    "%config InlineBackend.figure_format='retina'\n",
    "\n",
    "sns.set(style='whitegrid', palette='muted', font_scale=1.2)\n",
    "\n",
    "HAPPY_COLORS_PALETTE = [\"#01BEFE\", \"#FFDD00\", \"#FF7D00\", \"#FF006D\"]\n",
    "\n",
    "sns.set_palette(sns.color_palette(HAPPY_COLORS_PALETTE))\n",
    "\n",
    "rcParams['figure.figsize'] = 12, 8\n",
    "\n",
    "RANDOM_SEED = 42\n",
    "\n",
    "np.random.seed(RANDOM_SEED)\n",
    "tf.random.set_seed(RANDOM_SEED)"
   ]
  },
  {
   "cell_type": "markdown",
   "metadata": {
    "colab_type": "text",
    "id": "CzkSXum8RzGM"
   },
   "source": [
    "# Data\n"
   ]
  },
  {
   "cell_type": "code",
   "execution_count": 13,
   "metadata": {
    "colab": {},
    "colab_type": "code",
    "id": "IJh-QX6w4J0_"
   },
   "outputs": [],
   "source": [
    "df = pd.read_csv('../Data/Fake news detection/data.csv', \n",
    "                   delimiter=',')\n",
    "df.drop(df.columns[[0,1]], axis = 1, inplace = True)\n",
    "df.columns = ['Body', 'Label']\n",
    "df.head(15)\n",
    "df[\"Body\"] = df[\"Body\"].astype(str)\n",
    "df[\"Label\"] = df[\"Label\"].astype(str)"
   ]
  },
  {
   "cell_type": "code",
   "execution_count": 15,
   "metadata": {
    "colab": {
     "base_uri": "https://localhost:8080/",
     "height": 284
    },
    "colab_type": "code",
    "id": "lh6sCSOy46_B",
    "outputId": "cb8046bf-f563-49c8-cb7e-618fa388fb6f"
   },
   "outputs": [
    {
     "data": {
      "image/png": "[encoded data removed]",
      "text/plain": [
       "<Figure size 432x288 with 1 Axes>"
      ]
     },
     "metadata": {
      "image/png": {
       "height": 265,
       "width": 387
      }
     },
     "output_type": "display_data"
    }
   ],
   "source": [
    "import matplotlib.pyplot as plt\n",
    "fig = plt.figure(figsize=(6,4))\n",
    "df.groupby('Label').Body.count().plot.bar(ylim=0)\n",
    "plt.show()"
   ]
  },
  {
   "cell_type": "code",
   "execution_count": 18,
   "metadata": {
    "colab": {
     "base_uri": "https://localhost:8080/",
     "height": 84
    },
    "colab_type": "code",
    "id": "dgm-l6QI47G2",
    "outputId": "2f1f67d1-afae-402e-bfd2-65221b9098e8"
   },
   "outputs": [
    {
     "data": {
      "text/plain": [
       "0    2137\n",
       "1    1872\n",
       "Name: Label, dtype: int64"
      ]
     },
     "execution_count": 18,
     "metadata": {},
     "output_type": "execute_result"
    }
   ],
   "source": [
    "\n",
    "# For entire dataset sentences for each labels \n",
    "df.Label.value_counts()"
   ]
  },
  {
   "cell_type": "code",
   "execution_count": 19,
   "metadata": {
    "colab": {},
    "colab_type": "code",
    "id": "LGv6WWPqoOJO"
   },
   "outputs": [],
   "source": [
    "#balancing data \n",
    "from collections import Counter\n",
    "import numpy as np\n",
    "def balanceClasses(xs, ys):\n",
    "    item = {}\n",
    "    new_ys = []\n",
    "    new_xs = []\n",
    "    #\"\"\"Undersample xs, ys to balance classes.\"\"\"\n",
    "    freqs = Counter(ys)\n",
    "    # the most common class  is the maximum number we want for all classes\n",
    "    max_allowable = (freqs.most_common()[0][1])\n",
    "    \n",
    "    for val in freqs.most_common(): # List\n",
    "        nums = np.random.randint(1000)\n",
    "        i = 1\n",
    "        item[val[0]] = max_allowable - val[1]\n",
    "        \n",
    "        if item[val[0]] > 0:            \n",
    "            while(item[val[0]] - i != 0): \n",
    "                nums = nums + 1\n",
    "                if ys[nums] == val[0]:\n",
    "                    i += 1\n",
    "                    new_ys.append(ys[nums])\n",
    "                    new_xs.append(xs[nums])\n",
    "    return new_xs, new_ys"
   ]
  },
  {
   "cell_type": "code",
   "execution_count": 20,
   "metadata": {
    "colab": {},
    "colab_type": "code",
    "id": "ibIWzEi_oPW9"
   },
   "outputs": [],
   "source": [
    "new_text, new_label = balanceClasses(df['Body'], df['Label'])"
   ]
  },
  {
   "cell_type": "code",
   "execution_count": 21,
   "metadata": {
    "colab": {},
    "colab_type": "code",
    "id": "AZkU8zzToTuw"
   },
   "outputs": [],
   "source": [
    "data_df = pd.DataFrame(new_text)\n",
    "data_df.columns = ['Body']\n",
    "data_df['Label'] = new_label\n",
    "data_df = pd.concat([df, data_df])"
   ]
  },
  {
   "cell_type": "code",
   "execution_count": 22,
   "metadata": {
    "colab": {
     "base_uri": "https://localhost:8080/",
     "height": 284
    },
    "colab_type": "code",
    "id": "q-_yOPFzoWTF",
    "outputId": "cf9c6978-a85b-4768-fe95-308255c7bc8c"
   },
   "outputs": [
    {
     "data": {
      "image/png": "[encoded data removed]",
      "text/plain": [
       "<Figure size 432x288 with 1 Axes>"
      ]
     },
     "metadata": {
      "image/png": {
       "height": 265,
       "width": 387
      }
     },
     "output_type": "display_data"
    }
   ],
   "source": [
    "fig1 = plt.figure(figsize=(6,4))\n",
    "data_df.groupby('Label').Body.count().plot.bar(ylim=0)\n",
    "plt.show()"
   ]
  },
  {
   "cell_type": "code",
   "execution_count": 23,
   "metadata": {
    "colab": {},
    "colab_type": "code",
    "id": "X9ExXbzooac2"
   },
   "outputs": [],
   "source": [
    "df = data_df"
   ]
  },
  {
   "cell_type": "code",
   "execution_count": 24,
   "metadata": {
    "colab": {
     "base_uri": "https://localhost:8080/",
     "height": 84
    },
    "colab_type": "code",
    "id": "1I2T1KqdofBV",
    "outputId": "55a2f4cb-5cad-4a72-a4b8-000dbd6e0f24"
   },
   "outputs": [
    {
     "data": {
      "text/plain": [
       "0    2137\n",
       "1    2136\n",
       "Name: Label, dtype: int64"
      ]
     },
     "execution_count": 24,
     "metadata": {},
     "output_type": "execute_result"
    }
   ],
   "source": [
    "df.Label.value_counts()"
   ]
  },
  {
   "cell_type": "code",
   "execution_count": 25,
   "metadata": {
    "colab": {
     "base_uri": "https://localhost:8080/",
     "height": 402
    },
    "colab_type": "code",
    "id": "kf3151rv47Jn",
    "outputId": "738c85b3-53ea-4543-e816-d5d98219ecbf"
   },
   "outputs": [
    {
     "data": {
      "text/html": [
       "<div>\n",
       "<style scoped>\n",
       "    .dataframe tbody tr th:only-of-type {\n",
       "        vertical-align: middle;\n",
       "    }\n",
       "\n",
       "    .dataframe tbody tr th {\n",
       "        vertical-align: top;\n",
       "    }\n",
       "\n",
       "    .dataframe thead th {\n",
       "        text-align: right;\n",
       "    }\n",
       "</style>\n",
       "<table border=\"1\" class=\"dataframe\">\n",
       "  <thead>\n",
       "    <tr style=\"text-align: right;\">\n",
       "      <th></th>\n",
       "      <th>Body</th>\n",
       "      <th>Label</th>\n",
       "    </tr>\n",
       "  </thead>\n",
       "  <tbody>\n",
       "    <tr>\n",
       "      <th>0</th>\n",
       "      <td>(CNN) — Against the backdrop of bright blue sk...</td>\n",
       "      <td>1</td>\n",
       "    </tr>\n",
       "    <tr>\n",
       "      <th>1</th>\n",
       "      <td>Teacher Sparks Outrage By Asking Kids To Make ...</td>\n",
       "      <td>0</td>\n",
       "    </tr>\n",
       "    <tr>\n",
       "      <th>2</th>\n",
       "      <td>Ole Smoky Tennessee Moonshine Becomes A Proud ...</td>\n",
       "      <td>0</td>\n",
       "    </tr>\n",
       "    <tr>\n",
       "      <th>3</th>\n",
       "      <td>By Aaron Kesel\\nTensions are rising at a quick...</td>\n",
       "      <td>0</td>\n",
       "    </tr>\n",
       "    <tr>\n",
       "      <th>4</th>\n",
       "      <td>By Carey Wedler\\nThe Federal Emergency Managem...</td>\n",
       "      <td>0</td>\n",
       "    </tr>\n",
       "    <tr>\n",
       "      <th>...</th>\n",
       "      <td>...</td>\n",
       "      <td>...</td>\n",
       "    </tr>\n",
       "    <tr>\n",
       "      <th>4268</th>\n",
       "      <td>Red Flag Warning: These California Wildfires A...</td>\n",
       "      <td>0</td>\n",
       "    </tr>\n",
       "    <tr>\n",
       "      <th>4269</th>\n",
       "      <td>Vendange Carmel Inn and Suites Announces New W...</td>\n",
       "      <td>0</td>\n",
       "    </tr>\n",
       "    <tr>\n",
       "      <th>4270</th>\n",
       "      <td>Dozens prayed at a revered Hindu temple on the...</td>\n",
       "      <td>1</td>\n",
       "    </tr>\n",
       "    <tr>\n",
       "      <th>4271</th>\n",
       "      <td>(CNN) Herpes has been around a long time, to s...</td>\n",
       "      <td>1</td>\n",
       "    </tr>\n",
       "    <tr>\n",
       "      <th>4272</th>\n",
       "      <td>MOSCOW (Reuters) - Russia and China called for...</td>\n",
       "      <td>1</td>\n",
       "    </tr>\n",
       "  </tbody>\n",
       "</table>\n",
       "<p>4273 rows × 2 columns</p>\n",
       "</div>"
      ],
      "text/plain": [
       "                                                   Body Label\n",
       "0     (CNN) — Against the backdrop of bright blue sk...     1\n",
       "1     Teacher Sparks Outrage By Asking Kids To Make ...     0\n",
       "2     Ole Smoky Tennessee Moonshine Becomes A Proud ...     0\n",
       "3     By Aaron Kesel\\nTensions are rising at a quick...     0\n",
       "4     By Carey Wedler\\nThe Federal Emergency Managem...     0\n",
       "...                                                 ...   ...\n",
       "4268  Red Flag Warning: These California Wildfires A...     0\n",
       "4269  Vendange Carmel Inn and Suites Announces New W...     0\n",
       "4270  Dozens prayed at a revered Hindu temple on the...     1\n",
       "4271  (CNN) Herpes has been around a long time, to s...     1\n",
       "4272  MOSCOW (Reuters) - Russia and China called for...     1\n",
       "\n",
       "[4273 rows x 2 columns]"
      ]
     },
     "execution_count": 25,
     "metadata": {},
     "output_type": "execute_result"
    }
   ],
   "source": [
    "df=df.sample(frac=1).reset_index(drop=True)\n",
    "df"
   ]
  },
  {
   "cell_type": "markdown",
   "metadata": {
    "colab_type": "text",
    "id": "pA7mei-y5IZi"
   },
   "source": [
    "Data Preprocessing"
   ]
  },
  {
   "cell_type": "code",
   "execution_count": 27,
   "metadata": {
    "colab": {},
    "colab_type": "code",
    "id": "8Qgo-O_U47Ma"
   },
   "outputs": [],
   "source": [
    "def ReplaceDoubleColon(inputString):\n",
    "    return inputString.replace(\"..\", \" \") \n",
    "\n",
    "df['Body'] = df['Body'].apply(lambda x: ReplaceDoubleColon(x))\n",
    "\n",
    "def ReplaceTripleColon(inputString):\n",
    "    return inputString.replace(\"...\", \" \") \n",
    "\n",
    "df['Body'] = df['Body'].apply(lambda x: ReplaceTripleColon(x))\n",
    "\n",
    "def ReplaceFourColon(inputString):\n",
    "    return inputString.replace(\"....\", \" \") \n",
    "\n",
    "df['Body'] = df['Body'].apply(lambda x: ReplaceFourColon(x))"
   ]
  },
  {
   "cell_type": "code",
   "execution_count": 29,
   "metadata": {
    "colab": {},
    "colab_type": "code",
    "id": "Lc57tBFU6KuZ"
   },
   "outputs": [],
   "source": [
    "def textPattern(text):\n",
    "\n",
    "    # Clean the text\n",
    "    text = re.sub(r\"[^A-Za-z0-9^,!.\\/'+-=]\", \" \", text)\n",
    "    text = re.sub(r\" \\n \", \" \", text)\n",
    "    text = re.sub(r\"what's\", \"what is\", text)\n",
    "    text = re.sub(r\"\\'s\", \" \", text)\n",
    "    text = re.sub(r\"\\'ve\", \"have\", text)\n",
    "    text = re.sub(r\"can't\", \"can not\", text)\n",
    "    text = re.sub(r\"aren't\", \"are not\", text)\n",
    "    text = re.sub(r\"couldn't\", \"could not\", text)\n",
    "    text = re.sub(r\"didn't\", \"did not\", text)\n",
    "    text = re.sub(r\"doesn't\", \"does not\", text)\n",
    "    text = re.sub(r\"don't\", \"do not\", text)\n",
    "    text = re.sub(r\"hadn't\", \"had not\", text)\n",
    "    text = re.sub(r\"hasn't\", \"has not\", text)\n",
    "    text = re.sub(r\"haven't\", \"have not\", text)\n",
    "    text = re.sub(r\"isn't\", \"is not\", text)\n",
    "    text = re.sub(r\"shouldn't\", \"should not\", text)\n",
    "    text = re.sub(r\"wasn't\", \"was not\", text)\n",
    "    text = re.sub(r\"weren't\", \"were not\", text)\n",
    "    text = re.sub(r\"won't\", \"will not\", text)\n",
    "    text = re.sub(r\"wouldn't\", \"would not\", text)\n",
    "    text = re.sub(r\"mustn't\", \"must not\", text)\n",
    "    text = re.sub(r\"i'm\", \"i am\", text)\n",
    "    text = re.sub(r\"\\'re\", \"are\", text)\n",
    "    text = re.sub(r\",\", \" \", text)\n",
    "    text = re.sub(r\"\\.\", \" \", text)\n",
    "    text = re.sub(r\"!\", \" \", text)\n",
    "    text = re.sub(r\"\\/\", \" \", text)\n",
    "    text = re.sub(r\"\\^\", \" ^ \", text)\n",
    "    text = re.sub(r\"\\+\", \" \", text)\n",
    "    text = re.sub(r\"\\-\", \" - \", text)\n",
    "    text = re.sub(r\"\\= =\", \" \", text)\n",
    "    text = re.sub(r\"\\==\", \" \", text)\n",
    "    text = re.sub(r\"'\", \" \", text)\n",
    "    text = re.sub(r\"(\\d+)(k)\", r\"\\g<1>000\", text)\n",
    "    text = re.sub(r\":\", \" : \", text)\n",
    "    text = re.sub(r\"\\0s\", \"0\", text)\n",
    "    text = re.sub(r\" 9 11 \", \"911\", text)\n",
    "    text = re.sub(r\"\\s{2,}\", \" \", text)\n",
    "    return text\n",
    "\n",
    "df['Body'] = df['Body'].apply(lambda x: textPattern(x))"
   ]
  },
  {
   "cell_type": "code",
   "execution_count": 30,
   "metadata": {
    "colab": {},
    "colab_type": "code",
    "id": "kgWeFtcgoBQP"
   },
   "outputs": [],
   "source": [
    "df = df[df.Body != '']"
   ]
  },
  {
   "cell_type": "code",
   "execution_count": 31,
   "metadata": {
    "colab": {},
    "colab_type": "code",
    "id": "uxT19ii26zNC"
   },
   "outputs": [],
   "source": [
    "from sklearn.model_selection import train_test_split\n",
    "train, test = train_test_split(df, test_size=0.10, random_state=42)"
   ]
  },
  {
   "cell_type": "code",
   "execution_count": 32,
   "metadata": {
    "colab": {
     "base_uri": "https://localhost:8080/",
     "height": 195
    },
    "colab_type": "code",
    "id": "i4cZ4oi_TTfC",
    "outputId": "9977b84e-aff8-49e1-b0bf-13544d22bab0"
   },
   "outputs": [
    {
     "data": {
      "text/html": [
       "<div>\n",
       "<style scoped>\n",
       "    .dataframe tbody tr th:only-of-type {\n",
       "        vertical-align: middle;\n",
       "    }\n",
       "\n",
       "    .dataframe tbody tr th {\n",
       "        vertical-align: top;\n",
       "    }\n",
       "\n",
       "    .dataframe thead th {\n",
       "        text-align: right;\n",
       "    }\n",
       "</style>\n",
       "<table border=\"1\" class=\"dataframe\">\n",
       "  <thead>\n",
       "    <tr style=\"text-align: right;\">\n",
       "      <th></th>\n",
       "      <th>Body</th>\n",
       "      <th>Label</th>\n",
       "    </tr>\n",
       "  </thead>\n",
       "  <tbody>\n",
       "    <tr>\n",
       "      <th>0</th>\n",
       "      <td>CNN Against the backdrop of bright blue sky a...</td>\n",
       "      <td>1</td>\n",
       "    </tr>\n",
       "    <tr>\n",
       "      <th>1</th>\n",
       "      <td>Teacher Sparks Outrage By Asking Kids To Make ...</td>\n",
       "      <td>0</td>\n",
       "    </tr>\n",
       "    <tr>\n",
       "      <th>2</th>\n",
       "      <td>Ole Smoky Tennessee Moonshine Becomes A Proud ...</td>\n",
       "      <td>0</td>\n",
       "    </tr>\n",
       "    <tr>\n",
       "      <th>3</th>\n",
       "      <td>By Aaron Kesel Tensions are rising at a quicke...</td>\n",
       "      <td>0</td>\n",
       "    </tr>\n",
       "    <tr>\n",
       "      <th>4</th>\n",
       "      <td>By Carey Wedler The Federal Emergency Manageme...</td>\n",
       "      <td>0</td>\n",
       "    </tr>\n",
       "  </tbody>\n",
       "</table>\n",
       "</div>"
      ],
      "text/plain": [
       "                                                Body Label\n",
       "0   CNN Against the backdrop of bright blue sky a...     1\n",
       "1  Teacher Sparks Outrage By Asking Kids To Make ...     0\n",
       "2  Ole Smoky Tennessee Moonshine Becomes A Proud ...     0\n",
       "3  By Aaron Kesel Tensions are rising at a quicke...     0\n",
       "4  By Carey Wedler The Federal Emergency Manageme...     0"
      ]
     },
     "execution_count": 32,
     "metadata": {},
     "output_type": "execute_result"
    }
   ],
   "source": [
    "df.head()"
   ]
  },
  {
   "cell_type": "code",
   "execution_count": 33,
   "metadata": {
    "colab": {
     "base_uri": "https://localhost:8080/",
     "height": 526
    },
    "colab_type": "code",
    "id": "Fes5nupOfR9B",
    "outputId": "f6cca632-2dfa-4b06-c1b2-1ea7a54ba3be"
   },
   "outputs": [
    {
     "name": "stderr",
     "output_type": "stream",
     "text": [
      "/Users/syedshayanjamal/opt/anaconda3/lib/python3.8/site-packages/seaborn/_decorators.py:36: FutureWarning: Pass the following variable as a keyword arg: x. From version 0.12, the only valid positional argument will be `data`, and passing other arguments without an explicit keyword will result in an error or misinterpretation.\n",
      "  warnings.warn(\n"
     ]
    },
    {
     "data": {
      "image/png": "[encoded data removed]",
      "text/plain": [
       "<Figure size 864x576 with 1 Axes>"
      ]
     },
     "metadata": {
      "image/png": {
       "height": 505,
       "width": 739
      }
     },
     "output_type": "display_data"
    }
   ],
   "source": [
    "chart = sns.countplot(train.Label, palette=HAPPY_COLORS_PALETTE)\n",
    "plt.title(\"Number of texts per class\")\n",
    "chart.set_xticklabels(chart.get_xticklabels(), rotation=30, horizontalalignment='right');"
   ]
  },
  {
   "cell_type": "markdown",
   "metadata": {
    "colab_type": "text",
    "id": "Nc23faMAR--V"
   },
   "source": [
    "# FAKE NEWS Detection with BERT\n"
   ]
  },
  {
   "cell_type": "code",
   "execution_count": 34,
   "metadata": {
    "colab": {
     "base_uri": "https://localhost:8080/",
     "height": 202
    },
    "colab_type": "code",
    "id": "-P2y2g3m8Ytp",
    "outputId": "b4200817-3fb5-4f82-feb2-8d91392b9ef4"
   },
   "outputs": [
    {
     "name": "stdout",
     "output_type": "stream",
     "text": [
      "--2022-03-15 00:52:09--  https://storage.googleapis.com/bert_models/2018_10_18/uncased_L-12_H-768_A-12.zip\n",
      "Resolving storage.googleapis.com (storage.googleapis.com)... 172.217.19.176, 142.250.181.48, 216.58.208.240, ...\n",
      "Connecting to storage.googleapis.com (storage.googleapis.com)|172.217.19.176|:443... connected.\n",
      "HTTP request sent, awaiting response... 200 OK\n",
      "Length: 407727028 (389M) [application/zip]\n",
      "Saving to: ‘uncased_L-12_H-768_A-12.zip’\n",
      "\n",
      "uncased_L-12_H-768_ 100%[===================>] 388.84M   469KB/s    in 14m 41s \n",
      "\n",
      "2022-03-15 01:06:51 (452 KB/s) - ‘uncased_L-12_H-768_A-12.zip’ saved [407727028/407727028]\n",
      "\n"
     ]
    }
   ],
   "source": [
    "!wget https://storage.googleapis.com/bert_models/2018_10_18/uncased_L-12_H-768_A-12.zip"
   ]
  },
  {
   "cell_type": "code",
   "execution_count": 35,
   "metadata": {
    "colab": {
     "base_uri": "https://localhost:8080/",
     "height": 134
    },
    "colab_type": "code",
    "id": "ARivu75M8fqM",
    "outputId": "02c8070b-86ed-4702-ac7c-c679f4a35961"
   },
   "outputs": [
    {
     "name": "stdout",
     "output_type": "stream",
     "text": [
      "Archive:  uncased_L-12_H-768_A-12.zip\n",
      "   creating: uncased_L-12_H-768_A-12/\n",
      "  inflating: uncased_L-12_H-768_A-12/bert_model.ckpt.meta  \n",
      "  inflating: uncased_L-12_H-768_A-12/bert_model.ckpt.data-00000-of-00001  \n",
      "  inflating: uncased_L-12_H-768_A-12/vocab.txt  \n",
      "  inflating: uncased_L-12_H-768_A-12/bert_model.ckpt.index  \n",
      "  inflating: uncased_L-12_H-768_A-12/bert_config.json  \n"
     ]
    }
   ],
   "source": [
    "!unzip uncased_L-12_H-768_A-12.zip"
   ]
  },
  {
   "cell_type": "code",
   "execution_count": 36,
   "metadata": {
    "colab": {},
    "colab_type": "code",
    "id": "4Cgl9mvs8hAl"
   },
   "outputs": [],
   "source": [
    "os.makedirs(\"model\", exist_ok=True)"
   ]
  },
  {
   "cell_type": "code",
   "execution_count": 37,
   "metadata": {
    "colab": {},
    "colab_type": "code",
    "id": "QoY4PY-w9FkN"
   },
   "outputs": [],
   "source": [
    "!mv uncased_L-12_H-768_A-12/ model"
   ]
  },
  {
   "cell_type": "code",
   "execution_count": 38,
   "metadata": {
    "colab": {},
    "colab_type": "code",
    "id": "LbvjbsEb9Ndv"
   },
   "outputs": [],
   "source": [
    "bert_model_name=\"uncased_L-12_H-768_A-12\"\n",
    "\n",
    "bert_ckpt_dir = os.path.join(\"model/\", bert_model_name)\n",
    "bert_ckpt_file = os.path.join(bert_ckpt_dir, \"bert_model.ckpt\")\n",
    "bert_config_file = os.path.join(bert_ckpt_dir, \"bert_config.json\")"
   ]
  },
  {
   "cell_type": "markdown",
   "metadata": {
    "colab_type": "text",
    "id": "3os6qeC6SB-M"
   },
   "source": [
    "## Preprocessing"
   ]
  },
  {
   "cell_type": "code",
   "execution_count": 39,
   "metadata": {
    "colab": {},
    "colab_type": "code",
    "id": "TApTW_wLxoA9"
   },
   "outputs": [],
   "source": [
    "class IslamophobiaDetectionData:\n",
    "  DATA_COLUMN = \"Body\"\n",
    "  LABEL_COLUMN = \"Label\"\n",
    "\n",
    "  def __init__(self, train, test, tokenizer: FullTokenizer, classes, max_seq_len=192):\n",
    "    self.tokenizer = tokenizer\n",
    "    self.max_seq_len = 0\n",
    "    self.classes = classes\n",
    "    \n",
    "    ((self.train_x, self.train_y), (self.test_x, self.test_y)) = map(self._prepare, [train, test])\n",
    "\n",
    "    print(\"max seq_len\", self.max_seq_len)\n",
    "    self.max_seq_len = min(self.max_seq_len, max_seq_len)\n",
    "    self.train_x, self.test_x = map(self._pad, [self.train_x, self.test_x])\n",
    "\n",
    "  def _prepare(self, df):\n",
    "    x, y = [], []\n",
    "    \n",
    "    for _, row in tqdm(df.iterrows()):\n",
    "      text, label = row[IslamophobiaDetectionData.DATA_COLUMN], row[IslamophobiaDetectionData.LABEL_COLUMN]\n",
    "      tokens = self.tokenizer.tokenize(text)\n",
    "      tokens = [\"[CLS]\"] + tokens + [\"[SEP]\"]\n",
    "      token_ids = self.tokenizer.convert_tokens_to_ids(tokens)\n",
    "      self.max_seq_len = max(self.max_seq_len, len(token_ids))\n",
    "      x.append(token_ids)\n",
    "      y.append(self.classes.index(label))\n",
    "\n",
    "    return np.array(x), np.array(y)\n",
    "\n",
    "  def _pad(self, ids):\n",
    "    x = []\n",
    "    for input_ids in ids:\n",
    "      input_ids = input_ids[:min(len(input_ids), self.max_seq_len - 2)]\n",
    "      input_ids = input_ids + [0] * (self.max_seq_len - len(input_ids))\n",
    "      x.append(np.array(input_ids))\n",
    "    return np.array(x)"
   ]
  },
  {
   "cell_type": "code",
   "execution_count": 40,
   "metadata": {
    "colab": {},
    "colab_type": "code",
    "id": "qQWpVG464BuO"
   },
   "outputs": [],
   "source": [
    "tokenizer = FullTokenizer(vocab_file=os.path.join(bert_ckpt_dir, \"vocab.txt\"))"
   ]
  },
  {
   "cell_type": "code",
   "execution_count": 44,
   "metadata": {
    "colab": {},
    "colab_type": "code",
    "id": "xnGGC53P9nC8"
   },
   "outputs": [],
   "source": [
    "def create_model(max_seq_len, bert_ckpt_file):\n",
    "\n",
    "  with tf.io.gfile.GFile(bert_config_file, \"r\") as reader:\n",
    "      bc = StockBertConfig.from_json_string(reader.read())\n",
    "      bert_params = map_stock_config_to_params(bc)\n",
    "      bert_params.adapter_size = None\n",
    "      bert = BertModelLayer.from_params(bert_params, name=\"bert\")\n",
    "        \n",
    "  input_ids = keras.layers.Input(shape=(max_seq_len, ), dtype='int32', name=\"input_ids\")\n",
    "  bert_output = bert(input_ids)\n",
    "\n",
    "  print(\"bert shape\", bert_output.shape)\n",
    "\n",
    "  cls_out = keras.layers.Lambda(lambda seq: seq[:, 0, :])(bert_output)\n",
    "  cls_out = keras.layers.Dropout(0.5)(cls_out)\n",
    "  logits = keras.layers.Dense(units=768, activation=\"tanh\")(cls_out)\n",
    "  logits = keras.layers.Dropout(0.5)(logits)\n",
    "\n",
    "  logits = keras.layers.Dense(units=len(classes), activation=\"softmax\")(logits)\n",
    "\n",
    "\n",
    "  model = keras.Model(inputs=input_ids, outputs=logits)\n",
    "  model.build(input_shape=(None, max_seq_len))\n",
    "\n",
    "  load_stock_weights(bert, bert_ckpt_file)\n",
    "  \n",
    "  model.compile(\n",
    "  optimizer=keras.optimizers.Adam(1e-5),\n",
    "  loss=keras.losses.SparseCategoricalCrossentropy(from_logits=True),\n",
    "  metrics=[keras.metrics.SparseCategoricalAccuracy(name=\"acc\")]\n",
    ")\n",
    "        \n",
    "  return model"
   ]
  },
  {
   "cell_type": "markdown",
   "metadata": {
    "colab_type": "text",
    "id": "67GbMH3WRvZg"
   },
   "source": [
    "## Training"
   ]
  },
  {
   "cell_type": "code",
   "execution_count": 45,
   "metadata": {
    "colab": {
     "base_uri": "https://localhost:8080/",
     "height": 67
    },
    "colab_type": "code",
    "id": "kXyaQY4E9S10",
    "outputId": "9e55e764-9c24-4a31-b014-bae3f773bef4"
   },
   "outputs": [
    {
     "name": "stderr",
     "output_type": "stream",
     "text": [
      "3845it [00:33, 114.45it/s]\n",
      "<ipython-input-39-8c8f83c268e6>:28: VisibleDeprecationWarning: Creating an ndarray from ragged nested sequences (which is a list-or-tuple of lists-or-tuples-or ndarrays with different lengths or shapes) is deprecated. If you meant to do this, you must specify 'dtype=object' when creating the ndarray.\n",
      "  return np.array(x), np.array(y)\n",
      "428it [00:03, 107.27it/s]\n"
     ]
    },
    {
     "name": "stdout",
     "output_type": "stream",
     "text": [
      "max seq_len 7126\n"
     ]
    }
   ],
   "source": [
    "classes = train.Label.unique().tolist()\n",
    "\n",
    "data = IslamophobiaDetectionData(train, test, tokenizer, classes, max_seq_len=128)"
   ]
  },
  {
   "cell_type": "code",
   "execution_count": 53,
   "metadata": {
    "colab": {
     "base_uri": "https://localhost:8080/",
     "height": 238
    },
    "colab_type": "code",
    "id": "TizDFiPC9n4b",
    "outputId": "e91d9042-5973-4bfa-a2cb-8d7740d913b6"
   },
   "outputs": [
    {
     "ename": "TypeError",
     "evalue": "Exception encountered when calling layer \"bert\" (type BertModelLayer).\n\nin user code:\n\n    File \"/Users/syedshayanjamal/opt/anaconda3/lib/python3.8/site-packages/bert/model.py\", line 80, in call  *\n        output           = self.encoders_layer(embedding_output, mask=mask, training=training)\n    File \"/Users/syedshayanjamal/opt/anaconda3/lib/python3.8/site-packages/keras/utils/traceback_utils.py\", line 67, in error_handler  **\n        raise e.with_traceback(filtered_tb) from None\n    File \"/Users/syedshayanjamal/opt/anaconda3/lib/python3.8/site-packages/bert/transformer.py\", line 209, in build\n        self.input_spec = keras.layers.InputSpec(shape=input_shape)\n\n    TypeError: Layer input_spec must be an instance of InputSpec. Got: InputSpec(shape=(None, 128, 768), ndim=3)\n\n\nCall arguments received:\n  • inputs=tf.Tensor(shape=(None, 128), dtype=int32)\n  • mask=None\n  • training=False",
     "output_type": "error",
     "traceback": [
      "\u001b[0;31m---------------------------------------------------------------------------\u001b[0m",
      "\u001b[0;31mTypeError\u001b[0m                                 Traceback (most recent call last)",
      "\u001b[0;32m<ipython-input-53-9609c396a3ce>\u001b[0m in \u001b[0;36m<module>\u001b[0;34m\u001b[0m\n\u001b[0;32m----> 1\u001b[0;31m \u001b[0mmodel\u001b[0m \u001b[0;34m=\u001b[0m \u001b[0mcreate_model\u001b[0m\u001b[0;34m(\u001b[0m\u001b[0mdata\u001b[0m\u001b[0;34m.\u001b[0m\u001b[0mmax_seq_len\u001b[0m\u001b[0;34m,\u001b[0m \u001b[0mbert_ckpt_file\u001b[0m\u001b[0;34m)\u001b[0m\u001b[0;34m\u001b[0m\u001b[0;34m\u001b[0m\u001b[0m\n\u001b[0m",
      "\u001b[0;32m<ipython-input-44-ff65485c57c0>\u001b[0m in \u001b[0;36mcreate_model\u001b[0;34m(max_seq_len, bert_ckpt_file)\u001b[0m\n\u001b[1;32m      8\u001b[0m \u001b[0;34m\u001b[0m\u001b[0m\n\u001b[1;32m      9\u001b[0m   \u001b[0minput_ids\u001b[0m \u001b[0;34m=\u001b[0m \u001b[0mkeras\u001b[0m\u001b[0;34m.\u001b[0m\u001b[0mlayers\u001b[0m\u001b[0;34m.\u001b[0m\u001b[0mInput\u001b[0m\u001b[0;34m(\u001b[0m\u001b[0mshape\u001b[0m\u001b[0;34m=\u001b[0m\u001b[0;34m(\u001b[0m\u001b[0mmax_seq_len\u001b[0m\u001b[0;34m,\u001b[0m \u001b[0;34m)\u001b[0m\u001b[0;34m,\u001b[0m \u001b[0mdtype\u001b[0m\u001b[0;34m=\u001b[0m\u001b[0;34m'int32'\u001b[0m\u001b[0;34m,\u001b[0m \u001b[0mname\u001b[0m\u001b[0;34m=\u001b[0m\u001b[0;34m\"input_ids\"\u001b[0m\u001b[0;34m)\u001b[0m\u001b[0;34m\u001b[0m\u001b[0;34m\u001b[0m\u001b[0m\n\u001b[0;32m---> 10\u001b[0;31m   \u001b[0mbert_output\u001b[0m \u001b[0;34m=\u001b[0m \u001b[0mbert\u001b[0m\u001b[0;34m(\u001b[0m\u001b[0minput_ids\u001b[0m\u001b[0;34m)\u001b[0m\u001b[0;34m\u001b[0m\u001b[0;34m\u001b[0m\u001b[0m\n\u001b[0m\u001b[1;32m     11\u001b[0m \u001b[0;34m\u001b[0m\u001b[0m\n\u001b[1;32m     12\u001b[0m   \u001b[0mprint\u001b[0m\u001b[0;34m(\u001b[0m\u001b[0;34m\"bert shape\"\u001b[0m\u001b[0;34m,\u001b[0m \u001b[0mbert_output\u001b[0m\u001b[0;34m.\u001b[0m\u001b[0mshape\u001b[0m\u001b[0;34m)\u001b[0m\u001b[0;34m\u001b[0m\u001b[0;34m\u001b[0m\u001b[0m\n",
      "\u001b[0;32m~/opt/anaconda3/lib/python3.8/site-packages/keras/utils/traceback_utils.py\u001b[0m in \u001b[0;36merror_handler\u001b[0;34m(*args, **kwargs)\u001b[0m\n\u001b[1;32m     65\u001b[0m     \u001b[0;32mexcept\u001b[0m \u001b[0mException\u001b[0m \u001b[0;32mas\u001b[0m \u001b[0me\u001b[0m\u001b[0;34m:\u001b[0m  \u001b[0;31m# pylint: disable=broad-except\u001b[0m\u001b[0;34m\u001b[0m\u001b[0;34m\u001b[0m\u001b[0m\n\u001b[1;32m     66\u001b[0m       \u001b[0mfiltered_tb\u001b[0m \u001b[0;34m=\u001b[0m \u001b[0m_process_traceback_frames\u001b[0m\u001b[0;34m(\u001b[0m\u001b[0me\u001b[0m\u001b[0;34m.\u001b[0m\u001b[0m__traceback__\u001b[0m\u001b[0;34m)\u001b[0m\u001b[0;34m\u001b[0m\u001b[0;34m\u001b[0m\u001b[0m\n\u001b[0;32m---> 67\u001b[0;31m       \u001b[0;32mraise\u001b[0m \u001b[0me\u001b[0m\u001b[0;34m.\u001b[0m\u001b[0mwith_traceback\u001b[0m\u001b[0;34m(\u001b[0m\u001b[0mfiltered_tb\u001b[0m\u001b[0;34m)\u001b[0m \u001b[0;32mfrom\u001b[0m \u001b[0;32mNone\u001b[0m\u001b[0;34m\u001b[0m\u001b[0;34m\u001b[0m\u001b[0m\n\u001b[0m\u001b[1;32m     68\u001b[0m     \u001b[0;32mfinally\u001b[0m\u001b[0;34m:\u001b[0m\u001b[0;34m\u001b[0m\u001b[0;34m\u001b[0m\u001b[0m\n\u001b[1;32m     69\u001b[0m       \u001b[0;32mdel\u001b[0m \u001b[0mfiltered_tb\u001b[0m\u001b[0;34m\u001b[0m\u001b[0;34m\u001b[0m\u001b[0m\n",
      "\u001b[0;32m~/opt/anaconda3/lib/python3.8/site-packages/tensorflow/python/autograph/impl/api.py\u001b[0m in \u001b[0;36mwrapper\u001b[0;34m(*args, **kwargs)\u001b[0m\n\u001b[1;32m    690\u001b[0m   \u001b[0mUnlike\u001b[0m\u001b[0;31m \u001b[0m\u001b[0;31m`\u001b[0m\u001b[0mtf\u001b[0m\u001b[0;34m.\u001b[0m\u001b[0mfunction\u001b[0m\u001b[0;31m`\u001b[0m\u001b[0;34m,\u001b[0m\u001b[0;31m \u001b[0m\u001b[0;31m`\u001b[0m\u001b[0mto_graph\u001b[0m\u001b[0;31m`\u001b[0m \u001b[0;32mis\u001b[0m \u001b[0ma\u001b[0m \u001b[0mlow\u001b[0m\u001b[0;34m-\u001b[0m\u001b[0mlevel\u001b[0m \u001b[0mtranspiler\u001b[0m \u001b[0mthat\u001b[0m \u001b[0mconverts\u001b[0m\u001b[0;34m\u001b[0m\u001b[0;34m\u001b[0m\u001b[0m\n\u001b[1;32m    691\u001b[0m   \u001b[0mPython\u001b[0m \u001b[0mcode\u001b[0m \u001b[0mto\u001b[0m \u001b[0mTensorFlow\u001b[0m \u001b[0mgraph\u001b[0m \u001b[0mcode\u001b[0m\u001b[0;34m.\u001b[0m \u001b[0mIt\u001b[0m \u001b[0mdoes\u001b[0m \u001b[0;32mnot\u001b[0m \u001b[0mimplement\u001b[0m \u001b[0many\u001b[0m \u001b[0mcaching\u001b[0m\u001b[0;34m,\u001b[0m\u001b[0;34m\u001b[0m\u001b[0;34m\u001b[0m\u001b[0m\n\u001b[0;32m--> 692\u001b[0;31m   \u001b[0mvariable\u001b[0m \u001b[0mmanagement\u001b[0m \u001b[0;32mor\u001b[0m \u001b[0mcreate\u001b[0m \u001b[0many\u001b[0m \u001b[0mactual\u001b[0m \u001b[0mops\u001b[0m\u001b[0;34m,\u001b[0m \u001b[0;32mand\u001b[0m \u001b[0;32mis\u001b[0m \u001b[0mbest\u001b[0m \u001b[0mused\u001b[0m \u001b[0mwhere\u001b[0m \u001b[0mgreater\u001b[0m\u001b[0;34m\u001b[0m\u001b[0;34m\u001b[0m\u001b[0m\n\u001b[0m\u001b[1;32m    693\u001b[0m   \u001b[0mcontrol\u001b[0m \u001b[0mover\u001b[0m \u001b[0mthe\u001b[0m \u001b[0mgenerated\u001b[0m \u001b[0mTensorFlow\u001b[0m \u001b[0mgraph\u001b[0m \u001b[0;32mis\u001b[0m \u001b[0mdesired\u001b[0m\u001b[0;34m.\u001b[0m \u001b[0mAnother\u001b[0m \u001b[0mdifference\u001b[0m\u001b[0;34m\u001b[0m\u001b[0;34m\u001b[0m\u001b[0m\n\u001b[1;32m    694\u001b[0m   \u001b[0;32mfrom\u001b[0m\u001b[0;31m \u001b[0m\u001b[0;31m`\u001b[0m\u001b[0mtf\u001b[0m\u001b[0;34m.\u001b[0m\u001b[0mfunction\u001b[0m\u001b[0;31m`\u001b[0m \u001b[0;32mis\u001b[0m \u001b[0mthat\u001b[0m\u001b[0;31m \u001b[0m\u001b[0;31m`\u001b[0m\u001b[0mto_graph\u001b[0m\u001b[0;31m`\u001b[0m \u001b[0mwill\u001b[0m \u001b[0;32mnot\u001b[0m \u001b[0mwrap\u001b[0m \u001b[0mthe\u001b[0m \u001b[0mgraph\u001b[0m \u001b[0minto\u001b[0m \u001b[0ma\u001b[0m\u001b[0;34m\u001b[0m\u001b[0;34m\u001b[0m\u001b[0m\n",
      "\u001b[0;31mTypeError\u001b[0m: Exception encountered when calling layer \"bert\" (type BertModelLayer).\n\nin user code:\n\n    File \"/Users/syedshayanjamal/opt/anaconda3/lib/python3.8/site-packages/bert/model.py\", line 80, in call  *\n        output           = self.encoders_layer(embedding_output, mask=mask, training=training)\n    File \"/Users/syedshayanjamal/opt/anaconda3/lib/python3.8/site-packages/keras/utils/traceback_utils.py\", line 67, in error_handler  **\n        raise e.with_traceback(filtered_tb) from None\n    File \"/Users/syedshayanjamal/opt/anaconda3/lib/python3.8/site-packages/bert/transformer.py\", line 209, in build\n        self.input_spec = keras.layers.InputSpec(shape=input_shape)\n\n    TypeError: Layer input_spec must be an instance of InputSpec. Got: InputSpec(shape=(None, 128, 768), ndim=3)\n\n\nCall arguments received:\n  • inputs=tf.Tensor(shape=(None, 128), dtype=int32)\n  • mask=None\n  • training=False"
     ]
    }
   ],
   "source": [
    "model = create_model(data.max_seq_len, bert_ckpt_file)"
   ]
  },
  {
   "cell_type": "code",
   "execution_count": 36,
   "metadata": {
    "colab": {
     "base_uri": "https://localhost:8080/",
     "height": 386
    },
    "colab_type": "code",
    "id": "XjUkMjiGbC7f",
    "outputId": "bea15a19-6e57-42fb-deb6-63dbe9c92e89"
   },
   "outputs": [
    {
     "name": "stdout",
     "output_type": "stream",
     "text": [
      "Model: \"functional_1\"\n",
      "_________________________________________________________________\n",
      "Layer (type)                 Output Shape              Param #   \n",
      "=================================================================\n",
      "input_ids (InputLayer)       [(None, 128)]             0         \n",
      "_________________________________________________________________\n",
      "bert (BertModelLayer)        (None, 128, 768)          108890112 \n",
      "_________________________________________________________________\n",
      "lambda (Lambda)              (None, 768)               0         \n",
      "_________________________________________________________________\n",
      "dropout (Dropout)            (None, 768)               0         \n",
      "_________________________________________________________________\n",
      "dense (Dense)                (None, 768)               590592    \n",
      "_________________________________________________________________\n",
      "dropout_1 (Dropout)          (None, 768)               0         \n",
      "_________________________________________________________________\n",
      "dense_1 (Dense)              (None, 3)                 2307      \n",
      "=================================================================\n",
      "Total params: 109,483,011\n",
      "Trainable params: 109,483,011\n",
      "Non-trainable params: 0\n",
      "_________________________________________________________________\n"
     ]
    }
   ],
   "source": [
    "model.summary()"
   ]
  },
  {
   "cell_type": "code",
   "execution_count": 37,
   "metadata": {
    "colab": {
     "base_uri": "https://localhost:8080/",
     "height": 222
    },
    "colab_type": "code",
    "id": "oIjlbG8u9xis",
    "outputId": "556568cd-6b80-4797-9cc2-30184668e006"
   },
   "outputs": [
    {
     "name": "stdout",
     "output_type": "stream",
     "text": [
      "Epoch 1/5\n",
      "540/540 [==============================] - ETA: 0s - loss: 0.7954 - acc: 0.7319WARNING:tensorflow:Callbacks method `on_test_batch_end` is slow compared to the batch time (batch time: 0.0078s vs `on_test_batch_end` time: 0.0719s). Check your callbacks.\n",
      "540/540 [==============================] - 246s 455ms/step - loss: 0.7954 - acc: 0.7319 - val_loss: 0.6087 - val_acc: 0.9406\n",
      "Epoch 2/5\n",
      "540/540 [==============================] - 244s 452ms/step - loss: 0.6010 - acc: 0.9507 - val_loss: 0.5871 - val_acc: 0.9635\n",
      "Epoch 3/5\n",
      "540/540 [==============================] - 244s 451ms/step - loss: 0.5894 - acc: 0.9619 - val_loss: 0.5858 - val_acc: 0.9656\n",
      "Epoch 4/5\n",
      "540/540 [==============================] - 244s 451ms/step - loss: 0.5849 - acc: 0.9667 - val_loss: 0.5896 - val_acc: 0.9625\n",
      "Epoch 5/5\n",
      "540/540 [==============================] - 244s 453ms/step - loss: 0.5826 - acc: 0.9690 - val_loss: 0.5775 - val_acc: 0.9740\n"
     ]
    }
   ],
   "source": [
    "history = model.fit(\n",
    "  x=data.train_x, \n",
    "  y=data.train_y,\n",
    "  validation_split=0.1,\n",
    "  batch_size=16,\n",
    "  shuffle=True,\n",
    "  epochs=5\n",
    ")"
   ]
  },
  {
   "cell_type": "markdown",
   "metadata": {
    "colab_type": "text",
    "id": "6s31ZIADSGNp"
   },
   "source": [
    "## Evaluation"
   ]
  },
  {
   "cell_type": "code",
   "execution_count": 38,
   "metadata": {
    "colab": {
     "base_uri": "https://localhost:8080/",
     "height": 523
    },
    "colab_type": "code",
    "id": "5XLlcuVC1lLE",
    "outputId": "bc930b86-472d-43ad-c138-bf3fbd0b12af"
   },
   "outputs": [
    {
     "data": {
      "image/png": "[encoded data removed]",
      "text/plain": [
       "<Figure size 864x576 with 1 Axes>"
      ]
     },
     "metadata": {
      "image/png": {
       "height": 506,
       "width": 740
      },
      "tags": []
     },
     "output_type": "display_data"
    }
   ],
   "source": [
    "ax = plt.figure().gca()\n",
    "ax.xaxis.set_major_locator(MaxNLocator(integer=True))\n",
    "\n",
    "ax.plot(history.history['loss'])\n",
    "ax.plot(history.history['val_loss'])\n",
    "plt.ylabel('Loss')\n",
    "plt.xlabel('Epoch')\n",
    "plt.legend(['train', 'test'])\n",
    "plt.title('Loss over training epochs')\n",
    "plt.show();"
   ]
  },
  {
   "cell_type": "code",
   "execution_count": 39,
   "metadata": {
    "colab": {
     "base_uri": "https://localhost:8080/",
     "height": 523
    },
    "colab_type": "code",
    "id": "yZ7CVW_71m0Q",
    "outputId": "6453695d-3b09-4092-f486-febda9d9ce95"
   },
   "outputs": [
    {
     "data": {
      "image/png": "[encoded data removed]",
      "text/plain": [
       "<Figure size 864x576 with 1 Axes>"
      ]
     },
     "metadata": {
      "image/png": {
       "height": 506,
       "width": 740
      },
      "tags": []
     },
     "output_type": "display_data"
    }
   ],
   "source": [
    "ax = plt.figure().gca()\n",
    "ax.xaxis.set_major_locator(MaxNLocator(integer=True))\n",
    "\n",
    "ax.plot(history.history['acc'])\n",
    "ax.plot(history.history['val_acc'])\n",
    "plt.ylabel('Accuracy')\n",
    "plt.xlabel('Epoch')\n",
    "plt.legend(['train', 'test'])\n",
    "plt.title('Accuracy over training epochs')\n",
    "plt.show();"
   ]
  },
  {
   "cell_type": "code",
   "execution_count": 40,
   "metadata": {
    "colab": {
     "base_uri": "https://localhost:8080/",
     "height": 84
    },
    "colab_type": "code",
    "id": "RGAECSj4AiD1",
    "outputId": "8612f249-48da-489e-f9f1-4a9156320e8f"
   },
   "outputs": [
    {
     "name": "stdout",
     "output_type": "stream",
     "text": [
      "300/300 [==============================] - 53s 176ms/step - loss: 0.5755 - acc: 0.9760\n",
      "34/34 [==============================] - 6s 169ms/step - loss: 0.5963 - acc: 0.9560\n",
      "train acc 0.9760316610336304\n",
      "test acc 0.9559512734413147\n"
     ]
    }
   ],
   "source": [
    "_, train_acc = model.evaluate(data.train_x, data.train_y)\n",
    "_, test_acc = model.evaluate(data.test_x, data.test_y)\n",
    "\n",
    "print(\"train acc\", train_acc)\n",
    "print(\"test acc\", test_acc)"
   ]
  },
  {
   "cell_type": "code",
   "execution_count": 41,
   "metadata": {
    "colab": {},
    "colab_type": "code",
    "id": "Leg5atNmPzGb"
   },
   "outputs": [],
   "source": [
    "y_pred = model.predict(data.test_x).argmax(axis=-1)"
   ]
  },
  {
   "cell_type": "code",
   "execution_count": 42,
   "metadata": {
    "colab": {
     "base_uri": "https://localhost:8080/",
     "height": 185
    },
    "colab_type": "code",
    "id": "SZYriKx6UUOb",
    "outputId": "5270b1e9-d25c-498a-8e30-ee794b8f9aae"
   },
   "outputs": [
    {
     "name": "stdout",
     "output_type": "stream",
     "text": [
      "              precision    recall  f1-score   support\n",
      "\n",
      "           0       0.96      0.93      0.94       351\n",
      "           1       0.92      0.97      0.94       342\n",
      "           2       0.99      0.97      0.98       374\n",
      "\n",
      "    accuracy                           0.96      1067\n",
      "   macro avg       0.96      0.96      0.96      1067\n",
      "weighted avg       0.96      0.96      0.96      1067\n",
      "\n"
     ]
    }
   ],
   "source": [
    "print(classification_report(data.test_y, y_pred))"
   ]
  },
  {
   "cell_type": "code",
   "execution_count": 43,
   "metadata": {
    "colab": {},
    "colab_type": "code",
    "id": "lS-5TbGDP4rr"
   },
   "outputs": [],
   "source": [
    "\n",
    "cm = confusion_matrix(data.test_y, y_pred)\n",
    "df_cm = pd.DataFrame(cm, index=classes, columns=classes)"
   ]
  },
  {
   "cell_type": "code",
   "execution_count": 44,
   "metadata": {
    "colab": {
     "base_uri": "https://localhost:8080/",
     "height": 509
    },
    "colab_type": "code",
    "id": "DgkPl9gLS4DL",
    "outputId": "2035c9db-1232-472f-88f6-817f79aec79a"
   },
   "outputs": [
    {
     "data": {
      "image/png": "[encoded data removed]",
      "text/plain": [
       "<Figure size 864x576 with 2 Axes>"
      ]
     },
     "metadata": {
      "image/png": {
       "height": 492,
       "width": 675
      },
      "tags": []
     },
     "output_type": "display_data"
    }
   ],
   "source": [
    "hmap = sns.heatmap(df_cm, annot=True, fmt=\"d\")\n",
    "hmap.yaxis.set_ticklabels(hmap.yaxis.get_ticklabels(), rotation=0, ha='right')\n",
    "hmap.xaxis.set_ticklabels(hmap.xaxis.get_ticklabels(), rotation=30, ha='right')\n",
    "plt.ylabel('True label')\n",
    "plt.xlabel('Predicted label');"
   ]
  },
  {
   "cell_type": "markdown",
   "metadata": {
    "colab_type": "text",
    "id": "w7IeHfcq71fn"
   },
   "source": [
    "# 10 Fold cross validation"
   ]
  },
  {
   "cell_type": "code",
   "execution_count": 45,
   "metadata": {
    "colab": {
     "base_uri": "https://localhost:8080/",
     "height": 1000
    },
    "colab_type": "code",
    "id": "sHHv3pbeU8MZ",
    "outputId": "747c3d1d-b64b-47d3-a4da-ad85bc1ebb2a"
   },
   "outputs": [
    {
     "name": "stderr",
     "output_type": "stream",
     "text": [
      "283it [00:00, 2828.56it/s]"
     ]
    },
    {
     "name": "stdout",
     "output_type": "stream",
     "text": [
      "BERT: \n",
      "Fold  1\n",
      "\n"
     ]
    },
    {
     "name": "stderr",
     "output_type": "stream",
     "text": [
      "9596it [00:03, 2542.80it/s]\n",
      "1067it [00:00, 2812.10it/s]\n"
     ]
    },
    {
     "name": "stdout",
     "output_type": "stream",
     "text": [
      "max seq_len 338\n",
      "Done loading 196 BERT weights from: model/uncased_L-12_H-768_A-12/bert_model.ckpt into <bert.model.BertModelLayer object at 0x7f5b520e5710> (prefix:bert). Count of weights not found in the checkpoint was: [0]. Count of weights with mismatched shape: [0]\n",
      "Unused weights from checkpoint: \n",
      "\tbert/embeddings/token_type_embeddings\n",
      "\tbert/pooler/dense/bias\n",
      "\tbert/pooler/dense/kernel\n",
      "\tcls/predictions/output_bias\n",
      "\tcls/predictions/transform/LayerNorm/beta\n",
      "\tcls/predictions/transform/LayerNorm/gamma\n",
      "\tcls/predictions/transform/dense/bias\n",
      "\tcls/predictions/transform/dense/kernel\n",
      "\tcls/seq_relationship/output_bias\n",
      "\tcls/seq_relationship/output_weights\n",
      "Epoch 1/5\n",
      "540/540 [==============================] - ETA: 0s - loss: 0.6757 - acc: 0.8749WARNING:tensorflow:Callbacks method `on_test_batch_end` is slow compared to the batch time (batch time: 0.0073s vs `on_test_batch_end` time: 0.0720s). Check your callbacks.\n",
      "540/540 [==============================] - 245s 453ms/step - loss: 0.6757 - acc: 0.8749 - val_loss: 0.6038 - val_acc: 0.9490\n",
      "Epoch 2/5\n",
      "540/540 [==============================] - 243s 449ms/step - loss: 0.5957 - acc: 0.9563 - val_loss: 0.5914 - val_acc: 0.9573\n",
      "Epoch 3/5\n",
      "540/540 [==============================] - 242s 448ms/step - loss: 0.5885 - acc: 0.9633 - val_loss: 0.5958 - val_acc: 0.9542\n",
      "Epoch 4/5\n",
      "540/540 [==============================] - 242s 448ms/step - loss: 0.5826 - acc: 0.9685 - val_loss: 0.5818 - val_acc: 0.9688\n",
      "Epoch 5/5\n",
      "540/540 [==============================] - 242s 448ms/step - loss: 0.5788 - acc: 0.9731 - val_loss: 0.5836 - val_acc: 0.9677\n",
      "34/34 [==============================] - 6s 167ms/step - loss: 0.5955 - acc: 0.9560\n"
     ]
    },
    {
     "name": "stderr",
     "output_type": "stream",
     "text": [
      "271it [00:00, 2707.16it/s]"
     ]
    },
    {
     "name": "stdout",
     "output_type": "stream",
     "text": [
      "Fold  2\n",
      "\n"
     ]
    },
    {
     "name": "stderr",
     "output_type": "stream",
     "text": [
      "9596it [00:04, 2300.67it/s]\n",
      "1067it [00:00, 2844.87it/s]\n"
     ]
    },
    {
     "name": "stdout",
     "output_type": "stream",
     "text": [
      "max seq_len 338\n",
      "Done loading 196 BERT weights from: model/uncased_L-12_H-768_A-12/bert_model.ckpt into <bert.model.BertModelLayer object at 0x7f5947179fd0> (prefix:bert). Count of weights not found in the checkpoint was: [0]. Count of weights with mismatched shape: [0]\n",
      "Unused weights from checkpoint: \n",
      "\tbert/embeddings/token_type_embeddings\n",
      "\tbert/pooler/dense/bias\n",
      "\tbert/pooler/dense/kernel\n",
      "\tcls/predictions/output_bias\n",
      "\tcls/predictions/transform/LayerNorm/beta\n",
      "\tcls/predictions/transform/LayerNorm/gamma\n",
      "\tcls/predictions/transform/dense/bias\n",
      "\tcls/predictions/transform/dense/kernel\n",
      "\tcls/seq_relationship/output_bias\n",
      "\tcls/seq_relationship/output_weights\n",
      "Epoch 1/5\n",
      "540/540 [==============================] - ETA: 0s - loss: 0.6733 - acc: 0.8782WARNING:tensorflow:Callbacks method `on_test_batch_end` is slow compared to the batch time (batch time: 0.0074s vs `on_test_batch_end` time: 0.0717s). Check your callbacks.\n",
      "540/540 [==============================] - 246s 455ms/step - loss: 0.6733 - acc: 0.8782 - val_loss: 0.6054 - val_acc: 0.9458\n",
      "Epoch 2/5\n",
      "540/540 [==============================] - 245s 453ms/step - loss: 0.5938 - acc: 0.9573 - val_loss: 0.5938 - val_acc: 0.9563\n",
      "Epoch 3/5\n",
      "540/540 [==============================] - 245s 453ms/step - loss: 0.5861 - acc: 0.9649 - val_loss: 0.5875 - val_acc: 0.9625\n",
      "Epoch 4/5\n",
      "540/540 [==============================] - 244s 451ms/step - loss: 0.5800 - acc: 0.9712 - val_loss: 0.5866 - val_acc: 0.9635\n",
      "Epoch 5/5\n",
      "540/540 [==============================] - 243s 451ms/step - loss: 0.5771 - acc: 0.9744 - val_loss: 0.5857 - val_acc: 0.9646\n",
      "34/34 [==============================] - 6s 168ms/step - loss: 0.5759 - acc: 0.9756\n"
     ]
    },
    {
     "name": "stderr",
     "output_type": "stream",
     "text": [
      "283it [00:00, 2824.17it/s]"
     ]
    },
    {
     "name": "stdout",
     "output_type": "stream",
     "text": [
      "Fold  3\n",
      "\n"
     ]
    },
    {
     "name": "stderr",
     "output_type": "stream",
     "text": [
      "9596it [00:03, 2743.31it/s]\n",
      "1067it [00:00, 2942.33it/s]\n"
     ]
    },
    {
     "name": "stdout",
     "output_type": "stream",
     "text": [
      "max seq_len 338\n",
      "Done loading 196 BERT weights from: model/uncased_L-12_H-768_A-12/bert_model.ckpt into <bert.model.BertModelLayer object at 0x7f5b52d3a438> (prefix:bert). Count of weights not found in the checkpoint was: [0]. Count of weights with mismatched shape: [0]\n",
      "Unused weights from checkpoint: \n",
      "\tbert/embeddings/token_type_embeddings\n",
      "\tbert/pooler/dense/bias\n",
      "\tbert/pooler/dense/kernel\n",
      "\tcls/predictions/output_bias\n",
      "\tcls/predictions/transform/LayerNorm/beta\n",
      "\tcls/predictions/transform/LayerNorm/gamma\n",
      "\tcls/predictions/transform/dense/bias\n",
      "\tcls/predictions/transform/dense/kernel\n",
      "\tcls/seq_relationship/output_bias\n",
      "\tcls/seq_relationship/output_weights\n",
      "Epoch 1/5\n",
      "540/540 [==============================] - ETA: 0s - loss: 0.6864 - acc: 0.8638WARNING:tensorflow:Callbacks method `on_test_batch_end` is slow compared to the batch time (batch time: 0.0073s vs `on_test_batch_end` time: 0.0718s). Check your callbacks.\n",
      "540/540 [==============================] - 244s 452ms/step - loss: 0.6864 - acc: 0.8638 - val_loss: 0.6047 - val_acc: 0.9458\n",
      "Epoch 2/5\n",
      "540/540 [==============================] - 242s 448ms/step - loss: 0.5981 - acc: 0.9526 - val_loss: 0.5883 - val_acc: 0.9615\n",
      "Epoch 3/5\n",
      "540/540 [==============================] - 240s 445ms/step - loss: 0.5896 - acc: 0.9619 - val_loss: 0.5818 - val_acc: 0.9698\n",
      "Epoch 4/5\n",
      "540/540 [==============================] - 241s 446ms/step - loss: 0.5854 - acc: 0.9654 - val_loss: 0.5896 - val_acc: 0.9615\n",
      "Epoch 5/5\n",
      "540/540 [==============================] - 242s 448ms/step - loss: 0.5782 - acc: 0.9728 - val_loss: 0.5847 - val_acc: 0.9677\n",
      "34/34 [==============================] - 6s 168ms/step - loss: 0.5936 - acc: 0.9560\n"
     ]
    },
    {
     "name": "stderr",
     "output_type": "stream",
     "text": [
      "281it [00:00, 2809.54it/s]"
     ]
    },
    {
     "name": "stdout",
     "output_type": "stream",
     "text": [
      "Fold  4\n",
      "\n"
     ]
    },
    {
     "name": "stderr",
     "output_type": "stream",
     "text": [
      "9596it [00:03, 2766.66it/s]\n",
      "1067it [00:00, 2840.45it/s]\n"
     ]
    },
    {
     "name": "stdout",
     "output_type": "stream",
     "text": [
      "max seq_len 338\n",
      "Done loading 196 BERT weights from: model/uncased_L-12_H-768_A-12/bert_model.ckpt into <bert.model.BertModelLayer object at 0x7f5a4b0e8208> (prefix:bert). Count of weights not found in the checkpoint was: [0]. Count of weights with mismatched shape: [0]\n",
      "Unused weights from checkpoint: \n",
      "\tbert/embeddings/token_type_embeddings\n",
      "\tbert/pooler/dense/bias\n",
      "\tbert/pooler/dense/kernel\n",
      "\tcls/predictions/output_bias\n",
      "\tcls/predictions/transform/LayerNorm/beta\n",
      "\tcls/predictions/transform/LayerNorm/gamma\n",
      "\tcls/predictions/transform/dense/bias\n",
      "\tcls/predictions/transform/dense/kernel\n",
      "\tcls/seq_relationship/output_bias\n",
      "\tcls/seq_relationship/output_weights\n",
      "Epoch 1/5\n",
      "540/540 [==============================] - ETA: 0s - loss: 0.6799 - acc: 0.8685WARNING:tensorflow:Callbacks method `on_test_batch_end` is slow compared to the batch time (batch time: 0.0075s vs `on_test_batch_end` time: 0.0718s). Check your callbacks.\n",
      "540/540 [==============================] - 244s 453ms/step - loss: 0.6799 - acc: 0.8685 - val_loss: 0.5987 - val_acc: 0.9521\n",
      "Epoch 2/5\n",
      "540/540 [==============================] - 243s 450ms/step - loss: 0.5962 - acc: 0.9552 - val_loss: 0.5907 - val_acc: 0.9604\n",
      "Epoch 3/5\n",
      "540/540 [==============================] - 243s 449ms/step - loss: 0.5855 - acc: 0.9657 - val_loss: 0.5979 - val_acc: 0.9531\n",
      "Epoch 4/5\n",
      "540/540 [==============================] - 243s 449ms/step - loss: 0.5817 - acc: 0.9700 - val_loss: 0.5872 - val_acc: 0.9635\n",
      "Epoch 5/5\n",
      "540/540 [==============================] - 242s 449ms/step - loss: 0.5789 - acc: 0.9724 - val_loss: 0.5844 - val_acc: 0.9677\n",
      "34/34 [==============================] - 6s 167ms/step - loss: 0.5860 - acc: 0.9653\n"
     ]
    },
    {
     "name": "stderr",
     "output_type": "stream",
     "text": [
      "274it [00:00, 2732.20it/s]"
     ]
    },
    {
     "name": "stdout",
     "output_type": "stream",
     "text": [
      "Fold  5\n",
      "\n"
     ]
    },
    {
     "name": "stderr",
     "output_type": "stream",
     "text": [
      "9596it [00:03, 2809.52it/s]\n",
      "1067it [00:00, 2785.26it/s]\n"
     ]
    },
    {
     "name": "stdout",
     "output_type": "stream",
     "text": [
      "max seq_len 338\n",
      "Done loading 196 BERT weights from: model/uncased_L-12_H-768_A-12/bert_model.ckpt into <bert.model.BertModelLayer object at 0x7f5b7466ee48> (prefix:bert). Count of weights not found in the checkpoint was: [0]. Count of weights with mismatched shape: [0]\n",
      "Unused weights from checkpoint: \n",
      "\tbert/embeddings/token_type_embeddings\n",
      "\tbert/pooler/dense/bias\n",
      "\tbert/pooler/dense/kernel\n",
      "\tcls/predictions/output_bias\n",
      "\tcls/predictions/transform/LayerNorm/beta\n",
      "\tcls/predictions/transform/LayerNorm/gamma\n",
      "\tcls/predictions/transform/dense/bias\n",
      "\tcls/predictions/transform/dense/kernel\n",
      "\tcls/seq_relationship/output_bias\n",
      "\tcls/seq_relationship/output_weights\n",
      "Epoch 1/5\n",
      "540/540 [==============================] - ETA: 0s - loss: 0.6837 - acc: 0.8657WARNING:tensorflow:Callbacks method `on_test_batch_end` is slow compared to the batch time (batch time: 0.0074s vs `on_test_batch_end` time: 0.0720s). Check your callbacks.\n",
      "540/540 [==============================] - 247s 457ms/step - loss: 0.6837 - acc: 0.8657 - val_loss: 0.6061 - val_acc: 0.9448\n",
      "Epoch 2/5\n",
      "540/540 [==============================] - 245s 453ms/step - loss: 0.5984 - acc: 0.9521 - val_loss: 0.5974 - val_acc: 0.9542\n",
      "Epoch 3/5\n",
      "540/540 [==============================] - 245s 453ms/step - loss: 0.5887 - acc: 0.9624 - val_loss: 0.5955 - val_acc: 0.9542\n",
      "Epoch 4/5\n",
      "540/540 [==============================] - 245s 454ms/step - loss: 0.5834 - acc: 0.9675 - val_loss: 0.5836 - val_acc: 0.9688\n",
      "Epoch 5/5\n",
      "540/540 [==============================] - 244s 453ms/step - loss: 0.5800 - acc: 0.9711 - val_loss: 0.5899 - val_acc: 0.9615\n",
      "34/34 [==============================] - 6s 167ms/step - loss: 0.5829 - acc: 0.9681\n"
     ]
    },
    {
     "name": "stderr",
     "output_type": "stream",
     "text": [
      "279it [00:00, 2781.48it/s]"
     ]
    },
    {
     "name": "stdout",
     "output_type": "stream",
     "text": [
      "Fold  6\n",
      "\n"
     ]
    },
    {
     "name": "stderr",
     "output_type": "stream",
     "text": [
      "9596it [00:03, 2779.27it/s]\n",
      "1067it [00:00, 2876.53it/s]\n"
     ]
    },
    {
     "name": "stdout",
     "output_type": "stream",
     "text": [
      "max seq_len 338\n",
      "Done loading 196 BERT weights from: model/uncased_L-12_H-768_A-12/bert_model.ckpt into <bert.model.BertModelLayer object at 0x7f5a4b4085f8> (prefix:bert). Count of weights not found in the checkpoint was: [0]. Count of weights with mismatched shape: [0]\n",
      "Unused weights from checkpoint: \n",
      "\tbert/embeddings/token_type_embeddings\n",
      "\tbert/pooler/dense/bias\n",
      "\tbert/pooler/dense/kernel\n",
      "\tcls/predictions/output_bias\n",
      "\tcls/predictions/transform/LayerNorm/beta\n",
      "\tcls/predictions/transform/LayerNorm/gamma\n",
      "\tcls/predictions/transform/dense/bias\n",
      "\tcls/predictions/transform/dense/kernel\n",
      "\tcls/seq_relationship/output_bias\n",
      "\tcls/seq_relationship/output_weights\n",
      "Epoch 1/5\n",
      "540/540 [==============================] - ETA: 0s - loss: 0.6962 - acc: 0.8491WARNING:tensorflow:Callbacks method `on_test_batch_end` is slow compared to the batch time (batch time: 0.0076s vs `on_test_batch_end` time: 0.0718s). Check your callbacks.\n",
      "540/540 [==============================] - 246s 455ms/step - loss: 0.6962 - acc: 0.8491 - val_loss: 0.5937 - val_acc: 0.9573\n",
      "Epoch 2/5\n",
      "540/540 [==============================] - 244s 452ms/step - loss: 0.5991 - acc: 0.9522 - val_loss: 0.5851 - val_acc: 0.9667\n",
      "Epoch 3/5\n",
      "540/540 [==============================] - 244s 452ms/step - loss: 0.5882 - acc: 0.9632 - val_loss: 0.5839 - val_acc: 0.9677\n",
      "Epoch 4/5\n",
      "540/540 [==============================] - 244s 452ms/step - loss: 0.5852 - acc: 0.9663 - val_loss: 0.5822 - val_acc: 0.9698\n",
      "Epoch 5/5\n",
      "540/540 [==============================] - 244s 453ms/step - loss: 0.5816 - acc: 0.9695 - val_loss: 0.5779 - val_acc: 0.9740\n",
      "34/34 [==============================] - 6s 169ms/step - loss: 0.5814 - acc: 0.9681\n"
     ]
    },
    {
     "name": "stderr",
     "output_type": "stream",
     "text": [
      "278it [00:00, 2777.68it/s]"
     ]
    },
    {
     "name": "stdout",
     "output_type": "stream",
     "text": [
      "Fold  7\n",
      "\n"
     ]
    },
    {
     "name": "stderr",
     "output_type": "stream",
     "text": [
      "9596it [00:03, 2773.59it/s]\n",
      "1067it [00:00, 2926.64it/s]\n"
     ]
    },
    {
     "name": "stdout",
     "output_type": "stream",
     "text": [
      "max seq_len 338\n",
      "Done loading 196 BERT weights from: model/uncased_L-12_H-768_A-12/bert_model.ckpt into <bert.model.BertModelLayer object at 0x7f5b74543438> (prefix:bert). Count of weights not found in the checkpoint was: [0]. Count of weights with mismatched shape: [0]\n",
      "Unused weights from checkpoint: \n",
      "\tbert/embeddings/token_type_embeddings\n",
      "\tbert/pooler/dense/bias\n",
      "\tbert/pooler/dense/kernel\n",
      "\tcls/predictions/output_bias\n",
      "\tcls/predictions/transform/LayerNorm/beta\n",
      "\tcls/predictions/transform/LayerNorm/gamma\n",
      "\tcls/predictions/transform/dense/bias\n",
      "\tcls/predictions/transform/dense/kernel\n",
      "\tcls/seq_relationship/output_bias\n",
      "\tcls/seq_relationship/output_weights\n",
      "Epoch 1/5\n",
      "540/540 [==============================] - ETA: 0s - loss: 0.7163 - acc: 0.8272WARNING:tensorflow:Callbacks method `on_test_batch_end` is slow compared to the batch time (batch time: 0.0077s vs `on_test_batch_end` time: 0.0717s). Check your callbacks.\n",
      "540/540 [==============================] - 246s 455ms/step - loss: 0.7163 - acc: 0.8272 - val_loss: 0.5996 - val_acc: 0.9510\n",
      "Epoch 2/5\n",
      "540/540 [==============================] - 244s 452ms/step - loss: 0.5986 - acc: 0.9528 - val_loss: 0.5923 - val_acc: 0.9583\n",
      "Epoch 3/5\n",
      "540/540 [==============================] - 243s 451ms/step - loss: 0.5909 - acc: 0.9606 - val_loss: 0.5923 - val_acc: 0.9573\n",
      "Epoch 4/5\n",
      "540/540 [==============================] - 244s 452ms/step - loss: 0.5837 - acc: 0.9664 - val_loss: 0.5839 - val_acc: 0.9667\n",
      "Epoch 5/5\n",
      "540/540 [==============================] - 243s 449ms/step - loss: 0.5803 - acc: 0.9707 - val_loss: 0.5891 - val_acc: 0.9615\n",
      "34/34 [==============================] - 6s 168ms/step - loss: 0.5904 - acc: 0.9606\n"
     ]
    },
    {
     "name": "stderr",
     "output_type": "stream",
     "text": [
      "260it [00:00, 2598.58it/s]"
     ]
    },
    {
     "name": "stdout",
     "output_type": "stream",
     "text": [
      "Fold  8\n",
      "\n"
     ]
    },
    {
     "name": "stderr",
     "output_type": "stream",
     "text": [
      "9596it [00:03, 2771.53it/s]\n",
      "1067it [00:00, 2764.64it/s]\n"
     ]
    },
    {
     "name": "stdout",
     "output_type": "stream",
     "text": [
      "max seq_len 338\n",
      "Done loading 196 BERT weights from: model/uncased_L-12_H-768_A-12/bert_model.ckpt into <bert.model.BertModelLayer object at 0x7f5a49e4de48> (prefix:bert). Count of weights not found in the checkpoint was: [0]. Count of weights with mismatched shape: [0]\n",
      "Unused weights from checkpoint: \n",
      "\tbert/embeddings/token_type_embeddings\n",
      "\tbert/pooler/dense/bias\n",
      "\tbert/pooler/dense/kernel\n",
      "\tcls/predictions/output_bias\n",
      "\tcls/predictions/transform/LayerNorm/beta\n",
      "\tcls/predictions/transform/LayerNorm/gamma\n",
      "\tcls/predictions/transform/dense/bias\n",
      "\tcls/predictions/transform/dense/kernel\n",
      "\tcls/seq_relationship/output_bias\n",
      "\tcls/seq_relationship/output_weights\n",
      "Epoch 1/5\n",
      "540/540 [==============================] - ETA: 0s - loss: 0.7490 - acc: 0.7868WARNING:tensorflow:Callbacks method `on_test_batch_end` is slow compared to the batch time (batch time: 0.0073s vs `on_test_batch_end` time: 0.0719s). Check your callbacks.\n",
      "540/540 [==============================] - 244s 453ms/step - loss: 0.7490 - acc: 0.7868 - val_loss: 0.5998 - val_acc: 0.9510\n",
      "Epoch 2/5\n",
      "540/540 [==============================] - 243s 450ms/step - loss: 0.5975 - acc: 0.9533 - val_loss: 0.6012 - val_acc: 0.9500\n",
      "Epoch 3/5\n",
      "540/540 [==============================] - 242s 449ms/step - loss: 0.5856 - acc: 0.9661 - val_loss: 0.5894 - val_acc: 0.9615\n",
      "Epoch 4/5\n",
      "540/540 [==============================] - 242s 448ms/step - loss: 0.5821 - acc: 0.9690 - val_loss: 0.5878 - val_acc: 0.9625\n",
      "Epoch 5/5\n",
      "540/540 [==============================] - 242s 448ms/step - loss: 0.5808 - acc: 0.9701 - val_loss: 0.5845 - val_acc: 0.9677\n",
      "34/34 [==============================] - 6s 169ms/step - loss: 0.5873 - acc: 0.9625\n"
     ]
    },
    {
     "name": "stderr",
     "output_type": "stream",
     "text": [
      "297it [00:00, 2969.73it/s]"
     ]
    },
    {
     "name": "stdout",
     "output_type": "stream",
     "text": [
      "Fold  9\n",
      "\n"
     ]
    },
    {
     "name": "stderr",
     "output_type": "stream",
     "text": [
      "9596it [00:03, 2819.03it/s]\n",
      "1067it [00:00, 2787.75it/s]\n"
     ]
    },
    {
     "name": "stdout",
     "output_type": "stream",
     "text": [
      "max seq_len 338\n",
      "Done loading 196 BERT weights from: model/uncased_L-12_H-768_A-12/bert_model.ckpt into <bert.model.BertModelLayer object at 0x7f5946555400> (prefix:bert). Count of weights not found in the checkpoint was: [0]. Count of weights with mismatched shape: [0]\n",
      "Unused weights from checkpoint: \n",
      "\tbert/embeddings/token_type_embeddings\n",
      "\tbert/pooler/dense/bias\n",
      "\tbert/pooler/dense/kernel\n",
      "\tcls/predictions/output_bias\n",
      "\tcls/predictions/transform/LayerNorm/beta\n",
      "\tcls/predictions/transform/LayerNorm/gamma\n",
      "\tcls/predictions/transform/dense/bias\n",
      "\tcls/predictions/transform/dense/kernel\n",
      "\tcls/seq_relationship/output_bias\n",
      "\tcls/seq_relationship/output_weights\n",
      "Epoch 1/5\n",
      "540/540 [==============================] - ETA: 0s - loss: 0.6864 - acc: 0.8624WARNING:tensorflow:Callbacks method `on_test_batch_end` is slow compared to the batch time (batch time: 0.0075s vs `on_test_batch_end` time: 0.0718s). Check your callbacks.\n",
      "540/540 [==============================] - 245s 454ms/step - loss: 0.6864 - acc: 0.8624 - val_loss: 0.5911 - val_acc: 0.9594\n",
      "Epoch 2/5\n",
      "540/540 [==============================] - 244s 451ms/step - loss: 0.5969 - acc: 0.9550 - val_loss: 0.5908 - val_acc: 0.9583\n",
      "Epoch 3/5\n",
      "540/540 [==============================] - 244s 451ms/step - loss: 0.5865 - acc: 0.9648 - val_loss: 0.5859 - val_acc: 0.9656\n",
      "Epoch 4/5\n",
      "540/540 [==============================] - 244s 451ms/step - loss: 0.5845 - acc: 0.9672 - val_loss: 0.5821 - val_acc: 0.9698\n",
      "Epoch 5/5\n",
      "540/540 [==============================] - 243s 451ms/step - loss: 0.5822 - acc: 0.9689 - val_loss: 0.5887 - val_acc: 0.9604\n",
      "34/34 [==============================] - 6s 168ms/step - loss: 0.6021 - acc: 0.9485\n"
     ]
    },
    {
     "name": "stderr",
     "output_type": "stream",
     "text": [
      "264it [00:00, 2638.08it/s]"
     ]
    },
    {
     "name": "stdout",
     "output_type": "stream",
     "text": [
      "Fold  10\n",
      "\n"
     ]
    },
    {
     "name": "stderr",
     "output_type": "stream",
     "text": [
      "9596it [00:03, 2753.46it/s]\n",
      "1067it [00:00, 2903.04it/s]\n"
     ]
    },
    {
     "name": "stdout",
     "output_type": "stream",
     "text": [
      "max seq_len 338\n",
      "Done loading 196 BERT weights from: model/uncased_L-12_H-768_A-12/bert_model.ckpt into <bert.model.BertModelLayer object at 0x7f59443f2048> (prefix:bert). Count of weights not found in the checkpoint was: [0]. Count of weights with mismatched shape: [0]\n",
      "Unused weights from checkpoint: \n",
      "\tbert/embeddings/token_type_embeddings\n",
      "\tbert/pooler/dense/bias\n",
      "\tbert/pooler/dense/kernel\n",
      "\tcls/predictions/output_bias\n",
      "\tcls/predictions/transform/LayerNorm/beta\n",
      "\tcls/predictions/transform/LayerNorm/gamma\n",
      "\tcls/predictions/transform/dense/bias\n",
      "\tcls/predictions/transform/dense/kernel\n",
      "\tcls/seq_relationship/output_bias\n",
      "\tcls/seq_relationship/output_weights\n",
      "Epoch 1/5\n",
      "540/540 [==============================] - ETA: 0s - loss: 0.7592 - acc: 0.7780WARNING:tensorflow:Callbacks method `on_test_batch_end` is slow compared to the batch time (batch time: 0.0077s vs `on_test_batch_end` time: 0.0717s). Check your callbacks.\n",
      "540/540 [==============================] - 244s 453ms/step - loss: 0.7592 - acc: 0.7780 - val_loss: 0.6233 - val_acc: 0.9260\n",
      "Epoch 2/5\n",
      "540/540 [==============================] - 243s 449ms/step - loss: 0.6046 - acc: 0.9462 - val_loss: 0.6088 - val_acc: 0.9417\n",
      "Epoch 3/5\n",
      "540/540 [==============================] - 243s 449ms/step - loss: 0.5896 - acc: 0.9617 - val_loss: 0.6118 - val_acc: 0.9375\n",
      "Epoch 4/5\n",
      "540/540 [==============================] - 242s 449ms/step - loss: 0.5853 - acc: 0.9657 - val_loss: 0.5955 - val_acc: 0.9542\n",
      "Epoch 5/5\n",
      "540/540 [==============================] - 243s 449ms/step - loss: 0.5837 - acc: 0.9673 - val_loss: 0.5973 - val_acc: 0.9531\n",
      "34/34 [==============================] - 6s 168ms/step - loss: 0.5906 - acc: 0.9606\n"
     ]
    }
   ],
   "source": [
    "import random\n",
    "from sklearn.metrics import accuracy_score\n",
    "from sklearn.model_selection import train_test_split\n",
    "\n",
    "kFold = 10\n",
    "\n",
    "#To get accuracy of the model for 10 different splits\n",
    "scores = []\n",
    "training_accuracy = []\n",
    "testing_accuracy = []\n",
    "print(\"BERT: \")\n",
    "for i in range(kFold):\n",
    "    print('Fold ', i+1)\n",
    "    print('')\n",
    "    # Splitting data into test and train\n",
    "    train, test = train_test_split(df, test_size=0.10, shuffle = True)\n",
    "\n",
    "    classes = train.Label.unique().tolist()\n",
    "    data = IslamophobiaDetectionData(train, test, tokenizer, classes, max_seq_len=128)\n",
    "    model = create_model(data.max_seq_len, bert_ckpt_file)\n",
    "    history = model.fit( x=data.train_x, y=data.train_y,validation_split=0.1,batch_size=16, shuffle=True,epochs=5)\n",
    "    #train_loss, train_acc = model.evaluate(data.train_x, data.train_y)\n",
    "    test_loss, test_acc = model.evaluate(data.test_x, data.test_y)\n",
    "    \n",
    "    #training_accuracy.append(train_acc)\n",
    "    testing_accuracy.append(test_acc)\n",
    "\n",
    "    y_pred = model.predict(data.test_x).argmax(axis=-1)\n",
    "\n",
    "    scoreValue =accuracy_score(data.test_y, y_pred)\n",
    "    scores.append(scoreValue)\n"
   ]
  },
  {
   "cell_type": "code",
   "execution_count": 46,
   "metadata": {
    "colab": {
     "base_uri": "https://localhost:8080/",
     "height": 67
    },
    "colab_type": "code",
    "id": "RYtq3EIqeqPk",
    "outputId": "b05770a6-8b10-4100-916d-0c332440c8d5"
   },
   "outputs": [
    {
     "name": "stdout",
     "output_type": "stream",
     "text": [
      "\n",
      " Mean predict: 0.9621368322399251\n",
      " Mean testing accuracy for 10 folds: 0.9621368229389191\n"
     ]
    }
   ],
   "source": [
    "\n",
    "print('')\n",
    "Mean_score = sum(scores) / len(scores)\n",
    "print(f\" Mean predict: {Mean_score}\" )\n",
    "\n",
    "mean_test = sum(testing_accuracy)/len(testing_accuracy)\n",
    "print(f\" Mean testing accuracy for 10 folds: {mean_test}\" )"
   ]
  },
  {
   "cell_type": "code",
   "execution_count": 47,
   "metadata": {
    "colab": {
     "base_uri": "https://localhost:8080/",
     "height": 370
    },
    "colab_type": "code",
    "id": "6Feyo0ULAmEW",
    "outputId": "810a47ac-8e6b-45ff-fd3b-ca73fae89e56"
   },
   "outputs": [
    {
     "name": "stdout",
     "output_type": "stream",
     "text": [
      "Hindi:  इसलाम सुंदर है\n",
      "Translated: Islam is beautiful\n",
      "Hindi:   समाज वादी  पार्टी  जिंदाबाद \n",
      "Translated: Samajwadi Party Zindabad\n",
      "Hindi:  'गाजा में दीवाली   की ढेरो बधाई मित्रो 😊💐  #IsraeliBombing 😂😂\n",
      "Translated: 'Happy Diwali greetings in Gaza Friends 😊💐 #IsraeliBombing 😂😂\n",
      "text: Islam is beautiful \n",
      "Label: 1\n",
      "\n",
      "text: Samajwadi Party Zindabad \n",
      "Label: 2\n",
      "\n",
      "text: 'Happy Diwali greetings in Gaza Friends 😊💐 #IsraeliBombing 😂😂 \n",
      "Label: 0\n",
      "\n",
      "text: Play our song now you asshole jehadi muslim \n",
      "Label: 2\n",
      "\n",
      "text: Rate this book as awful \n",
      "Label: 0\n",
      "\n"
     ]
    }
   ],
   "source": [
    "translator = Translator()\n",
    "sentences = []\n",
    "# 1\n",
    "hin_text =  \"इसलाम सुंदर है\"\n",
    "print(\"Hindi: \", hin_text)\n",
    "\n",
    "trans = translator.translate(hin_text, dest='en')\n",
    "print('Translated:', trans.text)\n",
    "sentences.append(trans.text)\n",
    "\n",
    "# 0\n",
    "hin_text =  \" समाज वादी  पार्टी  जिंदाबाद \"\n",
    "print(\"Hindi: \", hin_text)\n",
    "\n",
    "trans = translator.translate(hin_text, dest='en')\n",
    "print('Translated:', trans.text)\n",
    "sentences.append(trans.text)\n",
    "\n",
    "# 2\n",
    "hin_text =  \"'गाजा में दीवाली   की ढेरो बधाई मित्रो 😊💐  #IsraeliBombing 😂😂\"\n",
    "print(\"Hindi: \", hin_text)\n",
    "\n",
    "trans = translator.translate(hin_text, dest='en')\n",
    "print('Translated:', trans.text)\n",
    "sentences.append(trans.text)\n",
    "\n",
    "# 2\n",
    "sentences.append( \"Play our song now you asshole jehadi muslim\")\n",
    "\n",
    "# 0\n",
    "sentences.append( \"Rate this book as awful\")\n",
    "\n",
    "\n",
    "pred_tokens = map(tokenizer.tokenize, sentences)\n",
    "pred_tokens = map(lambda tok: [\"[CLS]\"] + tok + [\"[SEP]\"], pred_tokens)\n",
    "pred_token_ids = list(map(tokenizer.convert_tokens_to_ids, pred_tokens))\n",
    "\n",
    "pred_token_ids = map(lambda tids: tids +[0]*(data.max_seq_len-len(tids)),pred_token_ids)\n",
    "pred_token_ids = np.array(list(pred_token_ids))\n",
    "\n",
    "predictions = model.predict(pred_token_ids).argmax(axis=-1)\n",
    "\n",
    "for text, label in zip(sentences, predictions):\n",
    "  print(\"text:\", text, \"\\nLabel:\", classes[label])\n",
    "  print()"
   ]
  },
  {
   "cell_type": "code",
   "execution_count": 47,
   "metadata": {
    "colab": {},
    "colab_type": "code",
    "id": "J6-dcpQ1IT57"
   },
   "outputs": [],
   "source": []
  }
 ],
 "metadata": {
  "accelerator": "GPU",
  "colab": {
   "collapsed_sections": [],
   "name": "Bert-English-data.ipynb",
   "provenance": [],
   "toc_visible": true
  },
  "kernelspec": {
   "display_name": "Python 3",
   "language": "python",
   "name": "python3"
  },
  "language_info": {
   "codemirror_mode": {
    "name": "ipython",
    "version": 3
   },
   "file_extension": ".py",
   "mimetype": "text/x-python",
   "name": "python",
   "nbconvert_exporter": "python",
   "pygments_lexer": "ipython3",
   "version": "3.8.8"
  }
 },
 "nbformat": 4,
 "nbformat_minor": 1
}
