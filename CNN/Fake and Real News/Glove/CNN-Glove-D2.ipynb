{
 "cells": [
  {
   "cell_type": "markdown",
   "metadata": {},
   "source": [
    "\n",
    "# Convolutional Neural Network CNN\n",
    "1. Using Glove implementing CNN model\n",
    "2. Dispaly Confusion Matrix, precision, recall and F1-score\n",
    "3. Display few prediction using predict module. \n",
    "4. Get 10-fold Average of the CNN model."
   ]
  },
  {
   "cell_type": "code",
   "execution_count": 1,
   "metadata": {},
   "outputs": [],
   "source": [
    "from __future__ import division, print_function\n",
    "\n",
    "# dataframe\n",
    "import pandas as pd\n",
    "\n",
    "# numpy array\n",
    "import numpy as np\n",
    "\n",
    "# figures visualization\n",
    "import matplotlib.pyplot as plt\n",
    "from sklearn.metrics import confusion_matrix \n",
    "import seaborn as sns\n",
    "\n",
    "# calc accuracy\n",
    "from sklearn.metrics import accuracy_score \n",
    "from sklearn.metrics import classification_report \n",
    "\n",
    "# word2vec\n",
    "import gensim \n",
    "from gensim import models\n",
    "from gensim.models import Word2Vec \n",
    "from gensim.models import KeyedVectors\n",
    "\n",
    "# CNN model and keras preprocessing\n",
    "from tensorflow import keras\n",
    "from tensorflow.keras.callbacks import ModelCheckpoint\n",
    "from tensorflow.keras.layers import Dense, Dropout, Reshape, Flatten, concatenate, Input, Conv1D, GlobalMaxPooling1D, Embedding, Conv2D, GlobalMaxPooling2D\n",
    "from tensorflow.keras.models import Sequential\n",
    "from tensorflow.keras.models import Model\n",
    "from tensorflow.keras.preprocessing.text import Tokenizer\n",
    "from tensorflow.keras.preprocessing.sequence import pad_sequences\n",
    "\n",
    "# nltk data preprocessing\n",
    "import nltk\n",
    "from nltk import word_tokenize\n",
    "from nltk.tokenize import sent_tokenize \n",
    "from nltk.stem import WordNetLemmatizer\n",
    "\n",
    "# stopword - remove buzz word\n",
    "from nltk.corpus import stopwords\n",
    "\n",
    "# splitting data\n",
    "from sklearn.model_selection import train_test_split\n",
    "\n",
    "# punctuation - data imbalance\n",
    "import collections\n",
    "import re\n",
    "import string\n",
    "\n",
    "# File path\n",
    "import os\n",
    "import os.path\n",
    "from os import path\n",
    "\n",
    "# Translator\n",
    "import googletrans\n",
    "from googletrans import Translator"
   ]
  },
  {
   "cell_type": "code",
   "execution_count": 2,
   "metadata": {},
   "outputs": [],
   "source": [
    "# original english file\n",
    "filename  = '../../../Data/Real and fake news/news'\n",
    "orig_df = pd.read_csv(filename + '.csv',  \n",
    "               delimiter=',')\n",
    "orig_df.drop(orig_df.columns[[0,1]], axis = 1, inplace = True)\n",
    "# orig_df.columns = ['Text', 'Label']\n",
    "orig_df = orig_df.replace(to_replace=['FAKE', 'REAL'], value=[0, 1])"
   ]
  },
  {
   "cell_type": "code",
   "execution_count": 3,
   "metadata": {},
   "outputs": [],
   "source": [
    "# Run only for English data \n",
    "orig_df[\"text\"] = orig_df[\"text\"].astype(str)\n",
    "orig_df[\"label\"] = orig_df[\"label\"].astype(str)\n",
    "df = orig_df"
   ]
  },
  {
   "cell_type": "code",
   "execution_count": 4,
   "metadata": {},
   "outputs": [
    {
     "data": {
      "text/html": [
       "<div>\n",
       "<style scoped>\n",
       "    .dataframe tbody tr th:only-of-type {\n",
       "        vertical-align: middle;\n",
       "    }\n",
       "\n",
       "    .dataframe tbody tr th {\n",
       "        vertical-align: top;\n",
       "    }\n",
       "\n",
       "    .dataframe thead th {\n",
       "        text-align: right;\n",
       "    }\n",
       "</style>\n",
       "<table border=\"1\" class=\"dataframe\">\n",
       "  <thead>\n",
       "    <tr style=\"text-align: right;\">\n",
       "      <th></th>\n",
       "      <th>text</th>\n",
       "      <th>label</th>\n",
       "    </tr>\n",
       "  </thead>\n",
       "  <tbody>\n",
       "    <tr>\n",
       "      <th>0</th>\n",
       "      <td>Daniel Greenfield, a Shillman Journalism Fello...</td>\n",
       "      <td>0</td>\n",
       "    </tr>\n",
       "    <tr>\n",
       "      <th>1</th>\n",
       "      <td>Google Pinterest Digg Linkedin Reddit Stumbleu...</td>\n",
       "      <td>0</td>\n",
       "    </tr>\n",
       "    <tr>\n",
       "      <th>2</th>\n",
       "      <td>U.S. Secretary of State John F. Kerry said Mon...</td>\n",
       "      <td>1</td>\n",
       "    </tr>\n",
       "    <tr>\n",
       "      <th>3</th>\n",
       "      <td>— Kaydee King (@KaydeeKing) November 9, 2016 T...</td>\n",
       "      <td>0</td>\n",
       "    </tr>\n",
       "    <tr>\n",
       "      <th>4</th>\n",
       "      <td>It's primary day in New York and front-runners...</td>\n",
       "      <td>1</td>\n",
       "    </tr>\n",
       "  </tbody>\n",
       "</table>\n",
       "</div>"
      ],
      "text/plain": [
       "                                                text label\n",
       "0  Daniel Greenfield, a Shillman Journalism Fello...     0\n",
       "1  Google Pinterest Digg Linkedin Reddit Stumbleu...     0\n",
       "2  U.S. Secretary of State John F. Kerry said Mon...     1\n",
       "3  — Kaydee King (@KaydeeKing) November 9, 2016 T...     0\n",
       "4  It's primary day in New York and front-runners...     1"
      ]
     },
     "execution_count": 4,
     "metadata": {},
     "output_type": "execute_result"
    }
   ],
   "source": [
    "df.head()"
   ]
  },
  {
   "cell_type": "markdown",
   "metadata": {},
   "source": [
    "### Class count"
   ]
  },
  {
   "cell_type": "code",
   "execution_count": 5,
   "metadata": {},
   "outputs": [
    {
     "data": {
      "image/png": "[encoded data removed]",
      "text/plain": [
       "<Figure size 432x288 with 1 Axes>"
      ]
     },
     "metadata": {
      "needs_background": "light"
     },
     "output_type": "display_data"
    }
   ],
   "source": [
    "import matplotlib.pyplot as plt\n",
    "fig = plt.figure(figsize=(6,4))\n",
    "df.groupby('label').text.count().plot.bar(ylim=0)\n",
    "plt.show()"
   ]
  },
  {
   "cell_type": "code",
   "execution_count": 6,
   "metadata": {},
   "outputs": [
    {
     "data": {
      "text/plain": [
       "1    3171\n",
       "0    3164\n",
       "Name: label, dtype: int64"
      ]
     },
     "execution_count": 6,
     "metadata": {},
     "output_type": "execute_result"
    }
   ],
   "source": [
    "# For entire dataset sentences for each labels \n",
    "df.label.value_counts()"
   ]
  },
  {
   "cell_type": "markdown",
   "metadata": {},
   "source": [
    "### Balanced Data"
   ]
  },
  {
   "cell_type": "code",
   "execution_count": 8,
   "metadata": {},
   "outputs": [],
   "source": [
    "#balancing data \n",
    "from collections import Counter\n",
    "import numpy as np\n",
    "def balanceClasses(xs, ys):\n",
    "    item = {}\n",
    "    new_ys = []\n",
    "    new_xs = []\n",
    "    #\"\"\"Undersample xs, ys to balance classes.\"\"\"\n",
    "    freqs = Counter(ys)\n",
    "    # the most common class  is the maximum number we want for all classes\n",
    "    max_allowable = (freqs.most_common()[0][1])\n",
    "    \n",
    "    for val in freqs.most_common(): # List\n",
    "        nums = np.random.randint(1000)\n",
    "        i = 1\n",
    "        item[val[0]] = max_allowable - val[1]\n",
    "        \n",
    "        if item[val[0]] > 0:            \n",
    "            while(item[val[0]] - i != 0): \n",
    "                nums = nums + 1\n",
    "                if ys[nums] == val[0]:\n",
    "                    i += 1\n",
    "                    new_ys.append(ys[nums])\n",
    "                    new_xs.append(xs[nums])\n",
    "    return new_xs, new_ys"
   ]
  },
  {
   "cell_type": "code",
   "execution_count": 9,
   "metadata": {},
   "outputs": [],
   "source": [
    "new_text, new_label = balanceClasses(df['text'], df['label'])"
   ]
  },
  {
   "cell_type": "code",
   "execution_count": 10,
   "metadata": {},
   "outputs": [],
   "source": [
    "data = pd.DataFrame(new_text)\n",
    "data.columns = ['text']\n",
    "data['label'] = new_label\n",
    "data = pd.concat([df, data])"
   ]
  },
  {
   "cell_type": "code",
   "execution_count": 11,
   "metadata": {},
   "outputs": [
    {
     "data": {
      "image/png": "[encoded data removed]",
      "text/plain": [
       "<Figure size 432x288 with 1 Axes>"
      ]
     },
     "metadata": {
      "needs_background": "light"
     },
     "output_type": "display_data"
    }
   ],
   "source": [
    "fig1 = plt.figure(figsize=(6,4))\n",
    "data.groupby('label').text.count().plot.bar(ylim=0)\n",
    "plt.show()"
   ]
  },
  {
   "cell_type": "code",
   "execution_count": 12,
   "metadata": {},
   "outputs": [
    {
     "data": {
      "text/plain": [
       "1    3171\n",
       "0    3170\n",
       "Name: label, dtype: int64"
      ]
     },
     "execution_count": 12,
     "metadata": {},
     "output_type": "execute_result"
    }
   ],
   "source": [
    "# For entire dataset sentences for each labels \n",
    "data.label.value_counts()"
   ]
  },
  {
   "cell_type": "code",
   "execution_count": 13,
   "metadata": {},
   "outputs": [
    {
     "data": {
      "text/html": [
       "<div>\n",
       "<style scoped>\n",
       "    .dataframe tbody tr th:only-of-type {\n",
       "        vertical-align: middle;\n",
       "    }\n",
       "\n",
       "    .dataframe tbody tr th {\n",
       "        vertical-align: top;\n",
       "    }\n",
       "\n",
       "    .dataframe thead th {\n",
       "        text-align: right;\n",
       "    }\n",
       "</style>\n",
       "<table border=\"1\" class=\"dataframe\">\n",
       "  <thead>\n",
       "    <tr style=\"text-align: right;\">\n",
       "      <th></th>\n",
       "      <th>text</th>\n",
       "      <th>label</th>\n",
       "    </tr>\n",
       "  </thead>\n",
       "  <tbody>\n",
       "    <tr>\n",
       "      <th>0</th>\n",
       "      <td>link Donald Trump could have a disability that...</td>\n",
       "      <td>0</td>\n",
       "    </tr>\n",
       "    <tr>\n",
       "      <th>1</th>\n",
       "      <td>SAN JOSE, Calif. —Protests outside a Donald Tr...</td>\n",
       "      <td>1</td>\n",
       "    </tr>\n",
       "    <tr>\n",
       "      <th>2</th>\n",
       "      <td>Washington (CNN) The House Benghazi committee ...</td>\n",
       "      <td>1</td>\n",
       "    </tr>\n",
       "    <tr>\n",
       "      <th>3</th>\n",
       "      <td>A white male gunman killed three people, inclu...</td>\n",
       "      <td>1</td>\n",
       "    </tr>\n",
       "    <tr>\n",
       "      <th>4</th>\n",
       "      <td>Being Jeb Bush these days means coping with a ...</td>\n",
       "      <td>1</td>\n",
       "    </tr>\n",
       "    <tr>\n",
       "      <th>...</th>\n",
       "      <td>...</td>\n",
       "      <td>...</td>\n",
       "    </tr>\n",
       "    <tr>\n",
       "      <th>6336</th>\n",
       "      <td>Political parties choose their presidential no...</td>\n",
       "      <td>1</td>\n",
       "    </tr>\n",
       "    <tr>\n",
       "      <th>6337</th>\n",
       "      <td>President Barack Obama will not meet with Isra...</td>\n",
       "      <td>1</td>\n",
       "    </tr>\n",
       "    <tr>\n",
       "      <th>6338</th>\n",
       "      <td>by Yves Smith \\nBy Wolf Richter, a San Francis...</td>\n",
       "      <td>0</td>\n",
       "    </tr>\n",
       "    <tr>\n",
       "      <th>6339</th>\n",
       "      <td>Email \\nEven as surveillance hawks such as FBI...</td>\n",
       "      <td>0</td>\n",
       "    </tr>\n",
       "    <tr>\n",
       "      <th>6340</th>\n",
       "      <td>Shouts of ‘Not my president!’ in California, f...</td>\n",
       "      <td>0</td>\n",
       "    </tr>\n",
       "  </tbody>\n",
       "</table>\n",
       "<p>6341 rows × 2 columns</p>\n",
       "</div>"
      ],
      "text/plain": [
       "                                                   text label\n",
       "0     link Donald Trump could have a disability that...     0\n",
       "1     SAN JOSE, Calif. —Protests outside a Donald Tr...     1\n",
       "2     Washington (CNN) The House Benghazi committee ...     1\n",
       "3     A white male gunman killed three people, inclu...     1\n",
       "4     Being Jeb Bush these days means coping with a ...     1\n",
       "...                                                 ...   ...\n",
       "6336  Political parties choose their presidential no...     1\n",
       "6337  President Barack Obama will not meet with Isra...     1\n",
       "6338  by Yves Smith \\nBy Wolf Richter, a San Francis...     0\n",
       "6339  Email \\nEven as surveillance hawks such as FBI...     0\n",
       "6340  Shouts of ‘Not my president!’ in California, f...     0\n",
       "\n",
       "[6341 rows x 2 columns]"
      ]
     },
     "execution_count": 13,
     "metadata": {},
     "output_type": "execute_result"
    }
   ],
   "source": [
    "\n",
    "data=data.sample(frac=1).reset_index(drop=True)\n",
    "data"
   ]
  },
  {
   "cell_type": "markdown",
   "metadata": {},
   "source": [
    "### Data Preprocessing"
   ]
  },
  {
   "cell_type": "code",
   "execution_count": 14,
   "metadata": {},
   "outputs": [],
   "source": [
    "# People usually join sentences using more than one colon \n",
    "\n",
    "def ReplaceDoubleColon(inputString):\n",
    "    return inputString.replace(\"..\", \" \") \n",
    "\n",
    "data['text'] = data['text'].apply(lambda x: ReplaceDoubleColon(x))\n",
    "\n",
    "def ReplaceTripleColon(inputString):\n",
    "    return inputString.replace(\"...\", \" \") \n",
    "\n",
    "data['text'] = data['text'].apply(lambda x: ReplaceTripleColon(x))\n",
    "\n",
    "def ReplaceFourColon(inputString):\n",
    "    return inputString.replace(\"....\", \" \") \n",
    "\n",
    "data['text'] = data['text'].apply(lambda x: ReplaceFourColon(x))"
   ]
  },
  {
   "cell_type": "code",
   "execution_count": 15,
   "metadata": {},
   "outputs": [],
   "source": [
    "def textPattern(text):\n",
    "\n",
    "    # Clean the text\n",
    "    text = re.sub(r\"[^A-Za-z0-9^,!.\\/'+-=]\", \" \", text)\n",
    "    text = re.sub(r\" \\n \", \" \", text)\n",
    "    text = re.sub(r\"what's\", \"what is\", text)\n",
    "    text = re.sub(r\"\\'s\", \" \", text)\n",
    "    text = re.sub(r\"\\'ve\", \"have\", text)\n",
    "    text = re.sub(r\"can't\", \"can not\", text)\n",
    "    text = re.sub(r\"aren't\", \"are not\", text)\n",
    "    text = re.sub(r\"couldn't\", \"could not\", text)\n",
    "    text = re.sub(r\"didn't\", \"did not\", text)\n",
    "    text = re.sub(r\"doesn't\", \"does not\", text)\n",
    "    text = re.sub(r\"don't\", \"do not\", text)\n",
    "    text = re.sub(r\"hadn't\", \"had not\", text)\n",
    "    text = re.sub(r\"hasn't\", \"has not\", text)\n",
    "    text = re.sub(r\"haven't\", \"have not\", text)\n",
    "    text = re.sub(r\"isn't\", \"is not\", text)\n",
    "    text = re.sub(r\"shouldn't\", \"should not\", text)\n",
    "    text = re.sub(r\"wasn't\", \"was not\", text)\n",
    "    text = re.sub(r\"weren't\", \"were not\", text)\n",
    "    text = re.sub(r\"won't\", \"will not\", text)\n",
    "    text = re.sub(r\"wouldn't\", \"would not\", text)\n",
    "    text = re.sub(r\"mustn't\", \"must not\", text)\n",
    "    text = re.sub(r\"i'm\", \"i am\", text)\n",
    "    text = re.sub(r\"\\'re\", \"are\", text)\n",
    "    text = re.sub(r\",\", \" \", text)\n",
    "    text = re.sub(r\"\\.\", \" \", text)\n",
    "    text = re.sub(r\"!\", \" \", text)\n",
    "    text = re.sub(r\"\\/\", \" \", text)\n",
    "    text = re.sub(r\"\\^\", \" ^ \", text)\n",
    "    text = re.sub(r\"\\+\", \" \", text)\n",
    "    text = re.sub(r\"\\-\", \" - \", text)\n",
    "    text = re.sub(r\"\\= =\", \" \", text)\n",
    "    text = re.sub(r\"\\==\", \" \", text)\n",
    "    text = re.sub(r\"'\", \" \", text)\n",
    "    text = re.sub(r\"(\\d+)(k)\", r\"\\g<1>000\", text)\n",
    "    text = re.sub(r\":\", \" : \", text)\n",
    "    text = re.sub(r\"\\0s\", \"0\", text)\n",
    "    text = re.sub(r\" 9 11 \", \"911\", text)\n",
    "    text = re.sub(r\"\\s{2,}\", \" \", text)\n",
    "    return text\n",
    "\n",
    "data['text'] = data['text'].apply(lambda x: textPattern(x))"
   ]
  },
  {
   "cell_type": "code",
   "execution_count": 16,
   "metadata": {},
   "outputs": [
    {
     "data": {
      "text/plain": [
       "(6341, 2)"
      ]
     },
     "execution_count": 16,
     "metadata": {},
     "output_type": "execute_result"
    }
   ],
   "source": [
    "data.shape"
   ]
  },
  {
   "cell_type": "code",
   "execution_count": 18,
   "metadata": {},
   "outputs": [],
   "source": [
    "# Word Tokenization\n",
    "tokens = [word_tokenize(sen) for sen in data.text]"
   ]
  },
  {
   "cell_type": "code",
   "execution_count": 19,
   "metadata": {},
   "outputs": [],
   "source": [
    "# Lower Case\n",
    "def lower_token(tokens): \n",
    "    return [w.lower() for w in tokens]    \n",
    "    \n",
    "lower_tokens = [lower_token(token) for token in tokens]"
   ]
  },
  {
   "cell_type": "code",
   "execution_count": 20,
   "metadata": {},
   "outputs": [],
   "source": [
    "# Remove Link\n",
    "\n",
    "def removeLink(token):\n",
    "    word = []\n",
    "    for w in token:\n",
    "        if not w.startswith('http'):\n",
    "            word.append(w)\n",
    "    return word \n",
    "    \n",
    "removedLink_tokens = [removeLink(token) for token in lower_tokens]"
   ]
  },
  {
   "cell_type": "code",
   "execution_count": 21,
   "metadata": {},
   "outputs": [],
   "source": [
    "# Word Lemmatization\n",
    "def lemmatization(token):\n",
    "    return [lemmatizer.lemmatize(w) for w in token] \n",
    "\n",
    "lemmatizer = WordNetLemmatizer()\n",
    "\n",
    "lemmatized_tokens = [lemmatization(token) for token in removedLink_tokens]"
   ]
  },
  {
   "cell_type": "code",
   "execution_count": 22,
   "metadata": {},
   "outputs": [],
   "source": [
    "# Removing Stopwords\n",
    "stoplist = stopwords.words('english')"
   ]
  },
  {
   "cell_type": "code",
   "execution_count": 23,
   "metadata": {},
   "outputs": [],
   "source": [
    "def removeStopWords(tokens): \n",
    "    return [word for word in tokens if word not in stoplist]\n",
    "\n",
    "filtered_words = [removeStopWords(sen) for sen in lemmatized_tokens]\n",
    "data['Text_Final'] = [' '.join(sen) for sen in filtered_words]\n",
    "data['tokens'] = filtered_words"
   ]
  },
  {
   "cell_type": "code",
   "execution_count": 27,
   "metadata": {},
   "outputs": [],
   "source": [
    "zero  = []\n",
    "one = []\n",
    "for l in data.label:\n",
    "    \n",
    "    if l == '0':\n",
    "        zero.append(1)\n",
    "        one.append(0)\n",
    "    elif l == '1':\n",
    "        zero.append(0)\n",
    "        one.append(1)\n",
    "        \n",
    "data['0']= zero\n",
    "data['1']= one\n",
    "\n",
    "data = data[['Text_Final', 'tokens', 'label', '0', '1']]"
   ]
  },
  {
   "cell_type": "code",
   "execution_count": 28,
   "metadata": {},
   "outputs": [
    {
     "data": {
      "text/html": [
       "<div>\n",
       "<style scoped>\n",
       "    .dataframe tbody tr th:only-of-type {\n",
       "        vertical-align: middle;\n",
       "    }\n",
       "\n",
       "    .dataframe tbody tr th {\n",
       "        vertical-align: top;\n",
       "    }\n",
       "\n",
       "    .dataframe thead th {\n",
       "        text-align: right;\n",
       "    }\n",
       "</style>\n",
       "<table border=\"1\" class=\"dataframe\">\n",
       "  <thead>\n",
       "    <tr style=\"text-align: right;\">\n",
       "      <th></th>\n",
       "      <th>Text_Final</th>\n",
       "      <th>tokens</th>\n",
       "      <th>label</th>\n",
       "      <th>0</th>\n",
       "      <th>1</th>\n",
       "      <th>Category_id</th>\n",
       "    </tr>\n",
       "  </thead>\n",
       "  <tbody>\n",
       "    <tr>\n",
       "      <th>0</th>\n",
       "      <td>link donald trump could disability used known ...</td>\n",
       "      <td>[link, donald, trump, could, disability, used,...</td>\n",
       "      <td>0</td>\n",
       "      <td>1</td>\n",
       "      <td>0</td>\n",
       "      <td>0</td>\n",
       "    </tr>\n",
       "    <tr>\n",
       "      <th>1</th>\n",
       "      <td>san jose calif protest outside donald trump ra...</td>\n",
       "      <td>[san, jose, calif, protest, outside, donald, t...</td>\n",
       "      <td>1</td>\n",
       "      <td>0</td>\n",
       "      <td>1</td>\n",
       "      <td>1</td>\n",
       "    </tr>\n",
       "    <tr>\n",
       "      <th>2</th>\n",
       "      <td>washington cnn house benghazi committee took b...</td>\n",
       "      <td>[washington, cnn, house, benghazi, committee, ...</td>\n",
       "      <td>1</td>\n",
       "      <td>0</td>\n",
       "      <td>1</td>\n",
       "      <td>1</td>\n",
       "    </tr>\n",
       "    <tr>\n",
       "      <th>3</th>\n",
       "      <td>white male gunman killed three people includin...</td>\n",
       "      <td>[white, male, gunman, killed, three, people, i...</td>\n",
       "      <td>1</td>\n",
       "      <td>0</td>\n",
       "      <td>1</td>\n",
       "      <td>1</td>\n",
       "    </tr>\n",
       "    <tr>\n",
       "      <th>4</th>\n",
       "      <td>jeb bush day mean coping series petty humiliat...</td>\n",
       "      <td>[jeb, bush, day, mean, coping, series, petty, ...</td>\n",
       "      <td>1</td>\n",
       "      <td>0</td>\n",
       "      <td>1</td>\n",
       "      <td>1</td>\n",
       "    </tr>\n",
       "    <tr>\n",
       "      <th>5</th>\n",
       "      <td>washington c poised give worker city generous ...</td>\n",
       "      <td>[washington, c, poised, give, worker, city, ge...</td>\n",
       "      <td>1</td>\n",
       "      <td>0</td>\n",
       "      <td>1</td>\n",
       "      <td>1</td>\n",
       "    </tr>\n",
       "    <tr>\n",
       "      <th>6</th>\n",
       "      <td>presumably small portion american sat dull deb...</td>\n",
       "      <td>[presumably, small, portion, american, sat, du...</td>\n",
       "      <td>1</td>\n",
       "      <td>0</td>\n",
       "      <td>1</td>\n",
       "      <td>1</td>\n",
       "    </tr>\n",
       "    <tr>\n",
       "      <th>7</th>\n",
       "      <td>argentine president mauricio macri office rebu...</td>\n",
       "      <td>[argentine, president, mauricio, macri, office...</td>\n",
       "      <td>1</td>\n",
       "      <td>0</td>\n",
       "      <td>1</td>\n",
       "      <td>1</td>\n",
       "    </tr>\n",
       "    <tr>\n",
       "      <th>8</th>\n",
       "      <td>donald trump loses election week half poll ind...</td>\n",
       "      <td>[donald, trump, loses, election, week, half, p...</td>\n",
       "      <td>0</td>\n",
       "      <td>1</td>\n",
       "      <td>0</td>\n",
       "      <td>0</td>\n",
       "    </tr>\n",
       "  </tbody>\n",
       "</table>\n",
       "</div>"
      ],
      "text/plain": [
       "                                          Text_Final  \\\n",
       "0  link donald trump could disability used known ...   \n",
       "1  san jose calif protest outside donald trump ra...   \n",
       "2  washington cnn house benghazi committee took b...   \n",
       "3  white male gunman killed three people includin...   \n",
       "4  jeb bush day mean coping series petty humiliat...   \n",
       "5  washington c poised give worker city generous ...   \n",
       "6  presumably small portion american sat dull deb...   \n",
       "7  argentine president mauricio macri office rebu...   \n",
       "8  donald trump loses election week half poll ind...   \n",
       "\n",
       "                                              tokens label  0  1 Category_id  \n",
       "0  [link, donald, trump, could, disability, used,...     0  1  0           0  \n",
       "1  [san, jose, calif, protest, outside, donald, t...     1  0  1           1  \n",
       "2  [washington, cnn, house, benghazi, committee, ...     1  0  1           1  \n",
       "3  [white, male, gunman, killed, three, people, i...     1  0  1           1  \n",
       "4  [jeb, bush, day, mean, coping, series, petty, ...     1  0  1           1  \n",
       "5  [washington, c, poised, give, worker, city, ge...     1  0  1           1  \n",
       "6  [presumably, small, portion, american, sat, du...     1  0  1           1  \n",
       "7  [argentine, president, mauricio, macri, office...     1  0  1           1  \n",
       "8  [donald, trump, loses, election, week, half, p...     0  1  0           0  "
      ]
     },
     "execution_count": 28,
     "metadata": {},
     "output_type": "execute_result"
    }
   ],
   "source": [
    "category_id = []\n",
    "for l in data.label:\n",
    "    \n",
    "    if l == '0':\n",
    "        category_id.append('0')\n",
    "    elif l == '1':\n",
    "        category_id.append('1')\n",
    "        \n",
    "data['Category_id'] = category_id\n",
    "\n",
    "data = data[['Text_Final', 'tokens', 'label', '0', '1', 'Category_id' ]]\n",
    "data.head(9)"
   ]
  },
  {
   "cell_type": "code",
   "execution_count": 29,
   "metadata": {},
   "outputs": [],
   "source": [
    "from io import StringIO\n",
    "category_id_df = data[['label', 'Category_id']].drop_duplicates().sort_values('Category_id')\n",
    "category_to_label_dict = dict(category_id_df.values)\n",
    "label_to_category_dict = dict(category_id_df[['Category_id', 'label']].values)"
   ]
  },
  {
   "cell_type": "markdown",
   "metadata": {},
   "source": [
    "#### Split Data into test and train\n",
    "We will use 90 % data for training and 20 % for testing. We use random state so every time we get the same training and testing data."
   ]
  },
  {
   "cell_type": "code",
   "execution_count": 30,
   "metadata": {},
   "outputs": [
    {
     "data": {
      "text/plain": [
       "(6341, 6)"
      ]
     },
     "execution_count": 30,
     "metadata": {},
     "output_type": "execute_result"
    }
   ],
   "source": [
    "data.shape"
   ]
  },
  {
   "cell_type": "code",
   "execution_count": 31,
   "metadata": {},
   "outputs": [],
   "source": [
    "data_train, data_test = train_test_split(data, test_size=0.10, random_state=42)\n"
   ]
  },
  {
   "cell_type": "code",
   "execution_count": 32,
   "metadata": {},
   "outputs": [],
   "source": [
    "# # total training words\n",
    "totalTrainingWords = [word for tokens in data_train[\"tokens\"] for word in tokens]\n",
    "\n",
    "# # Storing Length of the training sentence\n",
    "lengthTrainingSentences = [len(tokens) for tokens in data_train[\"tokens\"]]\n",
    "\n",
    "# # training Vocabulary size\n",
    "trainingVocabSize = sorted(list(set(totalTrainingWords)))\n",
    "\n",
    "## Total number of lines\n",
    "linesCount = len(data_train[\"tokens\"])"
   ]
  },
  {
   "cell_type": "markdown",
   "metadata": {},
   "source": [
    "### Load Google News Glove model"
   ]
  },
  {
   "cell_type": "code",
   "execution_count": 33,
   "metadata": {},
   "outputs": [],
   "source": [
    "# word2vec_path = 'GoogleNews-vectors-negative300.bin'\n",
    "# #word2vec_path = 'glove.6B.50d.word2vec'"
   ]
  },
  {
   "cell_type": "code",
   "execution_count": 34,
   "metadata": {},
   "outputs": [],
   "source": [
    "# from gensim import models\n",
    "# word2vec = models.KeyedVectors.load_word2vec_format(word2vec_path, binary=True)\n"
   ]
  },
  {
   "cell_type": "code",
   "execution_count": 35,
   "metadata": {},
   "outputs": [
    {
     "name": "stderr",
     "output_type": "stream",
     "text": [
      "<ipython-input-35-94d1a7902d0c>:5: DeprecationWarning: Call to deprecated `glove2word2vec` (KeyedVectors.load_word2vec_format(.., binary=False, no_header=True) loads GLoVE text vectors.).\n",
      "  glove2word2vec(glove_input_file, word2vec_output_file)\n"
     ]
    },
    {
     "data": {
      "text/plain": [
       "(400000, 300)"
      ]
     },
     "execution_count": 35,
     "metadata": {},
     "output_type": "execute_result"
    }
   ],
   "source": [
    "# Convert Glove file to word2vec format (examples: uses 50 dimensions since it's faster)\n",
    "from gensim.scripts.glove2word2vec import glove2word2vec\n",
    "glove_input_file = 'glove.6B.300d.txt'  # I unzipped in glove.6B subdirectory \n",
    "word2vec_output_file = 'glove.6B.300d.word2vec'\n",
    "glove2word2vec(glove_input_file, word2vec_output_file)"
   ]
  },
  {
   "cell_type": "code",
   "execution_count": 36,
   "metadata": {},
   "outputs": [],
   "source": [
    "# Use the converted Glove file\n",
    "\n",
    "\n",
    "filename = 'glove.6B.300d.word2vec'\n",
    "word2vec = KeyedVectors.load_word2vec_format(filename, binary=False)\n"
   ]
  },
  {
   "cell_type": "code",
   "execution_count": 37,
   "metadata": {},
   "outputs": [
    {
     "data": {
      "text/plain": [
       "<gensim.models.keyedvectors.KeyedVectors at 0x7fb144d91220>"
      ]
     },
     "execution_count": 37,
     "metadata": {},
     "output_type": "execute_result"
    }
   ],
   "source": [
    "word2vec"
   ]
  },
  {
   "cell_type": "code",
   "execution_count": 38,
   "metadata": {},
   "outputs": [],
   "source": [
    "MAX_SEQUENCE_LENGTH = 150\n",
    "EMBEDDING_DIM = 300"
   ]
  },
  {
   "cell_type": "markdown",
   "metadata": {},
   "source": [
    "\n",
    "### Tokenize and Pad sequences"
   ]
  },
  {
   "cell_type": "code",
   "execution_count": 39,
   "metadata": {},
   "outputs": [
    {
     "name": "stdout",
     "output_type": "stream",
     "text": [
      "Found 57169 unique tokens.\n"
     ]
    }
   ],
   "source": [
    "tokenizer = Tokenizer(num_words=len(trainingVocabSize), lower=True, char_level=False)\n",
    "tokenizer.fit_on_texts(data_train[\"Text_Final\"].tolist())\n",
    "training_sequences = tokenizer.texts_to_sequences(data_train[\"Text_Final\"].tolist())\n",
    "\n",
    "train_word_index = tokenizer.word_index\n",
    "print('Found %s unique tokens.' % len(train_word_index))"
   ]
  },
  {
   "cell_type": "code",
   "execution_count": 40,
   "metadata": {},
   "outputs": [],
   "source": [
    "cnnTrainData = pad_sequences(training_sequences, maxlen=MAX_SEQUENCE_LENGTH)"
   ]
  },
  {
   "cell_type": "code",
   "execution_count": 41,
   "metadata": {},
   "outputs": [
    {
     "name": "stdout",
     "output_type": "stream",
     "text": [
      "(57170, 300)\n"
     ]
    }
   ],
   "source": [
    "train_embedding_weights = np.zeros((len(train_word_index)+1, EMBEDDING_DIM))\n",
    "for word,index in train_word_index.items():\n",
    "    train_embedding_weights[index,:] = word2vec[word] if word in word2vec else np.random.rand(EMBEDDING_DIM)\n",
    "print(train_embedding_weights.shape)"
   ]
  },
  {
   "cell_type": "code",
   "execution_count": 42,
   "metadata": {},
   "outputs": [],
   "source": [
    "test_sequences = tokenizer.texts_to_sequences(data_test[\"Text_Final\"].tolist())\n",
    "cnnTestData = pad_sequences(test_sequences, maxlen= MAX_SEQUENCE_LENGTH)"
   ]
  },
  {
   "cell_type": "markdown",
   "metadata": {},
   "source": [
    "### Define CNN"
   ]
  },
  {
   "cell_type": "markdown",
   "metadata": {},
   "source": [
    "The model is from the paper 'Convolutional Neural Networks for Sentence Classification' we have updated the network according to our requirement [1]"
   ]
  },
  {
   "cell_type": "code",
   "execution_count": 43,
   "metadata": {},
   "outputs": [],
   "source": [
    "label_names = ['0', '1']"
   ]
  },
  {
   "cell_type": "code",
   "execution_count": 44,
   "metadata": {},
   "outputs": [],
   "source": [
    "from tensorflow.keras import optimizers\n",
    "def ConvolutionalNeuralNet(embeddings, max_sequence_length, num_words, embedding_dim, labels_index):\n",
    "    \n",
    "    # Embedding layer\n",
    "    embedding_layer = Embedding(num_words,\n",
    "                            embedding_dim,\n",
    "                            weights=[embeddings],\n",
    "                            input_length=max_sequence_length,\n",
    "                            trainable=False)\n",
    "    \n",
    "    sequence_input = Input(shape=(max_sequence_length,), dtype='int32')\n",
    "    embedded_sequences = embedding_layer(sequence_input)\n",
    "\n",
    "    convs = []\n",
    "    \n",
    "    #Kernal (window) size\n",
    "    filter_sizes = [2,3,4,5]\n",
    "\n",
    "    # Convolution Layer and max-pooling\n",
    "    for filter_size in filter_sizes:\n",
    "        l_conv = Conv1D(filters=512, kernel_size=filter_size, activation='relu')(embedded_sequences)\n",
    "        l_pool = GlobalMaxPooling1D()(l_conv)\n",
    "        convs.append(l_pool)\n",
    "        \n",
    "    l_merge = concatenate(convs, axis=1)\n",
    "    \n",
    "    # softmax layer for multiclass identification \n",
    "    x = Dropout(0.1)(l_merge)  \n",
    "    x = Dense(512, activation='relu')(x)\n",
    "    x = Dropout(0.2)(x)\n",
    "    preds = Dense(labels_index, activation='softmax')(x)\n",
    "\n",
    "    model = Model(sequence_input, preds)\n",
    "    model.compile(loss= 'categorical_crossentropy',\n",
    "                 optimizer = optimizers.RMSprop(learning_rate=1e-3),\n",
    "#                    optimizer='adam',\n",
    "                  metrics=['accuracy'])\n",
    "    return model"
   ]
  },
  {
   "cell_type": "code",
   "execution_count": 45,
   "metadata": {},
   "outputs": [],
   "source": [
    "# Splitting train data into X_train and y_train\n",
    "y_train = data_train[label_names].values\n",
    "x_train = cnnTrainData\n",
    "y_tr = y_train"
   ]
  },
  {
   "cell_type": "code",
   "execution_count": 46,
   "metadata": {},
   "outputs": [],
   "source": [
    "# Splitting train data into X_test and y_test\n",
    "y_test = data_test[label_names].values\n",
    "x_test = cnnTestData\n",
    "y_tst = y_test"
   ]
  },
  {
   "cell_type": "code",
   "execution_count": 47,
   "metadata": {},
   "outputs": [],
   "source": [
    "model = ConvolutionalNeuralNet(train_embedding_weights, MAX_SEQUENCE_LENGTH, len(train_word_index)+1, EMBEDDING_DIM, len(list(label_names)))"
   ]
  },
  {
   "cell_type": "code",
   "execution_count": 48,
   "metadata": {},
   "outputs": [
    {
     "name": "stdout",
     "output_type": "stream",
     "text": [
      "Model: \"functional_1\"\n",
      "__________________________________________________________________________________________________\n",
      "Layer (type)                    Output Shape         Param #     Connected to                     \n",
      "==================================================================================================\n",
      "input_1 (InputLayer)            [(None, 150)]        0                                            \n",
      "__________________________________________________________________________________________________\n",
      "embedding (Embedding)           (None, 150, 300)     17151000    input_1[0][0]                    \n",
      "__________________________________________________________________________________________________\n",
      "conv1d (Conv1D)                 (None, 149, 512)     307712      embedding[0][0]                  \n",
      "__________________________________________________________________________________________________\n",
      "conv1d_1 (Conv1D)               (None, 148, 512)     461312      embedding[0][0]                  \n",
      "__________________________________________________________________________________________________\n",
      "conv1d_2 (Conv1D)               (None, 147, 512)     614912      embedding[0][0]                  \n",
      "__________________________________________________________________________________________________\n",
      "conv1d_3 (Conv1D)               (None, 146, 512)     768512      embedding[0][0]                  \n",
      "__________________________________________________________________________________________________\n",
      "global_max_pooling1d (GlobalMax (None, 512)          0           conv1d[0][0]                     \n",
      "__________________________________________________________________________________________________\n",
      "global_max_pooling1d_1 (GlobalM (None, 512)          0           conv1d_1[0][0]                   \n",
      "__________________________________________________________________________________________________\n",
      "global_max_pooling1d_2 (GlobalM (None, 512)          0           conv1d_2[0][0]                   \n",
      "__________________________________________________________________________________________________\n",
      "global_max_pooling1d_3 (GlobalM (None, 512)          0           conv1d_3[0][0]                   \n",
      "__________________________________________________________________________________________________\n",
      "concatenate (Concatenate)       (None, 2048)         0           global_max_pooling1d[0][0]       \n",
      "                                                                 global_max_pooling1d_1[0][0]     \n",
      "                                                                 global_max_pooling1d_2[0][0]     \n",
      "                                                                 global_max_pooling1d_3[0][0]     \n",
      "__________________________________________________________________________________________________\n",
      "dropout (Dropout)               (None, 2048)         0           concatenate[0][0]                \n",
      "__________________________________________________________________________________________________\n",
      "dense (Dense)                   (None, 512)          1049088     dropout[0][0]                    \n",
      "__________________________________________________________________________________________________\n",
      "dropout_1 (Dropout)             (None, 512)          0           dense[0][0]                      \n",
      "__________________________________________________________________________________________________\n",
      "dense_1 (Dense)                 (None, 2)            1026        dropout_1[0][0]                  \n",
      "==================================================================================================\n",
      "Total params: 20,353,562\n",
      "Trainable params: 3,202,562\n",
      "Non-trainable params: 17,151,000\n",
      "__________________________________________________________________________________________________\n"
     ]
    }
   ],
   "source": [
    "model.summary()"
   ]
  },
  {
   "cell_type": "markdown",
   "metadata": {},
   "source": [
    "### Train CNN"
   ]
  },
  {
   "cell_type": "code",
   "execution_count": 49,
   "metadata": {},
   "outputs": [],
   "source": [
    "num_epochs = 100\n",
    "batch_size = 32"
   ]
  },
  {
   "cell_type": "code",
   "execution_count": 50,
   "metadata": {},
   "outputs": [
    {
     "name": "stdout",
     "output_type": "stream",
     "text": [
      "Epoch 1/100\n",
      "161/161 [==============================] - 88s 546ms/step - loss: 1.1782 - accuracy: 0.7069 - val_loss: 0.3766 - val_accuracy: 0.8214\n",
      "Epoch 2/100\n",
      "161/161 [==============================] - 79s 492ms/step - loss: 0.3532 - accuracy: 0.8545 - val_loss: 0.3471 - val_accuracy: 0.8669\n",
      "Epoch 3/100\n",
      "161/161 [==============================] - 83s 515ms/step - loss: 0.2070 - accuracy: 0.9289 - val_loss: 0.3238 - val_accuracy: 0.8897\n",
      "Epoch 4/100\n",
      "161/161 [==============================] - 80s 495ms/step - loss: 0.1705 - accuracy: 0.9646 - val_loss: 1.1151 - val_accuracy: 0.8126\n",
      "Epoch 5/100\n",
      "161/161 [==============================] - 82s 507ms/step - loss: 0.1517 - accuracy: 0.9698 - val_loss: 1.0068 - val_accuracy: 0.8389\n",
      "Epoch 6/100\n",
      "161/161 [==============================] - 94s 582ms/step - loss: 0.1434 - accuracy: 0.9727 - val_loss: 1.1062 - val_accuracy: 0.8546\n",
      "Epoch 7/100\n",
      "161/161 [==============================] - 131s 816ms/step - loss: 0.1119 - accuracy: 0.9792 - val_loss: 1.0130 - val_accuracy: 0.8827\n",
      "Epoch 8/100\n",
      "161/161 [==============================] - 143s 887ms/step - loss: 0.1627 - accuracy: 0.9757 - val_loss: 1.0236 - val_accuracy: 0.8809\n",
      "Epoch 9/100\n",
      "161/161 [==============================] - 152s 947ms/step - loss: 0.1674 - accuracy: 0.9776 - val_loss: 1.2640 - val_accuracy: 0.8879\n",
      "Epoch 10/100\n",
      "161/161 [==============================] - 141s 875ms/step - loss: 0.1320 - accuracy: 0.9815 - val_loss: 2.1847 - val_accuracy: 0.8494\n",
      "Epoch 11/100\n",
      "161/161 [==============================] - 134s 835ms/step - loss: 0.1386 - accuracy: 0.9838 - val_loss: 1.6424 - val_accuracy: 0.8599\n",
      "Epoch 12/100\n",
      "161/161 [==============================] - 133s 828ms/step - loss: 0.1198 - accuracy: 0.9862 - val_loss: 1.4503 - val_accuracy: 0.8687\n",
      "Epoch 13/100\n",
      "161/161 [==============================] - 131s 812ms/step - loss: 0.0872 - accuracy: 0.9885 - val_loss: 1.4035 - val_accuracy: 0.8792\n",
      "Epoch 14/100\n",
      "161/161 [==============================] - 129s 803ms/step - loss: 0.1224 - accuracy: 0.9860 - val_loss: 1.2375 - val_accuracy: 0.8984\n",
      "Epoch 15/100\n",
      "161/161 [==============================] - 131s 815ms/step - loss: 0.1504 - accuracy: 0.9846 - val_loss: 2.5367 - val_accuracy: 0.8494\n",
      "Epoch 16/100\n",
      "161/161 [==============================] - 129s 802ms/step - loss: 0.0794 - accuracy: 0.9914 - val_loss: 1.8663 - val_accuracy: 0.8827\n",
      "Epoch 17/100\n",
      "161/161 [==============================] - 129s 803ms/step - loss: 0.0817 - accuracy: 0.9901 - val_loss: 2.9150 - val_accuracy: 0.8546\n",
      "Epoch 18/100\n",
      "161/161 [==============================] - 75s 469ms/step - loss: 0.0862 - accuracy: 0.9910 - val_loss: 2.1164 - val_accuracy: 0.8774\n",
      "Epoch 19/100\n",
      "161/161 [==============================] - 64s 396ms/step - loss: 0.1083 - accuracy: 0.9893 - val_loss: 2.0291 - val_accuracy: 0.8844\n",
      "Epoch 20/100\n",
      "161/161 [==============================] - 74s 460ms/step - loss: 0.0995 - accuracy: 0.9891 - val_loss: 1.7955 - val_accuracy: 0.8862\n",
      "Epoch 21/100\n",
      "161/161 [==============================] - 75s 468ms/step - loss: 0.0509 - accuracy: 0.9940 - val_loss: 2.1050 - val_accuracy: 0.8844\n",
      "Epoch 22/100\n",
      "161/161 [==============================] - 66s 411ms/step - loss: 0.1181 - accuracy: 0.9914 - val_loss: 1.6855 - val_accuracy: 0.8897\n",
      "Epoch 23/100\n",
      "161/161 [==============================] - 66s 412ms/step - loss: 0.0584 - accuracy: 0.9934 - val_loss: 1.8418 - val_accuracy: 0.8739\n",
      "Epoch 24/100\n",
      "161/161 [==============================] - 66s 413ms/step - loss: 0.0491 - accuracy: 0.9951 - val_loss: 2.2524 - val_accuracy: 0.8844\n",
      "Epoch 25/100\n",
      "161/161 [==============================] - 67s 413ms/step - loss: 0.0544 - accuracy: 0.9942 - val_loss: 2.8858 - val_accuracy: 0.8722\n",
      "Epoch 26/100\n",
      "161/161 [==============================] - 67s 415ms/step - loss: 0.0902 - accuracy: 0.9916 - val_loss: 4.4595 - val_accuracy: 0.8284\n",
      "Epoch 27/100\n",
      "161/161 [==============================] - 66s 413ms/step - loss: 0.0873 - accuracy: 0.9930 - val_loss: 2.1764 - val_accuracy: 0.8862\n",
      "Epoch 28/100\n",
      "161/161 [==============================] - 67s 415ms/step - loss: 0.0479 - accuracy: 0.9957 - val_loss: 2.7568 - val_accuracy: 0.8792\n",
      "Epoch 29/100\n",
      "161/161 [==============================] - 66s 413ms/step - loss: 0.0644 - accuracy: 0.9930 - val_loss: 2.7357 - val_accuracy: 0.8844\n",
      "Epoch 30/100\n",
      "161/161 [==============================] - 69s 430ms/step - loss: 0.0661 - accuracy: 0.9930 - val_loss: 2.9510 - val_accuracy: 0.8739\n",
      "Epoch 31/100\n",
      "161/161 [==============================] - 66s 413ms/step - loss: 0.0544 - accuracy: 0.9942 - val_loss: 3.2313 - val_accuracy: 0.8792\n",
      "Epoch 32/100\n",
      "161/161 [==============================] - 67s 414ms/step - loss: 0.0438 - accuracy: 0.9971 - val_loss: 7.3017 - val_accuracy: 0.8126\n",
      "Epoch 33/100\n",
      "161/161 [==============================] - 67s 414ms/step - loss: 0.0922 - accuracy: 0.9938 - val_loss: 2.7036 - val_accuracy: 0.8844\n",
      "Epoch 34/100\n",
      "161/161 [==============================] - 67s 414ms/step - loss: 0.0572 - accuracy: 0.9957 - val_loss: 3.1193 - val_accuracy: 0.8792\n",
      "Epoch 35/100\n",
      "161/161 [==============================] - 67s 417ms/step - loss: 0.0349 - accuracy: 0.9971 - val_loss: 3.4864 - val_accuracy: 0.8809\n",
      "Epoch 36/100\n",
      "161/161 [==============================] - 66s 411ms/step - loss: 0.0552 - accuracy: 0.9965 - val_loss: 5.0022 - val_accuracy: 0.8546\n",
      "Epoch 37/100\n",
      "161/161 [==============================] - 66s 410ms/step - loss: 0.0483 - accuracy: 0.9965 - val_loss: 3.4228 - val_accuracy: 0.8862\n",
      "Epoch 38/100\n",
      "161/161 [==============================] - 66s 411ms/step - loss: 0.0428 - accuracy: 0.9965 - val_loss: 3.1238 - val_accuracy: 0.8809\n",
      "Epoch 39/100\n",
      "161/161 [==============================] - 70s 432ms/step - loss: 0.0413 - accuracy: 0.9969 - val_loss: 3.6637 - val_accuracy: 0.8827\n",
      "Epoch 40/100\n",
      "161/161 [==============================] - 67s 417ms/step - loss: 0.0541 - accuracy: 0.9951 - val_loss: 3.2326 - val_accuracy: 0.8844\n",
      "Epoch 41/100\n",
      "161/161 [==============================] - 67s 419ms/step - loss: 0.0386 - accuracy: 0.9969 - val_loss: 3.8398 - val_accuracy: 0.8844\n",
      "Epoch 42/100\n",
      "161/161 [==============================] - 67s 419ms/step - loss: 0.0484 - accuracy: 0.9963 - val_loss: 3.7273 - val_accuracy: 0.8914\n",
      "Epoch 43/100\n",
      "161/161 [==============================] - 67s 419ms/step - loss: 0.0523 - accuracy: 0.9953 - val_loss: 3.9166 - val_accuracy: 0.8827\n",
      "Epoch 44/100\n",
      "161/161 [==============================] - 68s 424ms/step - loss: 0.0160 - accuracy: 0.9992 - val_loss: 3.8829 - val_accuracy: 0.8827\n",
      "Epoch 45/100\n",
      "161/161 [==============================] - 68s 421ms/step - loss: 0.0254 - accuracy: 0.9982 - val_loss: 4.5000 - val_accuracy: 0.8862\n",
      "Epoch 46/100\n",
      "161/161 [==============================] - 68s 422ms/step - loss: 0.0300 - accuracy: 0.9979 - val_loss: 4.9270 - val_accuracy: 0.8581\n",
      "Epoch 47/100\n",
      "161/161 [==============================] - 68s 424ms/step - loss: 0.0137 - accuracy: 0.9986 - val_loss: 3.9364 - val_accuracy: 0.8827\n",
      "Epoch 48/100\n",
      "161/161 [==============================] - 68s 422ms/step - loss: 0.0386 - accuracy: 0.9977 - val_loss: 3.8113 - val_accuracy: 0.8932\n",
      "Epoch 49/100\n",
      "161/161 [==============================] - 68s 422ms/step - loss: 0.0614 - accuracy: 0.9963 - val_loss: 5.0634 - val_accuracy: 0.8704\n",
      "Epoch 50/100\n",
      "161/161 [==============================] - 68s 423ms/step - loss: 0.0248 - accuracy: 0.9973 - val_loss: 4.4348 - val_accuracy: 0.8687\n",
      "Epoch 51/100\n",
      "161/161 [==============================] - 68s 422ms/step - loss: 0.0217 - accuracy: 0.9986 - val_loss: 3.5490 - val_accuracy: 0.8879\n",
      "Epoch 52/100\n",
      "161/161 [==============================] - 68s 424ms/step - loss: 0.0505 - accuracy: 0.9981 - val_loss: 4.2946 - val_accuracy: 0.8792\n",
      "Epoch 53/100\n",
      "161/161 [==============================] - 68s 424ms/step - loss: 0.0080 - accuracy: 0.9986 - val_loss: 3.9417 - val_accuracy: 0.8897\n",
      "Epoch 54/100\n",
      "161/161 [==============================] - 68s 422ms/step - loss: 0.0445 - accuracy: 0.9967 - val_loss: 3.8113 - val_accuracy: 0.8949\n",
      "Epoch 55/100\n",
      "161/161 [==============================] - 68s 422ms/step - loss: 0.0393 - accuracy: 0.9986 - val_loss: 4.1374 - val_accuracy: 0.8809\n",
      "Epoch 56/100\n",
      "161/161 [==============================] - 68s 423ms/step - loss: 0.0625 - accuracy: 0.9977 - val_loss: 3.7794 - val_accuracy: 0.8932\n"
     ]
    },
    {
     "name": "stdout",
     "output_type": "stream",
     "text": [
      "Epoch 57/100\n",
      "161/161 [==============================] - 66s 409ms/step - loss: 0.0496 - accuracy: 0.9971 - val_loss: 9.9572 - val_accuracy: 0.8161\n",
      "Epoch 58/100\n",
      "161/161 [==============================] - 66s 407ms/step - loss: 0.0542 - accuracy: 0.9982 - val_loss: 4.8267 - val_accuracy: 0.8739\n",
      "Epoch 59/100\n",
      "161/161 [==============================] - 66s 407ms/step - loss: 0.0051 - accuracy: 0.9992 - val_loss: 4.9849 - val_accuracy: 0.8739\n",
      "Epoch 60/100\n",
      "161/161 [==============================] - 66s 410ms/step - loss: 0.0358 - accuracy: 0.9984 - val_loss: 5.1095 - val_accuracy: 0.8739\n",
      "Epoch 61/100\n",
      "161/161 [==============================] - 68s 422ms/step - loss: 0.0439 - accuracy: 0.9973 - val_loss: 5.5140 - val_accuracy: 0.8862\n",
      "Epoch 62/100\n",
      "161/161 [==============================] - 67s 413ms/step - loss: 0.0612 - accuracy: 0.9965 - val_loss: 4.6672 - val_accuracy: 0.8914\n",
      "Epoch 63/100\n",
      "161/161 [==============================] - 67s 414ms/step - loss: 0.0054 - accuracy: 0.9996 - val_loss: 4.7146 - val_accuracy: 0.8862\n",
      "Epoch 64/100\n",
      "161/161 [==============================] - 66s 413ms/step - loss: 0.1061 - accuracy: 0.9953 - val_loss: 5.3919 - val_accuracy: 0.8897\n",
      "Epoch 65/100\n",
      "161/161 [==============================] - 67s 414ms/step - loss: 0.0403 - accuracy: 0.9969 - val_loss: 5.2013 - val_accuracy: 0.9002\n",
      "Epoch 66/100\n",
      "161/161 [==============================] - 67s 415ms/step - loss: 0.0465 - accuracy: 0.9977 - val_loss: 5.1724 - val_accuracy: 0.8879\n",
      "Epoch 67/100\n",
      "161/161 [==============================] - 69s 430ms/step - loss: 0.0319 - accuracy: 0.9986 - val_loss: 5.4877 - val_accuracy: 0.8774\n",
      "Epoch 68/100\n",
      "161/161 [==============================] - 67s 414ms/step - loss: 0.0598 - accuracy: 0.9967 - val_loss: 5.8635 - val_accuracy: 0.8792\n",
      "Epoch 69/100\n",
      "161/161 [==============================] - 67s 417ms/step - loss: 0.0520 - accuracy: 0.9965 - val_loss: 6.4650 - val_accuracy: 0.8844\n",
      "Epoch 70/100\n",
      "161/161 [==============================] - 67s 418ms/step - loss: 0.0550 - accuracy: 0.9967 - val_loss: 6.1298 - val_accuracy: 0.8687\n",
      "Epoch 71/100\n",
      "161/161 [==============================] - 67s 419ms/step - loss: 0.0196 - accuracy: 0.9990 - val_loss: 5.3663 - val_accuracy: 0.8827\n",
      "Epoch 72/100\n",
      "161/161 [==============================] - 67s 418ms/step - loss: 0.0390 - accuracy: 0.9979 - val_loss: 7.6249 - val_accuracy: 0.8651\n",
      "Epoch 73/100\n",
      "161/161 [==============================] - 67s 417ms/step - loss: 0.0346 - accuracy: 0.9979 - val_loss: 6.1660 - val_accuracy: 0.8739\n",
      "Epoch 74/100\n",
      "161/161 [==============================] - 68s 420ms/step - loss: 0.0499 - accuracy: 0.9973 - val_loss: 5.8073 - val_accuracy: 0.8809\n",
      "Epoch 75/100\n",
      "161/161 [==============================] - 67s 418ms/step - loss: 0.0072 - accuracy: 0.9994 - val_loss: 5.6715 - val_accuracy: 0.8792\n",
      "Epoch 76/100\n",
      "161/161 [==============================] - 68s 421ms/step - loss: 0.0243 - accuracy: 0.9992 - val_loss: 6.5991 - val_accuracy: 0.8757\n",
      "Epoch 77/100\n",
      "161/161 [==============================] - 67s 419ms/step - loss: 0.0073 - accuracy: 0.9992 - val_loss: 5.4692 - val_accuracy: 0.8879\n",
      "Epoch 78/100\n",
      "161/161 [==============================] - 68s 420ms/step - loss: 0.0505 - accuracy: 0.9975 - val_loss: 5.3929 - val_accuracy: 0.8827\n",
      "Epoch 79/100\n",
      "161/161 [==============================] - 67s 418ms/step - loss: 2.8322e-09 - accuracy: 1.0000 - val_loss: 5.3999 - val_accuracy: 0.8827\n",
      "Epoch 80/100\n",
      "161/161 [==============================] - 68s 421ms/step - loss: 0.0317 - accuracy: 0.9986 - val_loss: 6.9503 - val_accuracy: 0.8687\n",
      "Epoch 81/100\n",
      "161/161 [==============================] - 68s 420ms/step - loss: 0.0312 - accuracy: 0.9981 - val_loss: 4.9080 - val_accuracy: 0.8809\n",
      "Epoch 82/100\n",
      "161/161 [==============================] - 68s 420ms/step - loss: 0.0037 - accuracy: 0.9992 - val_loss: 5.1354 - val_accuracy: 0.8827\n",
      "Epoch 83/100\n",
      "161/161 [==============================] - 68s 420ms/step - loss: 0.0199 - accuracy: 0.9990 - val_loss: 5.5819 - val_accuracy: 0.8862\n",
      "Epoch 84/100\n",
      "161/161 [==============================] - 67s 419ms/step - loss: 2.0197e-09 - accuracy: 1.0000 - val_loss: 5.3276 - val_accuracy: 0.8792\n",
      "Epoch 85/100\n",
      "161/161 [==============================] - 68s 421ms/step - loss: 7.2894e-09 - accuracy: 1.0000 - val_loss: 5.1417 - val_accuracy: 0.8792\n",
      "Epoch 86/100\n",
      "161/161 [==============================] - 71s 443ms/step - loss: 0.0444 - accuracy: 0.9982 - val_loss: 6.1620 - val_accuracy: 0.8757\n",
      "Epoch 87/100\n",
      "161/161 [==============================] - 67s 418ms/step - loss: 0.0317 - accuracy: 0.9979 - val_loss: 6.4080 - val_accuracy: 0.8669\n",
      "Epoch 88/100\n",
      "161/161 [==============================] - 67s 417ms/step - loss: 9.8395e-07 - accuracy: 1.0000 - val_loss: 5.7096 - val_accuracy: 0.8862\n",
      "Epoch 89/100\n",
      "161/161 [==============================] - 67s 418ms/step - loss: 0.0415 - accuracy: 0.9984 - val_loss: 5.9429 - val_accuracy: 0.8809\n",
      "Epoch 90/100\n",
      "161/161 [==============================] - 68s 419ms/step - loss: 4.8752e-10 - accuracy: 1.0000 - val_loss: 5.9429 - val_accuracy: 0.8809\n",
      "Epoch 91/100\n",
      "161/161 [==============================] - 70s 437ms/step - loss: 0.0263 - accuracy: 0.9986 - val_loss: 8.8923 - val_accuracy: 0.8634\n",
      "Epoch 92/100\n",
      "161/161 [==============================] - 67s 413ms/step - loss: 0.0403 - accuracy: 0.9979 - val_loss: 6.0085 - val_accuracy: 0.8844\n",
      "Epoch 93/100\n",
      "161/161 [==============================] - 67s 414ms/step - loss: 0.0437 - accuracy: 0.9977 - val_loss: 6.2775 - val_accuracy: 0.8827\n",
      "Epoch 94/100\n",
      "161/161 [==============================] - 67s 415ms/step - loss: 0.0166 - accuracy: 0.9981 - val_loss: 7.1217 - val_accuracy: 0.8774\n",
      "Epoch 95/100\n",
      "161/161 [==============================] - 67s 414ms/step - loss: 0.0315 - accuracy: 0.9986 - val_loss: 5.6760 - val_accuracy: 0.8897\n",
      "Epoch 96/100\n",
      "161/161 [==============================] - 67s 414ms/step - loss: 0.0274 - accuracy: 0.9988 - val_loss: 5.7061 - val_accuracy: 0.8914\n",
      "Epoch 97/100\n",
      "161/161 [==============================] - 67s 415ms/step - loss: 3.9499e-04 - accuracy: 0.9998 - val_loss: 5.9499 - val_accuracy: 0.8862\n",
      "Epoch 98/100\n",
      "161/161 [==============================] - 67s 415ms/step - loss: 0.0223 - accuracy: 0.9982 - val_loss: 6.2319 - val_accuracy: 0.8792\n",
      "Epoch 99/100\n",
      "161/161 [==============================] - 67s 415ms/step - loss: 0.0338 - accuracy: 0.9977 - val_loss: 6.5508 - val_accuracy: 0.8862\n",
      "Epoch 100/100\n",
      "161/161 [==============================] - 67s 415ms/step - loss: 0.0101 - accuracy: 0.9994 - val_loss: 5.8733 - val_accuracy: 0.8809\n"
     ]
    }
   ],
   "source": [
    "history = model.fit(x_train, y_tr, epochs=num_epochs, validation_split=0.1, shuffle=True, batch_size=batch_size)"
   ]
  },
  {
   "cell_type": "code",
   "execution_count": 51,
   "metadata": {},
   "outputs": [
    {
     "name": "stdout",
     "output_type": "stream",
     "text": [
      "20/20 [==============================] - 3s 152ms/step - loss: 5.1815 - accuracy: 0.8992\n"
     ]
    }
   ],
   "source": [
    "# evaluate on test data\n",
    "results = model.evaluate(x_test, y_tst)"
   ]
  },
  {
   "cell_type": "code",
   "execution_count": 52,
   "metadata": {},
   "outputs": [
    {
     "name": "stdout",
     "output_type": "stream",
     "text": [
      "1/1 [==============================] - 0s 1ms/step\n"
     ]
    }
   ],
   "source": [
    "# predict model\n",
    "predictions = model.predict(cnnTestData, batch_size=1024, verbose=1)"
   ]
  },
  {
   "cell_type": "markdown",
   "metadata": {},
   "source": [
    "### Testing few sentences using our model"
   ]
  },
  {
   "cell_type": "code",
   "execution_count": 53,
   "metadata": {},
   "outputs": [],
   "source": [
    "\n",
    "labels = ['0', '1']\n",
    "\n",
    "def makeprediction(texts):\n",
    "    tk = Tokenizer()\n",
    "    tk.fit_on_texts(texts)\n",
    "    index_list = tk.texts_to_sequences(texts)\n",
    "    x_train = pad_sequences(index_list, maxlen=150)\n",
    "    pred = model.predict(x_train)\n",
    "    result = labels[np.argmax(pred)]\n",
    "    return result"
   ]
  },
  {
   "cell_type": "code",
   "execution_count": 54,
   "metadata": {},
   "outputs": [],
   "source": [
    "prediction_labels=[]\n",
    "for p in predictions:\n",
    "    prediction_labels.append(labels[np.argmax(p)])"
   ]
  },
  {
   "cell_type": "code",
   "execution_count": 56,
   "metadata": {},
   "outputs": [
    {
     "data": {
      "text/plain": [
       "0.8992125984251969"
      ]
     },
     "execution_count": 56,
     "metadata": {},
     "output_type": "execute_result"
    }
   ],
   "source": [
    "sum(data_test.label==prediction_labels)/len(prediction_labels)"
   ]
  },
  {
   "cell_type": "code",
   "execution_count": 57,
   "metadata": {},
   "outputs": [
    {
     "data": {
      "text/plain": [
       "0    324\n",
       "1    311\n",
       "Name: label, dtype: int64"
      ]
     },
     "execution_count": 57,
     "metadata": {},
     "output_type": "execute_result"
    }
   ],
   "source": [
    "data_test.label.value_counts()"
   ]
  },
  {
   "cell_type": "code",
   "execution_count": 58,
   "metadata": {},
   "outputs": [
    {
     "data": {
      "image/png": "[encoded data removed]",
      "text/plain": [
       "<Figure size 432x288 with 2 Axes>"
      ]
     },
     "metadata": {
      "needs_background": "light"
     },
     "output_type": "display_data"
    }
   ],
   "source": [
    "plt.figure(1)\n",
    "# summarize history for accuracy\n",
    "plt.subplot(211)\n",
    "plt.plot(history.history['accuracy'])\n",
    "plt.plot(history.history['val_accuracy'])\n",
    "plt.title('model accuracy')\n",
    "plt.ylabel('accuracy')\n",
    "plt.xlabel('epoch')\n",
    "plt.legend(['train', 'val'], loc='upper left')\n",
    "# summarize history for loss\n",
    "plt.subplot(212)\n",
    "plt.plot(history.history['loss'])\n",
    "plt.plot(history.history['val_loss'])\n",
    "plt.title('model loss')\n",
    "plt.ylabel('loss')\n",
    "plt.xlabel('epoch')\n",
    "plt.legend(['train', 'val'], loc='upper left')\n",
    "plt.tight_layout()\n",
    "plt.show()"
   ]
  },
  {
   "cell_type": "code",
   "execution_count": 59,
   "metadata": {},
   "outputs": [
    {
     "name": "stdout",
     "output_type": "stream",
     "text": [
      "Confusion Matrix :\n",
      "[[296  28]\n",
      " [ 36 275]]\n",
      "Accuracy Score : 0.8992125984251969\n",
      "Report : \n",
      "              precision    recall  f1-score   support\n",
      "\n",
      "           0       0.89      0.91      0.90       324\n",
      "           1       0.91      0.88      0.90       311\n",
      "\n",
      "    accuracy                           0.90       635\n",
      "   macro avg       0.90      0.90      0.90       635\n",
      "weighted avg       0.90      0.90      0.90       635\n",
      "\n"
     ]
    }
   ],
   "source": [
    "results = confusion_matrix(data_test.label, prediction_labels)\n",
    "print ('Confusion Matrix :')\n",
    "print(results) \n",
    "print ('Accuracy Score :',accuracy_score(data_test.label, prediction_labels))\n",
    "print ('Report : ')\n",
    "print (classification_report(data_test.label, prediction_labels))"
   ]
  },
  {
   "cell_type": "code",
   "execution_count": 60,
   "metadata": {},
   "outputs": [
    {
     "name": "stdout",
     "output_type": "stream",
     "text": [
      "                        Convolution Neural Network\n"
     ]
    },
    {
     "data": {
      "image/png": "[encoded data removed]",
      "text/plain": [
       "<Figure size 360x360 with 2 Axes>"
      ]
     },
     "metadata": {
      "needs_background": "light"
     },
     "output_type": "display_data"
    }
   ],
   "source": [
    "from sklearn.metrics import confusion_matrix\n",
    "print(\"                        Convolution Neural Network\")\n",
    "conf_mat = confusion_matrix(data_test.label, prediction_labels)\n",
    "fig, ax = plt.subplots(figsize=(5,5))\n",
    "sns.heatmap(conf_mat, annot=True, fmt='d', cmap ='YlGnBu',\n",
    "            xticklabels=category_id_df.label.values, yticklabels=category_id_df.label.values)\n",
    "plt.ylabel('Actual')\n",
    "plt.xlabel('Predicted')\n",
    "plt.show()"
   ]
  },
  {
   "cell_type": "code",
   "execution_count": 61,
   "metadata": {},
   "outputs": [
    {
     "data": {
      "image/png": "[encoded data removed]",
      "text/plain": [
       "<Figure size 432x288 with 1 Axes>"
      ]
     },
     "metadata": {},
     "output_type": "display_data"
    }
   ],
   "source": [
    "# for Glove\n",
    "import pandas as pd\n",
    "import seaborn as sns\n",
    "results=pd.DataFrame()\n",
    "dictionary=dict()\n",
    "dictionary['Evaluation Measures']=[\"K Fold\", \"Precision\", \"Recall\", \"F1 Score\"]\n",
    "dictionary['CNN - Glove']=[96, 96, 96, 96]\n",
    "results=pd.DataFrame(dictionary)\n",
    "sns.set_style(style=\"whitegrid\")\n",
    "ax = sns.barplot(x='Evaluation Measures', y= 'CNN - Glove',data=results)"
   ]
  },
  {
   "cell_type": "markdown",
   "metadata": {},
   "source": [
    "### Reference\n",
    "[1] \"Convolutional Neural Networks for Sentence Classification\" by Yoon Kim\n"
   ]
  }
 ],
 "metadata": {
  "kernelspec": {
   "display_name": "Python 3 (ipykernel)",
   "language": "python",
   "name": "python3"
  },
  "language_info": {
   "codemirror_mode": {
    "name": "ipython",
    "version": 3
   },
   "file_extension": ".py",
   "mimetype": "text/x-python",
   "name": "python",
   "nbconvert_exporter": "python",
   "pygments_lexer": "ipython3",
   "version": "3.8.8"
  }
 },
 "nbformat": 4,
 "nbformat_minor": 4
}
