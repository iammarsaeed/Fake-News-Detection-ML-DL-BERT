{
 "cells": [
  {
   "cell_type": "markdown",
   "metadata": {},
   "source": [
    "\n",
    "# Convolutional Neural Network CNN\n",
    "1. Using Glove implementing CNN model\n",
    "2. Dispaly Confusion Matrix, precision, recall and F1-score\n",
    "3. Display few prediction using predict module. \n",
    "4. Get 10-fold Average of the CNN model."
   ]
  },
  {
   "cell_type": "code",
   "execution_count": 2,
   "metadata": {},
   "outputs": [],
   "source": [
    "from __future__ import division, print_function\n",
    "\n",
    "# dataframe\n",
    "import pandas as pd\n",
    "\n",
    "# numpy array\n",
    "import numpy as np\n",
    "\n",
    "# figures visualization\n",
    "import matplotlib.pyplot as plt\n",
    "from sklearn.metrics import confusion_matrix \n",
    "import seaborn as sns\n",
    "\n",
    "# calc accuracy\n",
    "from sklearn.metrics import accuracy_score \n",
    "from sklearn.metrics import classification_report \n",
    "\n",
    "# word2vec\n",
    "import gensim \n",
    "from gensim import models\n",
    "from gensim.models import Word2Vec \n",
    "from gensim.models import KeyedVectors\n",
    "\n",
    "# CNN model and keras preprocessing\n",
    "from tensorflow import keras\n",
    "from tensorflow.keras.callbacks import ModelCheckpoint\n",
    "from tensorflow.keras.layers import Dense, Dropout, Reshape, Flatten, concatenate, Input, Conv1D, GlobalMaxPooling1D, Embedding, Conv2D, GlobalMaxPooling2D\n",
    "from tensorflow.keras.models import Sequential\n",
    "from tensorflow.keras.models import Model\n",
    "from tensorflow.keras.preprocessing.text import Tokenizer\n",
    "from tensorflow.keras.preprocessing.sequence import pad_sequences\n",
    "\n",
    "# nltk data preprocessing\n",
    "import nltk\n",
    "from nltk import word_tokenize\n",
    "from nltk.tokenize import sent_tokenize \n",
    "from nltk.stem import WordNetLemmatizer\n",
    "\n",
    "# stopword - remove buzz word\n",
    "from nltk.corpus import stopwords\n",
    "\n",
    "# splitting data\n",
    "from sklearn.model_selection import train_test_split\n",
    "\n",
    "# punctuation - data imbalance\n",
    "import collections\n",
    "import re\n",
    "import string\n",
    "\n",
    "# File path\n",
    "import os\n",
    "import os.path\n",
    "from os import path\n",
    "\n",
    "# Translator\n",
    "import googletrans\n",
    "from googletrans import Translator"
   ]
  },
  {
   "cell_type": "code",
   "execution_count": 12,
   "metadata": {},
   "outputs": [],
   "source": [
    "# original english file\n",
    "filename  = '../../../Data/Fake news detection/data'\n",
    "orig_df = pd.read_csv(filename + '.csv',  \n",
    "               delimiter=',')\n",
    "orig_df.drop(orig_df.columns[[0,1]], axis = 1, inplace = True)"
   ]
  },
  {
   "cell_type": "code",
   "execution_count": 13,
   "metadata": {},
   "outputs": [],
   "source": [
    "# Run only for English data \n",
    "orig_df[\"Body\"] = orig_df[\"Body\"].astype(str)\n",
    "orig_df[\"Label\"] = orig_df[\"Label\"].astype(str)\n",
    "df = orig_df"
   ]
  },
  {
   "cell_type": "code",
   "execution_count": 14,
   "metadata": {},
   "outputs": [
    {
     "data": {
      "text/html": [
       "<div>\n",
       "<style scoped>\n",
       "    .dataframe tbody tr th:only-of-type {\n",
       "        vertical-align: middle;\n",
       "    }\n",
       "\n",
       "    .dataframe tbody tr th {\n",
       "        vertical-align: top;\n",
       "    }\n",
       "\n",
       "    .dataframe thead th {\n",
       "        text-align: right;\n",
       "    }\n",
       "</style>\n",
       "<table border=\"1\" class=\"dataframe\">\n",
       "  <thead>\n",
       "    <tr style=\"text-align: right;\">\n",
       "      <th></th>\n",
       "      <th>Body</th>\n",
       "      <th>Label</th>\n",
       "    </tr>\n",
       "  </thead>\n",
       "  <tbody>\n",
       "    <tr>\n",
       "      <th>0</th>\n",
       "      <td>Image copyright Getty Images\\nOn Sunday mornin...</td>\n",
       "      <td>1</td>\n",
       "    </tr>\n",
       "    <tr>\n",
       "      <th>1</th>\n",
       "      <td>LONDON (Reuters) - “Last Flag Flying”, a comed...</td>\n",
       "      <td>1</td>\n",
       "    </tr>\n",
       "    <tr>\n",
       "      <th>2</th>\n",
       "      <td>The feud broke into public view last week when...</td>\n",
       "      <td>1</td>\n",
       "    </tr>\n",
       "    <tr>\n",
       "      <th>3</th>\n",
       "      <td>MEXICO CITY (Reuters) - Egypt’s Cheiron Holdin...</td>\n",
       "      <td>1</td>\n",
       "    </tr>\n",
       "    <tr>\n",
       "      <th>4</th>\n",
       "      <td>Country singer Jason Aldean, who was performin...</td>\n",
       "      <td>1</td>\n",
       "    </tr>\n",
       "  </tbody>\n",
       "</table>\n",
       "</div>"
      ],
      "text/plain": [
       "                                                Body Label\n",
       "0  Image copyright Getty Images\\nOn Sunday mornin...     1\n",
       "1  LONDON (Reuters) - “Last Flag Flying”, a comed...     1\n",
       "2  The feud broke into public view last week when...     1\n",
       "3  MEXICO CITY (Reuters) - Egypt’s Cheiron Holdin...     1\n",
       "4  Country singer Jason Aldean, who was performin...     1"
      ]
     },
     "execution_count": 14,
     "metadata": {},
     "output_type": "execute_result"
    }
   ],
   "source": [
    "df.head()"
   ]
  },
  {
   "cell_type": "markdown",
   "metadata": {},
   "source": [
    "### Class count"
   ]
  },
  {
   "cell_type": "code",
   "execution_count": 17,
   "metadata": {},
   "outputs": [
    {
     "data": {
      "image/png": "[encoded data removed]",
      "text/plain": [
       "<Figure size 432x288 with 1 Axes>"
      ]
     },
     "metadata": {
      "needs_background": "light"
     },
     "output_type": "display_data"
    }
   ],
   "source": [
    "import matplotlib.pyplot as plt\n",
    "fig = plt.figure(figsize=(6,4))\n",
    "df.groupby('Label').Body.count().plot.bar(ylim=0)\n",
    "plt.show()"
   ]
  },
  {
   "cell_type": "code",
   "execution_count": 18,
   "metadata": {},
   "outputs": [
    {
     "data": {
      "text/plain": [
       "0    2137\n",
       "1    1872\n",
       "Name: Label, dtype: int64"
      ]
     },
     "execution_count": 18,
     "metadata": {},
     "output_type": "execute_result"
    }
   ],
   "source": [
    "# For entire dataset sentences for each labels \n",
    "df.Label.value_counts()"
   ]
  },
  {
   "cell_type": "markdown",
   "metadata": {},
   "source": [
    "### Balanced Data"
   ]
  },
  {
   "cell_type": "code",
   "execution_count": 19,
   "metadata": {},
   "outputs": [],
   "source": [
    "#balancing data \n",
    "from collections import Counter\n",
    "import numpy as np\n",
    "def balanceClasses(xs, ys):\n",
    "    item = {}\n",
    "    new_ys = []\n",
    "    new_xs = []\n",
    "    #\"\"\"Undersample xs, ys to balance classes.\"\"\"\n",
    "    freqs = Counter(ys)\n",
    "    # the most common class  is the maximum number we want for all classes\n",
    "    max_allowable = (freqs.most_common()[0][1])\n",
    "    \n",
    "    for val in freqs.most_common(): # List\n",
    "        nums = np.random.randint(1000)\n",
    "        i = 1\n",
    "        item[val[0]] = max_allowable - val[1]\n",
    "        \n",
    "        if item[val[0]] > 0:            \n",
    "            while(item[val[0]] - i != 0): \n",
    "                nums = nums + 1\n",
    "                if ys[nums] == val[0]:\n",
    "                    i += 1\n",
    "                    new_ys.append(ys[nums])\n",
    "                    new_xs.append(xs[nums])\n",
    "    return new_xs, new_ys"
   ]
  },
  {
   "cell_type": "code",
   "execution_count": 20,
   "metadata": {},
   "outputs": [],
   "source": [
    "new_text, new_label = balanceClasses(df['Body'], df['Label'])"
   ]
  },
  {
   "cell_type": "code",
   "execution_count": 21,
   "metadata": {},
   "outputs": [],
   "source": [
    "data = pd.DataFrame(new_text)\n",
    "data.columns = ['Body']\n",
    "data['Label'] = new_label\n",
    "data = pd.concat([df, data])"
   ]
  },
  {
   "cell_type": "code",
   "execution_count": 22,
   "metadata": {},
   "outputs": [
    {
     "data": {
      "image/png": "[encoded data removed]",
      "text/plain": [
       "<Figure size 432x288 with 1 Axes>"
      ]
     },
     "metadata": {
      "needs_background": "light"
     },
     "output_type": "display_data"
    }
   ],
   "source": [
    "fig1 = plt.figure(figsize=(6,4))\n",
    "data.groupby('Label').Body.count().plot.bar(ylim=0)\n",
    "plt.show()"
   ]
  },
  {
   "cell_type": "code",
   "execution_count": 23,
   "metadata": {},
   "outputs": [
    {
     "data": {
      "text/plain": [
       "0    2137\n",
       "1    2136\n",
       "Name: Label, dtype: int64"
      ]
     },
     "execution_count": 23,
     "metadata": {},
     "output_type": "execute_result"
    }
   ],
   "source": [
    "# For entire dataset sentences for each labels \n",
    "data.Label.value_counts()"
   ]
  },
  {
   "cell_type": "code",
   "execution_count": 24,
   "metadata": {},
   "outputs": [
    {
     "data": {
      "text/html": [
       "<div>\n",
       "<style scoped>\n",
       "    .dataframe tbody tr th:only-of-type {\n",
       "        vertical-align: middle;\n",
       "    }\n",
       "\n",
       "    .dataframe tbody tr th {\n",
       "        vertical-align: top;\n",
       "    }\n",
       "\n",
       "    .dataframe thead th {\n",
       "        text-align: right;\n",
       "    }\n",
       "</style>\n",
       "<table border=\"1\" class=\"dataframe\">\n",
       "  <thead>\n",
       "    <tr style=\"text-align: right;\">\n",
       "      <th></th>\n",
       "      <th>Body</th>\n",
       "      <th>Label</th>\n",
       "    </tr>\n",
       "  </thead>\n",
       "  <tbody>\n",
       "    <tr>\n",
       "      <th>0</th>\n",
       "      <td>By Tony Cartalucci\\n \\nNothing is more deplora...</td>\n",
       "      <td>0</td>\n",
       "    </tr>\n",
       "    <tr>\n",
       "      <th>1</th>\n",
       "      <td>An Embattled Pharmaceutical Company That Sells...</td>\n",
       "      <td>0</td>\n",
       "    </tr>\n",
       "    <tr>\n",
       "      <th>2</th>\n",
       "      <td>Video\\nThey were brought to the US illegally a...</td>\n",
       "      <td>1</td>\n",
       "    </tr>\n",
       "    <tr>\n",
       "      <th>3</th>\n",
       "      <td>IRS Still Going After Obama’s Political Foes a...</td>\n",
       "      <td>0</td>\n",
       "    </tr>\n",
       "    <tr>\n",
       "      <th>4</th>\n",
       "      <td>By Tony Cartalucci\\nPerhaps the only thing mor...</td>\n",
       "      <td>0</td>\n",
       "    </tr>\n",
       "    <tr>\n",
       "      <th>...</th>\n",
       "      <td>...</td>\n",
       "      <td>...</td>\n",
       "    </tr>\n",
       "    <tr>\n",
       "      <th>4268</th>\n",
       "      <td>Vietnam Is in Great Danger, You Must Publish a...</td>\n",
       "      <td>0</td>\n",
       "    </tr>\n",
       "    <tr>\n",
       "      <th>4269</th>\n",
       "      <td>\"Saturday Night Live\" kicked off its latest ep...</td>\n",
       "      <td>1</td>\n",
       "    </tr>\n",
       "    <tr>\n",
       "      <th>4270</th>\n",
       "      <td>Red Flag Warning: These California Wildfires A...</td>\n",
       "      <td>0</td>\n",
       "    </tr>\n",
       "    <tr>\n",
       "      <th>4271</th>\n",
       "      <td>The husband of Kubra Golge, above, is among th...</td>\n",
       "      <td>1</td>\n",
       "    </tr>\n",
       "    <tr>\n",
       "      <th>4272</th>\n",
       "      <td>Stephen Colbert and Jon Stewart teamed up to h...</td>\n",
       "      <td>1</td>\n",
       "    </tr>\n",
       "  </tbody>\n",
       "</table>\n",
       "<p>4273 rows × 2 columns</p>\n",
       "</div>"
      ],
      "text/plain": [
       "                                                   Body Label\n",
       "0     By Tony Cartalucci\\n \\nNothing is more deplora...     0\n",
       "1     An Embattled Pharmaceutical Company That Sells...     0\n",
       "2     Video\\nThey were brought to the US illegally a...     1\n",
       "3     IRS Still Going After Obama’s Political Foes a...     0\n",
       "4     By Tony Cartalucci\\nPerhaps the only thing mor...     0\n",
       "...                                                 ...   ...\n",
       "4268  Vietnam Is in Great Danger, You Must Publish a...     0\n",
       "4269  \"Saturday Night Live\" kicked off its latest ep...     1\n",
       "4270  Red Flag Warning: These California Wildfires A...     0\n",
       "4271  The husband of Kubra Golge, above, is among th...     1\n",
       "4272  Stephen Colbert and Jon Stewart teamed up to h...     1\n",
       "\n",
       "[4273 rows x 2 columns]"
      ]
     },
     "execution_count": 24,
     "metadata": {},
     "output_type": "execute_result"
    }
   ],
   "source": [
    "\n",
    "data=data.sample(frac=1).reset_index(drop=True)\n",
    "data"
   ]
  },
  {
   "cell_type": "markdown",
   "metadata": {},
   "source": [
    "### Data Preprocessing"
   ]
  },
  {
   "cell_type": "code",
   "execution_count": 25,
   "metadata": {},
   "outputs": [],
   "source": [
    "# People usually join sentences using more than one colon \n",
    "\n",
    "def ReplaceDoubleColon(inputString):\n",
    "    return inputString.replace(\"..\", \" \") \n",
    "\n",
    "data['Body'] = data['Body'].apply(lambda x: ReplaceDoubleColon(x))\n",
    "\n",
    "def ReplaceTripleColon(inputString):\n",
    "    return inputString.replace(\"...\", \" \") \n",
    "\n",
    "data['Body'] = data['Body'].apply(lambda x: ReplaceTripleColon(x))\n",
    "\n",
    "def ReplaceFourColon(inputString):\n",
    "    return inputString.replace(\"....\", \" \") \n",
    "\n",
    "data['Body'] = data['Body'].apply(lambda x: ReplaceFourColon(x))"
   ]
  },
  {
   "cell_type": "code",
   "execution_count": 26,
   "metadata": {},
   "outputs": [],
   "source": [
    "def textPattern(text):\n",
    "\n",
    "    # Clean the text\n",
    "    text = re.sub(r\"[^A-Za-z0-9^,!.\\/'+-=]\", \" \", text)\n",
    "    text = re.sub(r\" \\n \", \" \", text)\n",
    "    text = re.sub(r\"what's\", \"what is\", text)\n",
    "    text = re.sub(r\"\\'s\", \" \", text)\n",
    "    text = re.sub(r\"\\'ve\", \"have\", text)\n",
    "    text = re.sub(r\"can't\", \"can not\", text)\n",
    "    text = re.sub(r\"aren't\", \"are not\", text)\n",
    "    text = re.sub(r\"couldn't\", \"could not\", text)\n",
    "    text = re.sub(r\"didn't\", \"did not\", text)\n",
    "    text = re.sub(r\"doesn't\", \"does not\", text)\n",
    "    text = re.sub(r\"don't\", \"do not\", text)\n",
    "    text = re.sub(r\"hadn't\", \"had not\", text)\n",
    "    text = re.sub(r\"hasn't\", \"has not\", text)\n",
    "    text = re.sub(r\"haven't\", \"have not\", text)\n",
    "    text = re.sub(r\"isn't\", \"is not\", text)\n",
    "    text = re.sub(r\"shouldn't\", \"should not\", text)\n",
    "    text = re.sub(r\"wasn't\", \"was not\", text)\n",
    "    text = re.sub(r\"weren't\", \"were not\", text)\n",
    "    text = re.sub(r\"won't\", \"will not\", text)\n",
    "    text = re.sub(r\"wouldn't\", \"would not\", text)\n",
    "    text = re.sub(r\"mustn't\", \"must not\", text)\n",
    "    text = re.sub(r\"i'm\", \"i am\", text)\n",
    "    text = re.sub(r\"\\'re\", \"are\", text)\n",
    "    text = re.sub(r\",\", \" \", text)\n",
    "    text = re.sub(r\"\\.\", \" \", text)\n",
    "    text = re.sub(r\"!\", \" \", text)\n",
    "    text = re.sub(r\"\\/\", \" \", text)\n",
    "    text = re.sub(r\"\\^\", \" ^ \", text)\n",
    "    text = re.sub(r\"\\+\", \" \", text)\n",
    "    text = re.sub(r\"\\-\", \" - \", text)\n",
    "    text = re.sub(r\"\\= =\", \" \", text)\n",
    "    text = re.sub(r\"\\==\", \" \", text)\n",
    "    text = re.sub(r\"'\", \" \", text)\n",
    "    text = re.sub(r\"(\\d+)(k)\", r\"\\g<1>000\", text)\n",
    "    text = re.sub(r\":\", \" : \", text)\n",
    "    text = re.sub(r\"\\0s\", \"0\", text)\n",
    "    text = re.sub(r\" 9 11 \", \"911\", text)\n",
    "    text = re.sub(r\"\\s{2,}\", \" \", text)\n",
    "    return text\n",
    "\n",
    "data['Body'] = data['Body'].apply(lambda x: textPattern(x))"
   ]
  },
  {
   "cell_type": "code",
   "execution_count": 27,
   "metadata": {},
   "outputs": [
    {
     "data": {
      "text/plain": [
       "(4273, 2)"
      ]
     },
     "execution_count": 27,
     "metadata": {},
     "output_type": "execute_result"
    }
   ],
   "source": [
    "data.shape"
   ]
  },
  {
   "cell_type": "code",
   "execution_count": 28,
   "metadata": {},
   "outputs": [],
   "source": [
    "# Word Tokenization\n",
    "tokens = [word_tokenize(sen) for sen in data.Body]"
   ]
  },
  {
   "cell_type": "code",
   "execution_count": 29,
   "metadata": {},
   "outputs": [],
   "source": [
    "# Lower Case\n",
    "def lower_token(tokens): \n",
    "    return [w.lower() for w in tokens]    \n",
    "    \n",
    "lower_tokens = [lower_token(token) for token in tokens]"
   ]
  },
  {
   "cell_type": "code",
   "execution_count": 30,
   "metadata": {},
   "outputs": [],
   "source": [
    "# Remove Link\n",
    "\n",
    "def removeLink(token):\n",
    "    word = []\n",
    "    for w in token:\n",
    "        if not w.startswith('http'):\n",
    "            word.append(w)\n",
    "    return word \n",
    "    \n",
    "removedLink_tokens = [removeLink(token) for token in lower_tokens]"
   ]
  },
  {
   "cell_type": "code",
   "execution_count": 31,
   "metadata": {},
   "outputs": [],
   "source": [
    "# Word Lemmatization\n",
    "def lemmatization(token):\n",
    "    return [lemmatizer.lemmatize(w) for w in token] \n",
    "\n",
    "lemmatizer = WordNetLemmatizer()\n",
    "\n",
    "lemmatized_tokens = [lemmatization(token) for token in removedLink_tokens]"
   ]
  },
  {
   "cell_type": "code",
   "execution_count": 32,
   "metadata": {},
   "outputs": [],
   "source": [
    "# Removing Stopwords\n",
    "stoplist = stopwords.words('english')"
   ]
  },
  {
   "cell_type": "code",
   "execution_count": 33,
   "metadata": {},
   "outputs": [],
   "source": [
    "def removeStopWords(tokens): \n",
    "    return [word for word in tokens if word not in stoplist]\n",
    "\n",
    "filtered_words = [removeStopWords(sen) for sen in lemmatized_tokens]\n",
    "data['Text_Final'] = [' '.join(sen) for sen in filtered_words]\n",
    "data['tokens'] = filtered_words"
   ]
  },
  {
   "cell_type": "code",
   "execution_count": 35,
   "metadata": {},
   "outputs": [],
   "source": [
    "zero  = []\n",
    "one = []\n",
    "for l in data.Label:\n",
    "    \n",
    "    if l == '0':\n",
    "        zero.append(1)\n",
    "        one.append(0)\n",
    "    elif l == '1':\n",
    "        zero.append(0)\n",
    "        one.append(1)\n",
    "        \n",
    "data['0']= zero\n",
    "data['1']= one\n",
    "\n",
    "data = data[['Text_Final', 'tokens', 'Label', '0', '1']]"
   ]
  },
  {
   "cell_type": "code",
   "execution_count": 36,
   "metadata": {},
   "outputs": [
    {
     "data": {
      "text/html": [
       "<div>\n",
       "<style scoped>\n",
       "    .dataframe tbody tr th:only-of-type {\n",
       "        vertical-align: middle;\n",
       "    }\n",
       "\n",
       "    .dataframe tbody tr th {\n",
       "        vertical-align: top;\n",
       "    }\n",
       "\n",
       "    .dataframe thead th {\n",
       "        text-align: right;\n",
       "    }\n",
       "</style>\n",
       "<table border=\"1\" class=\"dataframe\">\n",
       "  <thead>\n",
       "    <tr style=\"text-align: right;\">\n",
       "      <th></th>\n",
       "      <th>Text_Final</th>\n",
       "      <th>tokens</th>\n",
       "      <th>Label</th>\n",
       "      <th>0</th>\n",
       "      <th>1</th>\n",
       "      <th>Category_id</th>\n",
       "    </tr>\n",
       "  </thead>\n",
       "  <tbody>\n",
       "    <tr>\n",
       "      <th>0</th>\n",
       "      <td>tony cartalucci nothing deplorable hijacking h...</td>\n",
       "      <td>[tony, cartalucci, nothing, deplorable, hijack...</td>\n",
       "      <td>0</td>\n",
       "      <td>1</td>\n",
       "      <td>0</td>\n",
       "      <td>0</td>\n",
       "    </tr>\n",
       "    <tr>\n",
       "      <th>1</th>\n",
       "      <td>embattled pharmaceutical company sell powerful...</td>\n",
       "      <td>[embattled, pharmaceutical, company, sell, pow...</td>\n",
       "      <td>0</td>\n",
       "      <td>1</td>\n",
       "      <td>0</td>\n",
       "      <td>0</td>\n",
       "    </tr>\n",
       "    <tr>\n",
       "      <th>2</th>\n",
       "      <td>video brought u illegally child - america plac...</td>\n",
       "      <td>[video, brought, u, illegally, child, -, ameri...</td>\n",
       "      <td>1</td>\n",
       "      <td>0</td>\n",
       "      <td>1</td>\n",
       "      <td>1</td>\n",
       "    </tr>\n",
       "    <tr>\n",
       "      <th>3</th>\n",
       "      <td>irs still going obama political foe agency ass...</td>\n",
       "      <td>[irs, still, going, obama, political, foe, age...</td>\n",
       "      <td>0</td>\n",
       "      <td>1</td>\n",
       "      <td>0</td>\n",
       "      <td>0</td>\n",
       "    </tr>\n",
       "    <tr>\n",
       "      <th>4</th>\n",
       "      <td>tony cartalucci perhaps thing incredible quick...</td>\n",
       "      <td>[tony, cartalucci, perhaps, thing, incredible,...</td>\n",
       "      <td>0</td>\n",
       "      <td>1</td>\n",
       "      <td>0</td>\n",
       "      <td>0</td>\n",
       "    </tr>\n",
       "    <tr>\n",
       "      <th>5</th>\n",
       "      <td>washington cnn former white house chief strate...</td>\n",
       "      <td>[washington, cnn, former, white, house, chief,...</td>\n",
       "      <td>1</td>\n",
       "      <td>0</td>\n",
       "      <td>1</td>\n",
       "      <td>1</td>\n",
       "    </tr>\n",
       "    <tr>\n",
       "      <th>6</th>\n",
       "      <td>trump push kneeling rule nfl news cdn : www co...</td>\n",
       "      <td>[trump, push, kneeling, rule, nfl, news, cdn, ...</td>\n",
       "      <td>0</td>\n",
       "      <td>1</td>\n",
       "      <td>0</td>\n",
       "      <td>0</td>\n",
       "    </tr>\n",
       "    <tr>\n",
       "      <th>7</th>\n",
       "      <td>shop taipei taiwan ha charging 325 presidentia...</td>\n",
       "      <td>[shop, taipei, taiwan, ha, charging, 325, pres...</td>\n",
       "      <td>1</td>\n",
       "      <td>0</td>\n",
       "      <td>1</td>\n",
       "      <td>1</td>\n",
       "    </tr>\n",
       "    <tr>\n",
       "      <th>8</th>\n",
       "      <td>frankfurt duesseldorf reuters - germany hochti...</td>\n",
       "      <td>[frankfurt, duesseldorf, reuters, -, germany, ...</td>\n",
       "      <td>1</td>\n",
       "      <td>0</td>\n",
       "      <td>1</td>\n",
       "      <td>1</td>\n",
       "    </tr>\n",
       "  </tbody>\n",
       "</table>\n",
       "</div>"
      ],
      "text/plain": [
       "                                          Text_Final  \\\n",
       "0  tony cartalucci nothing deplorable hijacking h...   \n",
       "1  embattled pharmaceutical company sell powerful...   \n",
       "2  video brought u illegally child - america plac...   \n",
       "3  irs still going obama political foe agency ass...   \n",
       "4  tony cartalucci perhaps thing incredible quick...   \n",
       "5  washington cnn former white house chief strate...   \n",
       "6  trump push kneeling rule nfl news cdn : www co...   \n",
       "7  shop taipei taiwan ha charging 325 presidentia...   \n",
       "8  frankfurt duesseldorf reuters - germany hochti...   \n",
       "\n",
       "                                              tokens Label  0  1 Category_id  \n",
       "0  [tony, cartalucci, nothing, deplorable, hijack...     0  1  0           0  \n",
       "1  [embattled, pharmaceutical, company, sell, pow...     0  1  0           0  \n",
       "2  [video, brought, u, illegally, child, -, ameri...     1  0  1           1  \n",
       "3  [irs, still, going, obama, political, foe, age...     0  1  0           0  \n",
       "4  [tony, cartalucci, perhaps, thing, incredible,...     0  1  0           0  \n",
       "5  [washington, cnn, former, white, house, chief,...     1  0  1           1  \n",
       "6  [trump, push, kneeling, rule, nfl, news, cdn, ...     0  1  0           0  \n",
       "7  [shop, taipei, taiwan, ha, charging, 325, pres...     1  0  1           1  \n",
       "8  [frankfurt, duesseldorf, reuters, -, germany, ...     1  0  1           1  "
      ]
     },
     "execution_count": 36,
     "metadata": {},
     "output_type": "execute_result"
    }
   ],
   "source": [
    "category_id = []\n",
    "for l in data.Label:\n",
    "    \n",
    "    if l == '0':\n",
    "        category_id.append('0')\n",
    "    elif l == '1':\n",
    "        category_id.append('1')\n",
    "        \n",
    "data['Category_id'] = category_id\n",
    "\n",
    "data = data[['Text_Final', 'tokens', 'Label', '0', '1', 'Category_id' ]]\n",
    "data.head(9)"
   ]
  },
  {
   "cell_type": "code",
   "execution_count": 37,
   "metadata": {},
   "outputs": [],
   "source": [
    "from io import StringIO\n",
    "category_id_df = data[['Label', 'Category_id']].drop_duplicates().sort_values('Category_id')\n",
    "category_to_label_dict = dict(category_id_df.values)\n",
    "label_to_category_dict = dict(category_id_df[['Category_id', 'Label']].values)"
   ]
  },
  {
   "cell_type": "markdown",
   "metadata": {},
   "source": [
    "#### Split Data into test and train\n",
    "We will use 90 % data for training and 20 % for testing. We use random state so every time we get the same training and testing data."
   ]
  },
  {
   "cell_type": "code",
   "execution_count": 38,
   "metadata": {},
   "outputs": [
    {
     "data": {
      "text/plain": [
       "(4273, 6)"
      ]
     },
     "execution_count": 38,
     "metadata": {},
     "output_type": "execute_result"
    }
   ],
   "source": [
    "data.shape"
   ]
  },
  {
   "cell_type": "code",
   "execution_count": 39,
   "metadata": {},
   "outputs": [],
   "source": [
    "data_train, data_test = train_test_split(data, test_size=0.10, random_state=42)\n"
   ]
  },
  {
   "cell_type": "code",
   "execution_count": 40,
   "metadata": {},
   "outputs": [],
   "source": [
    "# # total training words\n",
    "totalTrainingWords = [word for tokens in data_train[\"tokens\"] for word in tokens]\n",
    "\n",
    "# # Storing Length of the training sentence\n",
    "lengthTrainingSentences = [len(tokens) for tokens in data_train[\"tokens\"]]\n",
    "\n",
    "# # training Vocabulary size\n",
    "trainingVocabSize = sorted(list(set(totalTrainingWords)))\n",
    "\n",
    "## Total number of lines\n",
    "linesCount = len(data_train[\"tokens\"])"
   ]
  },
  {
   "cell_type": "markdown",
   "metadata": {},
   "source": [
    "### Load Google News Glove model"
   ]
  },
  {
   "cell_type": "code",
   "execution_count": 41,
   "metadata": {},
   "outputs": [],
   "source": [
    "# word2vec_path = 'GoogleNews-vectors-negative300.bin'\n",
    "# #word2vec_path = 'glove.6B.50d.word2vec'"
   ]
  },
  {
   "cell_type": "code",
   "execution_count": 42,
   "metadata": {},
   "outputs": [],
   "source": [
    "# from gensim import models\n",
    "# word2vec = models.KeyedVectors.load_word2vec_format(word2vec_path, binary=True)\n"
   ]
  },
  {
   "cell_type": "code",
   "execution_count": 43,
   "metadata": {},
   "outputs": [
    {
     "name": "stderr",
     "output_type": "stream",
     "text": [
      "<ipython-input-43-94d1a7902d0c>:5: DeprecationWarning: Call to deprecated `glove2word2vec` (KeyedVectors.load_word2vec_format(.., binary=False, no_header=True) loads GLoVE text vectors.).\n",
      "  glove2word2vec(glove_input_file, word2vec_output_file)\n"
     ]
    },
    {
     "data": {
      "text/plain": [
       "(400000, 300)"
      ]
     },
     "execution_count": 43,
     "metadata": {},
     "output_type": "execute_result"
    }
   ],
   "source": [
    "# Convert Glove file to word2vec format (examples: uses 50 dimensions since it's faster)\n",
    "from gensim.scripts.glove2word2vec import glove2word2vec\n",
    "glove_input_file = 'glove.6B.300d.txt'  # I unzipped in glove.6B subdirectory \n",
    "word2vec_output_file = 'glove.6B.300d.word2vec'\n",
    "glove2word2vec(glove_input_file, word2vec_output_file)"
   ]
  },
  {
   "cell_type": "code",
   "execution_count": 44,
   "metadata": {},
   "outputs": [],
   "source": [
    "# Use the converted Glove file\n",
    "\n",
    "\n",
    "filename = 'glove.6B.300d.word2vec'\n",
    "word2vec = KeyedVectors.load_word2vec_format(filename, binary=False)\n"
   ]
  },
  {
   "cell_type": "code",
   "execution_count": 45,
   "metadata": {},
   "outputs": [
    {
     "data": {
      "text/plain": [
       "<gensim.models.keyedvectors.KeyedVectors at 0x7f8e79650d60>"
      ]
     },
     "execution_count": 45,
     "metadata": {},
     "output_type": "execute_result"
    }
   ],
   "source": [
    "word2vec"
   ]
  },
  {
   "cell_type": "code",
   "execution_count": 46,
   "metadata": {},
   "outputs": [],
   "source": [
    "MAX_SEQUENCE_LENGTH = 150\n",
    "EMBEDDING_DIM = 300"
   ]
  },
  {
   "cell_type": "markdown",
   "metadata": {},
   "source": [
    "\n",
    "### Tokenize and Pad sequences"
   ]
  },
  {
   "cell_type": "code",
   "execution_count": 47,
   "metadata": {},
   "outputs": [
    {
     "name": "stdout",
     "output_type": "stream",
     "text": [
      "Found 39491 unique tokens.\n"
     ]
    }
   ],
   "source": [
    "tokenizer = Tokenizer(num_words=len(trainingVocabSize), lower=True, char_level=False)\n",
    "tokenizer.fit_on_texts(data_train[\"Text_Final\"].tolist())\n",
    "training_sequences = tokenizer.texts_to_sequences(data_train[\"Text_Final\"].tolist())\n",
    "\n",
    "train_word_index = tokenizer.word_index\n",
    "print('Found %s unique tokens.' % len(train_word_index))"
   ]
  },
  {
   "cell_type": "code",
   "execution_count": 48,
   "metadata": {},
   "outputs": [],
   "source": [
    "cnnTrainData = pad_sequences(training_sequences, maxlen=MAX_SEQUENCE_LENGTH)"
   ]
  },
  {
   "cell_type": "code",
   "execution_count": 49,
   "metadata": {},
   "outputs": [
    {
     "name": "stdout",
     "output_type": "stream",
     "text": [
      "(39492, 300)\n"
     ]
    }
   ],
   "source": [
    "train_embedding_weights = np.zeros((len(train_word_index)+1, EMBEDDING_DIM))\n",
    "for word,index in train_word_index.items():\n",
    "    train_embedding_weights[index,:] = word2vec[word] if word in word2vec else np.random.rand(EMBEDDING_DIM)\n",
    "print(train_embedding_weights.shape)"
   ]
  },
  {
   "cell_type": "code",
   "execution_count": 50,
   "metadata": {},
   "outputs": [],
   "source": [
    "test_sequences = tokenizer.texts_to_sequences(data_test[\"Text_Final\"].tolist())\n",
    "cnnTestData = pad_sequences(test_sequences, maxlen= MAX_SEQUENCE_LENGTH)"
   ]
  },
  {
   "cell_type": "markdown",
   "metadata": {},
   "source": [
    "### Define CNN"
   ]
  },
  {
   "cell_type": "markdown",
   "metadata": {},
   "source": [
    "The model is from the paper 'Convolutional Neural Networks for Sentence Classification' we have updated the network according to our requirement [1]"
   ]
  },
  {
   "cell_type": "code",
   "execution_count": 51,
   "metadata": {},
   "outputs": [],
   "source": [
    "label_names = ['0', '1']"
   ]
  },
  {
   "cell_type": "code",
   "execution_count": 52,
   "metadata": {},
   "outputs": [],
   "source": [
    "from tensorflow.keras import optimizers\n",
    "def ConvolutionalNeuralNet(embeddings, max_sequence_length, num_words, embedding_dim, labels_index):\n",
    "    \n",
    "    # Embedding layer\n",
    "    embedding_layer = Embedding(num_words,\n",
    "                            embedding_dim,\n",
    "                            weights=[embeddings],\n",
    "                            input_length=max_sequence_length,\n",
    "                            trainable=False)\n",
    "    \n",
    "    sequence_input = Input(shape=(max_sequence_length,), dtype='int32')\n",
    "    embedded_sequences = embedding_layer(sequence_input)\n",
    "\n",
    "    convs = []\n",
    "    \n",
    "    #Kernal (window) size\n",
    "    filter_sizes = [2,3,4,5]\n",
    "\n",
    "    # Convolution Layer and max-pooling\n",
    "    for filter_size in filter_sizes:\n",
    "        l_conv = Conv1D(filters=512, kernel_size=filter_size, activation='relu')(embedded_sequences)\n",
    "        l_pool = GlobalMaxPooling1D()(l_conv)\n",
    "        convs.append(l_pool)\n",
    "        \n",
    "    l_merge = concatenate(convs, axis=1)\n",
    "    \n",
    "    # softmax layer for multiclass identification \n",
    "    x = Dropout(0.1)(l_merge)  \n",
    "    x = Dense(512, activation='relu')(x)\n",
    "    x = Dropout(0.2)(x)\n",
    "    preds = Dense(labels_index, activation='softmax')(x)\n",
    "\n",
    "    model = Model(sequence_input, preds)\n",
    "    model.compile(loss= 'categorical_crossentropy',\n",
    "                 optimizer = optimizers.RMSprop(learning_rate=1e-3),\n",
    "#                    optimizer='adam',\n",
    "                  metrics=['accuracy'])\n",
    "    return model"
   ]
  },
  {
   "cell_type": "code",
   "execution_count": 53,
   "metadata": {},
   "outputs": [],
   "source": [
    "# Splitting train data into X_train and y_train\n",
    "y_train = data_train[label_names].values\n",
    "x_train = cnnTrainData\n",
    "y_tr = y_train"
   ]
  },
  {
   "cell_type": "code",
   "execution_count": 54,
   "metadata": {},
   "outputs": [],
   "source": [
    "# Splitting train data into X_test and y_test\n",
    "y_test = data_test[label_names].values\n",
    "x_test = cnnTestData\n",
    "y_tst = y_test"
   ]
  },
  {
   "cell_type": "code",
   "execution_count": 55,
   "metadata": {},
   "outputs": [],
   "source": [
    "model = ConvolutionalNeuralNet(train_embedding_weights, MAX_SEQUENCE_LENGTH, len(train_word_index)+1, EMBEDDING_DIM, len(list(label_names)))"
   ]
  },
  {
   "cell_type": "code",
   "execution_count": 56,
   "metadata": {},
   "outputs": [
    {
     "name": "stdout",
     "output_type": "stream",
     "text": [
      "Model: \"functional_1\"\n",
      "__________________________________________________________________________________________________\n",
      "Layer (type)                    Output Shape         Param #     Connected to                     \n",
      "==================================================================================================\n",
      "input_1 (InputLayer)            [(None, 150)]        0                                            \n",
      "__________________________________________________________________________________________________\n",
      "embedding (Embedding)           (None, 150, 300)     11847600    input_1[0][0]                    \n",
      "__________________________________________________________________________________________________\n",
      "conv1d (Conv1D)                 (None, 149, 512)     307712      embedding[0][0]                  \n",
      "__________________________________________________________________________________________________\n",
      "conv1d_1 (Conv1D)               (None, 148, 512)     461312      embedding[0][0]                  \n",
      "__________________________________________________________________________________________________\n",
      "conv1d_2 (Conv1D)               (None, 147, 512)     614912      embedding[0][0]                  \n",
      "__________________________________________________________________________________________________\n",
      "conv1d_3 (Conv1D)               (None, 146, 512)     768512      embedding[0][0]                  \n",
      "__________________________________________________________________________________________________\n",
      "global_max_pooling1d (GlobalMax (None, 512)          0           conv1d[0][0]                     \n",
      "__________________________________________________________________________________________________\n",
      "global_max_pooling1d_1 (GlobalM (None, 512)          0           conv1d_1[0][0]                   \n",
      "__________________________________________________________________________________________________\n",
      "global_max_pooling1d_2 (GlobalM (None, 512)          0           conv1d_2[0][0]                   \n",
      "__________________________________________________________________________________________________\n",
      "global_max_pooling1d_3 (GlobalM (None, 512)          0           conv1d_3[0][0]                   \n",
      "__________________________________________________________________________________________________\n",
      "concatenate (Concatenate)       (None, 2048)         0           global_max_pooling1d[0][0]       \n",
      "                                                                 global_max_pooling1d_1[0][0]     \n",
      "                                                                 global_max_pooling1d_2[0][0]     \n",
      "                                                                 global_max_pooling1d_3[0][0]     \n",
      "__________________________________________________________________________________________________\n",
      "dropout (Dropout)               (None, 2048)         0           concatenate[0][0]                \n",
      "__________________________________________________________________________________________________\n",
      "dense (Dense)                   (None, 512)          1049088     dropout[0][0]                    \n",
      "__________________________________________________________________________________________________\n",
      "dropout_1 (Dropout)             (None, 512)          0           dense[0][0]                      \n",
      "__________________________________________________________________________________________________\n",
      "dense_1 (Dense)                 (None, 2)            1026        dropout_1[0][0]                  \n",
      "==================================================================================================\n",
      "Total params: 15,050,162\n",
      "Trainable params: 3,202,562\n",
      "Non-trainable params: 11,847,600\n",
      "__________________________________________________________________________________________________\n"
     ]
    }
   ],
   "source": [
    "model.summary()"
   ]
  },
  {
   "cell_type": "markdown",
   "metadata": {},
   "source": [
    "### Train CNN"
   ]
  },
  {
   "cell_type": "code",
   "execution_count": 57,
   "metadata": {},
   "outputs": [],
   "source": [
    "num_epochs = 100\n",
    "batch_size = 32"
   ]
  },
  {
   "cell_type": "code",
   "execution_count": 58,
   "metadata": {},
   "outputs": [
    {
     "name": "stdout",
     "output_type": "stream",
     "text": [
      "Epoch 1/100\n",
      "109/109 [==============================] - 50s 457ms/step - loss: 0.9099 - accuracy: 0.8471 - val_loss: 0.0770 - val_accuracy: 0.9714\n",
      "Epoch 2/100\n",
      "109/109 [==============================] - 53s 482ms/step - loss: 0.1015 - accuracy: 0.9682 - val_loss: 0.0427 - val_accuracy: 0.9844\n",
      "Epoch 3/100\n",
      "109/109 [==============================] - 62s 569ms/step - loss: 0.0670 - accuracy: 0.9832 - val_loss: 0.0534 - val_accuracy: 0.9896\n",
      "Epoch 4/100\n",
      "109/109 [==============================] - 60s 555ms/step - loss: 0.0643 - accuracy: 0.9882 - val_loss: 0.0449 - val_accuracy: 0.9896\n",
      "Epoch 5/100\n",
      "109/109 [==============================] - 60s 549ms/step - loss: 0.0331 - accuracy: 0.9934 - val_loss: 0.0674 - val_accuracy: 0.9896\n",
      "Epoch 6/100\n",
      "109/109 [==============================] - 49s 451ms/step - loss: 0.0627 - accuracy: 0.9899 - val_loss: 0.0777 - val_accuracy: 0.9896\n",
      "Epoch 7/100\n",
      "109/109 [==============================] - 46s 424ms/step - loss: 0.0311 - accuracy: 0.9954 - val_loss: 0.1518 - val_accuracy: 0.9662\n",
      "Epoch 8/100\n",
      "109/109 [==============================] - 45s 417ms/step - loss: 0.0334 - accuracy: 0.9960 - val_loss: 0.0669 - val_accuracy: 0.9922\n",
      "Epoch 9/100\n",
      "109/109 [==============================] - 46s 418ms/step - loss: 0.0490 - accuracy: 0.9957 - val_loss: 0.2879 - val_accuracy: 0.9844\n",
      "Epoch 10/100\n",
      "109/109 [==============================] - 46s 425ms/step - loss: 0.0208 - accuracy: 0.9962 - val_loss: 0.0316 - val_accuracy: 0.9922\n",
      "Epoch 11/100\n",
      "109/109 [==============================] - 46s 425ms/step - loss: 0.0041 - accuracy: 0.9991 - val_loss: 0.0889 - val_accuracy: 0.9896\n",
      "Epoch 12/100\n",
      "109/109 [==============================] - 45s 416ms/step - loss: 0.0364 - accuracy: 0.9954 - val_loss: 0.0932 - val_accuracy: 0.9948\n",
      "Epoch 13/100\n",
      "109/109 [==============================] - 45s 417ms/step - loss: 0.0099 - accuracy: 0.9977 - val_loss: 0.0662 - val_accuracy: 0.9922\n",
      "Epoch 14/100\n",
      "109/109 [==============================] - 46s 426ms/step - loss: 0.0157 - accuracy: 0.9977 - val_loss: 0.0602 - val_accuracy: 0.9922\n",
      "Epoch 15/100\n",
      "109/109 [==============================] - 49s 454ms/step - loss: 0.0826 - accuracy: 0.9957 - val_loss: 0.1703 - val_accuracy: 0.9922\n",
      "Epoch 16/100\n",
      "109/109 [==============================] - 46s 422ms/step - loss: 0.0077 - accuracy: 0.9986 - val_loss: 0.1605 - val_accuracy: 0.9922\n",
      "Epoch 17/100\n",
      "109/109 [==============================] - 46s 421ms/step - loss: 0.0191 - accuracy: 0.9977 - val_loss: 0.0902 - val_accuracy: 0.9922\n",
      "Epoch 18/100\n",
      "109/109 [==============================] - 46s 422ms/step - loss: 0.0039 - accuracy: 0.9991 - val_loss: 0.0926 - val_accuracy: 0.9922\n",
      "Epoch 19/100\n",
      "109/109 [==============================] - 46s 419ms/step - loss: 0.0239 - accuracy: 0.9965 - val_loss: 0.1529 - val_accuracy: 0.9922\n",
      "Epoch 20/100\n",
      "109/109 [==============================] - 46s 418ms/step - loss: 0.0018 - accuracy: 0.9991 - val_loss: 0.1046 - val_accuracy: 0.9922\n",
      "Epoch 21/100\n",
      "109/109 [==============================] - 46s 424ms/step - loss: 0.0287 - accuracy: 0.9965 - val_loss: 0.1396 - val_accuracy: 0.9922\n",
      "Epoch 22/100\n",
      "109/109 [==============================] - 46s 423ms/step - loss: 0.0058 - accuracy: 0.9991 - val_loss: 0.1476 - val_accuracy: 0.9922\n",
      "Epoch 23/100\n",
      "109/109 [==============================] - 46s 422ms/step - loss: 0.0271 - accuracy: 0.9980 - val_loss: 0.1131 - val_accuracy: 0.9922\n",
      "Epoch 24/100\n",
      "109/109 [==============================] - 46s 422ms/step - loss: 0.0035 - accuracy: 0.9991 - val_loss: 0.4734 - val_accuracy: 0.9766\n",
      "Epoch 25/100\n",
      "109/109 [==============================] - 46s 423ms/step - loss: 0.0295 - accuracy: 0.9960 - val_loss: 0.1645 - val_accuracy: 0.9870\n",
      "Epoch 26/100\n",
      "109/109 [==============================] - 46s 426ms/step - loss: 0.0160 - accuracy: 0.9977 - val_loss: 0.1357 - val_accuracy: 0.9922\n",
      "Epoch 27/100\n",
      "109/109 [==============================] - 46s 423ms/step - loss: 0.0109 - accuracy: 0.9980 - val_loss: 0.1894 - val_accuracy: 0.9870\n",
      "Epoch 28/100\n",
      "109/109 [==============================] - 46s 420ms/step - loss: 0.0472 - accuracy: 0.9957 - val_loss: 0.4416 - val_accuracy: 0.9844\n",
      "Epoch 29/100\n",
      "109/109 [==============================] - 46s 422ms/step - loss: 0.0085 - accuracy: 0.9983 - val_loss: 0.1508 - val_accuracy: 0.9896\n",
      "Epoch 30/100\n",
      "109/109 [==============================] - 47s 427ms/step - loss: 0.0029 - accuracy: 0.9991 - val_loss: 0.1463 - val_accuracy: 0.9922\n",
      "Epoch 31/100\n",
      "109/109 [==============================] - 46s 426ms/step - loss: 0.0041 - accuracy: 0.9991 - val_loss: 0.1437 - val_accuracy: 0.9922\n",
      "Epoch 32/100\n",
      "109/109 [==============================] - 48s 438ms/step - loss: 0.0026 - accuracy: 0.9991 - val_loss: 0.1086 - val_accuracy: 0.9948\n",
      "Epoch 33/100\n",
      "109/109 [==============================] - 46s 426ms/step - loss: 0.0050 - accuracy: 0.9991 - val_loss: 0.1287 - val_accuracy: 0.9948\n",
      "Epoch 34/100\n",
      "109/109 [==============================] - 46s 423ms/step - loss: 0.0177 - accuracy: 0.9977 - val_loss: 0.1889 - val_accuracy: 0.9896\n",
      "Epoch 35/100\n",
      "109/109 [==============================] - 47s 430ms/step - loss: 0.0060 - accuracy: 0.9991 - val_loss: 0.2217 - val_accuracy: 0.9896\n",
      "Epoch 36/100\n",
      "109/109 [==============================] - 46s 426ms/step - loss: 0.0124 - accuracy: 0.9983 - val_loss: 0.1290 - val_accuracy: 0.9948\n",
      "Epoch 37/100\n",
      "109/109 [==============================] - 46s 421ms/step - loss: 0.0056 - accuracy: 0.9980 - val_loss: 0.2793 - val_accuracy: 0.9896\n",
      "Epoch 38/100\n",
      "109/109 [==============================] - 82s 756ms/step - loss: 0.0047 - accuracy: 0.9991 - val_loss: 0.1781 - val_accuracy: 0.9948\n",
      "Epoch 39/100\n",
      "109/109 [==============================] - 57s 519ms/step - loss: 0.0057 - accuracy: 0.9991 - val_loss: 0.1642 - val_accuracy: 0.9948\n",
      "Epoch 40/100\n",
      "109/109 [==============================] - 52s 474ms/step - loss: 0.0035 - accuracy: 0.9991 - val_loss: 0.1553 - val_accuracy: 0.9948\n",
      "Epoch 41/100\n",
      "109/109 [==============================] - 107s 979ms/step - loss: 0.0043 - accuracy: 0.9991 - val_loss: 0.1542 - val_accuracy: 0.9948\n",
      "Epoch 42/100\n",
      "109/109 [==============================] - 54s 499ms/step - loss: 0.0047 - accuracy: 0.9991 - val_loss: 0.1452 - val_accuracy: 0.9948\n",
      "Epoch 43/100\n",
      "109/109 [==============================] - 51s 469ms/step - loss: 0.0043 - accuracy: 0.9991 - val_loss: 0.1233 - val_accuracy: 0.9948\n",
      "Epoch 44/100\n",
      "109/109 [==============================] - 50s 460ms/step - loss: 0.0107 - accuracy: 0.9983 - val_loss: 0.1589 - val_accuracy: 0.9922\n",
      "Epoch 45/100\n",
      "109/109 [==============================] - 48s 439ms/step - loss: 0.0031 - accuracy: 0.9991 - val_loss: 0.1516 - val_accuracy: 0.9948\n",
      "Epoch 46/100\n",
      "109/109 [==============================] - 47s 430ms/step - loss: 0.0057 - accuracy: 0.9991 - val_loss: 0.2169 - val_accuracy: 0.9922\n",
      "Epoch 47/100\n",
      "109/109 [==============================] - 47s 428ms/step - loss: 0.0031 - accuracy: 0.9991 - val_loss: 0.2120 - val_accuracy: 0.9922\n",
      "Epoch 48/100\n",
      "109/109 [==============================] - 47s 434ms/step - loss: 0.0033 - accuracy: 0.9991 - val_loss: 0.1839 - val_accuracy: 0.9922\n",
      "Epoch 49/100\n",
      "109/109 [==============================] - 50s 460ms/step - loss: 0.0058 - accuracy: 0.9991 - val_loss: 0.1616 - val_accuracy: 0.9948\n",
      "Epoch 50/100\n",
      "109/109 [==============================] - 49s 450ms/step - loss: 0.0039 - accuracy: 0.9991 - val_loss: 0.1848 - val_accuracy: 0.9922\n",
      "Epoch 51/100\n",
      "109/109 [==============================] - 47s 434ms/step - loss: 0.0075 - accuracy: 0.9988 - val_loss: 0.2290 - val_accuracy: 0.9922\n",
      "Epoch 52/100\n",
      "109/109 [==============================] - 47s 428ms/step - loss: 0.0039 - accuracy: 0.9991 - val_loss: 0.2728 - val_accuracy: 0.9896\n",
      "Epoch 53/100\n",
      "109/109 [==============================] - 221s 2s/step - loss: 0.0038 - accuracy: 0.9991 - val_loss: 0.4543 - val_accuracy: 0.9870\n",
      "Epoch 54/100\n",
      "109/109 [==============================] - 51s 469ms/step - loss: 0.0103 - accuracy: 0.9980 - val_loss: 0.1633 - val_accuracy: 0.9948\n",
      "Epoch 55/100\n",
      "109/109 [==============================] - 50s 461ms/step - loss: 0.0037 - accuracy: 0.9991 - val_loss: 0.1717 - val_accuracy: 0.9948\n",
      "Epoch 56/100\n",
      "109/109 [==============================] - 309s 3s/step - loss: 0.0033 - accuracy: 0.9991 - val_loss: 0.1522 - val_accuracy: 0.9948\n"
     ]
    },
    {
     "name": "stdout",
     "output_type": "stream",
     "text": [
      "Epoch 57/100\n",
      "109/109 [==============================] - 48s 439ms/step - loss: 0.0134 - accuracy: 0.9986 - val_loss: 0.2671 - val_accuracy: 0.9896\n",
      "Epoch 58/100\n",
      "109/109 [==============================] - 46s 424ms/step - loss: 0.0039 - accuracy: 0.9991 - val_loss: 0.3433 - val_accuracy: 0.9896\n",
      "Epoch 59/100\n",
      "109/109 [==============================] - 46s 427ms/step - loss: 0.0042 - accuracy: 0.9991 - val_loss: 0.2146 - val_accuracy: 0.9896\n",
      "Epoch 60/100\n",
      "109/109 [==============================] - 469s 4s/step - loss: 0.0148 - accuracy: 0.9983 - val_loss: 0.1802 - val_accuracy: 0.9922\n",
      "Epoch 61/100\n",
      "109/109 [==============================] - 56s 511ms/step - loss: 0.0038 - accuracy: 0.9991 - val_loss: 0.1794 - val_accuracy: 0.9948\n",
      "Epoch 62/100\n",
      "109/109 [==============================] - 46s 427ms/step - loss: 0.0041 - accuracy: 0.9991 - val_loss: 0.3974 - val_accuracy: 0.9870\n",
      "Epoch 63/100\n",
      "109/109 [==============================] - 45s 417ms/step - loss: 0.0041 - accuracy: 0.9991 - val_loss: 0.3748 - val_accuracy: 0.9870\n",
      "Epoch 64/100\n",
      "109/109 [==============================] - 45s 411ms/step - loss: 0.0093 - accuracy: 0.9988 - val_loss: 0.2477 - val_accuracy: 0.9896\n",
      "Epoch 65/100\n",
      "109/109 [==============================] - 45s 411ms/step - loss: 0.0039 - accuracy: 0.9991 - val_loss: 0.2391 - val_accuracy: 0.9896\n",
      "Epoch 66/100\n",
      "109/109 [==============================] - 44s 405ms/step - loss: 0.0050 - accuracy: 0.9991 - val_loss: 0.2238 - val_accuracy: 0.9922\n",
      "Epoch 67/100\n",
      "109/109 [==============================] - 45s 415ms/step - loss: 0.0034 - accuracy: 0.9991 - val_loss: 0.2439 - val_accuracy: 0.9896\n",
      "Epoch 68/100\n",
      "109/109 [==============================] - 45s 409ms/step - loss: 0.0036 - accuracy: 0.9991 - val_loss: 0.2120 - val_accuracy: 0.9896\n",
      "Epoch 69/100\n",
      "109/109 [==============================] - 45s 412ms/step - loss: 0.0040 - accuracy: 0.9991 - val_loss: 1.5506 - val_accuracy: 0.9766\n",
      "Epoch 70/100\n",
      "109/109 [==============================] - 45s 411ms/step - loss: 0.0047 - accuracy: 0.9991 - val_loss: 0.2599 - val_accuracy: 0.9896\n",
      "Epoch 71/100\n",
      "109/109 [==============================] - 45s 410ms/step - loss: 0.0030 - accuracy: 0.9991 - val_loss: 0.2449 - val_accuracy: 0.9896\n",
      "Epoch 72/100\n",
      "109/109 [==============================] - 45s 408ms/step - loss: 0.0035 - accuracy: 0.9991 - val_loss: 0.2573 - val_accuracy: 0.9896\n",
      "Epoch 73/100\n",
      "109/109 [==============================] - 45s 411ms/step - loss: 0.0035 - accuracy: 0.9991 - val_loss: 0.2356 - val_accuracy: 0.9896\n",
      "Epoch 74/100\n",
      "109/109 [==============================] - 45s 411ms/step - loss: 0.0036 - accuracy: 0.9991 - val_loss: 0.2345 - val_accuracy: 0.9896\n",
      "Epoch 75/100\n",
      "109/109 [==============================] - 45s 413ms/step - loss: 0.0028 - accuracy: 0.9991 - val_loss: 0.2278 - val_accuracy: 0.9922\n",
      "Epoch 76/100\n",
      "109/109 [==============================] - 45s 410ms/step - loss: 0.0047 - accuracy: 0.9991 - val_loss: 0.2305 - val_accuracy: 0.9896\n",
      "Epoch 77/100\n",
      "109/109 [==============================] - 45s 410ms/step - loss: 0.0041 - accuracy: 0.9991 - val_loss: 0.2282 - val_accuracy: 0.9922\n",
      "Epoch 78/100\n",
      "109/109 [==============================] - 45s 415ms/step - loss: 0.0045 - accuracy: 0.9991 - val_loss: 0.2243 - val_accuracy: 0.9922\n",
      "Epoch 79/100\n",
      "109/109 [==============================] - 45s 413ms/step - loss: 0.0047 - accuracy: 0.9991 - val_loss: 0.2316 - val_accuracy: 0.9896\n",
      "Epoch 80/100\n",
      "109/109 [==============================] - 46s 418ms/step - loss: 0.0203 - accuracy: 0.9983 - val_loss: 0.2215 - val_accuracy: 0.9922\n",
      "Epoch 81/100\n",
      "109/109 [==============================] - 45s 412ms/step - loss: 0.0063 - accuracy: 0.9988 - val_loss: 0.7658 - val_accuracy: 0.9818\n",
      "Epoch 82/100\n",
      "109/109 [==============================] - 45s 412ms/step - loss: 0.0030 - accuracy: 0.9988 - val_loss: 0.1483 - val_accuracy: 0.9922\n",
      "Epoch 83/100\n",
      "109/109 [==============================] - 45s 411ms/step - loss: 0.0051 - accuracy: 0.9991 - val_loss: 0.1587 - val_accuracy: 0.9974\n",
      "Epoch 84/100\n",
      "109/109 [==============================] - 45s 410ms/step - loss: 0.0032 - accuracy: 0.9991 - val_loss: 0.1530 - val_accuracy: 0.9974\n",
      "Epoch 85/100\n",
      "109/109 [==============================] - 45s 413ms/step - loss: 0.0048 - accuracy: 0.9991 - val_loss: 0.1535 - val_accuracy: 0.9948\n",
      "Epoch 86/100\n",
      "109/109 [==============================] - 45s 414ms/step - loss: 0.0039 - accuracy: 0.9991 - val_loss: 0.1646 - val_accuracy: 0.9922\n",
      "Epoch 87/100\n",
      "109/109 [==============================] - 45s 414ms/step - loss: 0.0032 - accuracy: 0.9991 - val_loss: 0.1572 - val_accuracy: 0.9948\n",
      "Epoch 88/100\n",
      "109/109 [==============================] - 45s 413ms/step - loss: 0.0033 - accuracy: 0.9991 - val_loss: 0.1579 - val_accuracy: 0.9948\n",
      "Epoch 89/100\n",
      "109/109 [==============================] - 45s 414ms/step - loss: 0.0116 - accuracy: 0.9986 - val_loss: 0.3921 - val_accuracy: 0.9870\n",
      "Epoch 90/100\n",
      "109/109 [==============================] - 45s 414ms/step - loss: 0.0107 - accuracy: 0.9986 - val_loss: 0.3897 - val_accuracy: 0.9870\n",
      "Epoch 91/100\n",
      "109/109 [==============================] - 45s 412ms/step - loss: 0.0044 - accuracy: 0.9991 - val_loss: 0.4088 - val_accuracy: 0.9870\n",
      "Epoch 92/100\n",
      "109/109 [==============================] - 45s 410ms/step - loss: 0.0038 - accuracy: 0.9991 - val_loss: 0.4437 - val_accuracy: 0.9870\n",
      "Epoch 93/100\n",
      "109/109 [==============================] - 45s 410ms/step - loss: 0.0048 - accuracy: 0.9991 - val_loss: 0.4201 - val_accuracy: 0.9870\n",
      "Epoch 94/100\n",
      "109/109 [==============================] - 45s 415ms/step - loss: 0.0048 - accuracy: 0.9991 - val_loss: 0.4403 - val_accuracy: 0.9870\n",
      "Epoch 95/100\n",
      "109/109 [==============================] - 45s 412ms/step - loss: 0.0032 - accuracy: 0.9991 - val_loss: 0.4480 - val_accuracy: 0.9870\n",
      "Epoch 96/100\n",
      "109/109 [==============================] - 45s 410ms/step - loss: 0.0029 - accuracy: 0.9991 - val_loss: 0.3908 - val_accuracy: 0.9870\n",
      "Epoch 97/100\n",
      "109/109 [==============================] - 45s 414ms/step - loss: 0.0035 - accuracy: 0.9991 - val_loss: 0.3665 - val_accuracy: 0.9870\n",
      "Epoch 98/100\n",
      "109/109 [==============================] - 45s 411ms/step - loss: 0.0088 - accuracy: 0.9988 - val_loss: 0.6105 - val_accuracy: 0.9870\n",
      "Epoch 99/100\n",
      "109/109 [==============================] - 45s 414ms/step - loss: 0.0146 - accuracy: 0.9986 - val_loss: 0.3485 - val_accuracy: 0.9870\n",
      "Epoch 100/100\n",
      "109/109 [==============================] - 45s 412ms/step - loss: 0.0038 - accuracy: 0.9988 - val_loss: 0.3150 - val_accuracy: 0.9870\n"
     ]
    }
   ],
   "source": [
    "history = model.fit(x_train, y_tr, epochs=num_epochs, validation_split=0.1, shuffle=True, batch_size=batch_size)"
   ]
  },
  {
   "cell_type": "code",
   "execution_count": 59,
   "metadata": {},
   "outputs": [
    {
     "name": "stdout",
     "output_type": "stream",
     "text": [
      "14/14 [==============================] - 2s 147ms/step - loss: 0.1934 - accuracy: 0.9930\n"
     ]
    }
   ],
   "source": [
    "# evaluate on test data\n",
    "results = model.evaluate(x_test, y_tst)"
   ]
  },
  {
   "cell_type": "code",
   "execution_count": 60,
   "metadata": {},
   "outputs": [
    {
     "name": "stdout",
     "output_type": "stream",
     "text": [
      "1/1 [==============================] - 0s 964us/step\n"
     ]
    }
   ],
   "source": [
    "# predict model\n",
    "predictions = model.predict(cnnTestData, batch_size=1024, verbose=1)"
   ]
  },
  {
   "cell_type": "markdown",
   "metadata": {},
   "source": [
    "### Testing few sentences using our model"
   ]
  },
  {
   "cell_type": "code",
   "execution_count": 61,
   "metadata": {},
   "outputs": [],
   "source": [
    "\n",
    "labels = ['0', '1']\n",
    "\n",
    "def makeprediction(texts):\n",
    "    tk = Tokenizer()\n",
    "    tk.fit_on_texts(texts)\n",
    "    index_list = tk.texts_to_sequences(texts)\n",
    "    x_train = pad_sequences(index_list, maxlen=150)\n",
    "    pred = model.predict(x_train)\n",
    "    result = labels[np.argmax(pred)]\n",
    "    return result"
   ]
  },
  {
   "cell_type": "code",
   "execution_count": 62,
   "metadata": {},
   "outputs": [],
   "source": [
    "prediction_labels=[]\n",
    "for p in predictions:\n",
    "    prediction_labels.append(labels[np.argmax(p)])"
   ]
  },
  {
   "cell_type": "code",
   "execution_count": 63,
   "metadata": {},
   "outputs": [
    {
     "data": {
      "text/plain": [
       "0.9929906542056075"
      ]
     },
     "execution_count": 63,
     "metadata": {},
     "output_type": "execute_result"
    }
   ],
   "source": [
    "sum(data_test.Label==prediction_labels)/len(prediction_labels)"
   ]
  },
  {
   "cell_type": "code",
   "execution_count": 64,
   "metadata": {},
   "outputs": [
    {
     "data": {
      "text/plain": [
       "1    230\n",
       "0    198\n",
       "Name: Label, dtype: int64"
      ]
     },
     "execution_count": 64,
     "metadata": {},
     "output_type": "execute_result"
    }
   ],
   "source": [
    "data_test.Label.value_counts()"
   ]
  },
  {
   "cell_type": "code",
   "execution_count": 65,
   "metadata": {},
   "outputs": [
    {
     "data": {
      "image/png": "[encoded data removed]",
      "text/plain": [
       "<Figure size 432x288 with 2 Axes>"
      ]
     },
     "metadata": {
      "needs_background": "light"
     },
     "output_type": "display_data"
    }
   ],
   "source": [
    "plt.figure(1)\n",
    "# summarize history for accuracy\n",
    "plt.subplot(211)\n",
    "plt.plot(history.history['accuracy'])\n",
    "plt.plot(history.history['val_accuracy'])\n",
    "plt.title('model accuracy')\n",
    "plt.ylabel('accuracy')\n",
    "plt.xlabel('epoch')\n",
    "plt.legend(['train', 'val'], loc='upper left')\n",
    "# summarize history for loss\n",
    "plt.subplot(212)\n",
    "plt.plot(history.history['loss'])\n",
    "plt.plot(history.history['val_loss'])\n",
    "plt.title('model loss')\n",
    "plt.ylabel('loss')\n",
    "plt.xlabel('epoch')\n",
    "plt.legend(['train', 'val'], loc='upper left')\n",
    "plt.tight_layout()\n",
    "plt.show()"
   ]
  },
  {
   "cell_type": "code",
   "execution_count": 66,
   "metadata": {},
   "outputs": [
    {
     "name": "stdout",
     "output_type": "stream",
     "text": [
      "Confusion Matrix :\n",
      "[[196   2]\n",
      " [  1 229]]\n",
      "Accuracy Score : 0.9929906542056075\n",
      "Report : \n",
      "              precision    recall  f1-score   support\n",
      "\n",
      "           0       0.99      0.99      0.99       198\n",
      "           1       0.99      1.00      0.99       230\n",
      "\n",
      "    accuracy                           0.99       428\n",
      "   macro avg       0.99      0.99      0.99       428\n",
      "weighted avg       0.99      0.99      0.99       428\n",
      "\n"
     ]
    }
   ],
   "source": [
    "results = confusion_matrix(data_test.Label, prediction_labels)\n",
    "print ('Confusion Matrix :')\n",
    "print(results) \n",
    "print ('Accuracy Score :',accuracy_score(data_test.Label, prediction_labels))\n",
    "print ('Report : ')\n",
    "print (classification_report(data_test.Label, prediction_labels))"
   ]
  },
  {
   "cell_type": "code",
   "execution_count": 67,
   "metadata": {},
   "outputs": [
    {
     "name": "stdout",
     "output_type": "stream",
     "text": [
      "                        Convolution Neural Network\n"
     ]
    },
    {
     "data": {
      "image/png": "[encoded data removed]",
      "text/plain": [
       "<Figure size 360x360 with 2 Axes>"
      ]
     },
     "metadata": {
      "needs_background": "light"
     },
     "output_type": "display_data"
    }
   ],
   "source": [
    "from sklearn.metrics import confusion_matrix\n",
    "print(\"                        Convolution Neural Network\")\n",
    "conf_mat = confusion_matrix(data_test.Label, prediction_labels)\n",
    "fig, ax = plt.subplots(figsize=(5,5))\n",
    "sns.heatmap(conf_mat, annot=True, fmt='d', cmap ='YlGnBu',\n",
    "            xticklabels=category_id_df.Label.values, yticklabels=category_id_df.Label.values)\n",
    "plt.ylabel('Actual')\n",
    "plt.xlabel('Predicted')\n",
    "plt.show()"
   ]
  },
  {
   "cell_type": "markdown",
   "metadata": {},
   "source": [
    "### Testing CNN using KFold cross validation"
   ]
  },
  {
   "cell_type": "code",
   "execution_count": 68,
   "metadata": {},
   "outputs": [
    {
     "name": "stdout",
     "output_type": "stream",
     "text": [
      "Fold:  1\n",
      "Epoch 1/5\n",
      "109/109 [==============================] - 44s 403ms/step - loss: 1.0181 - accuracy: 0.8439 - val_loss: 0.4145 - val_accuracy: 0.9091\n",
      "Epoch 2/5\n",
      "109/109 [==============================] - 44s 405ms/step - loss: 0.1439 - accuracy: 0.9616 - val_loss: 0.1534 - val_accuracy: 0.9610\n",
      "Epoch 3/5\n",
      "109/109 [==============================] - 44s 406ms/step - loss: 0.0704 - accuracy: 0.9870 - val_loss: 0.0787 - val_accuracy: 0.9870\n",
      "Epoch 4/5\n",
      "109/109 [==============================] - 44s 405ms/step - loss: 0.1055 - accuracy: 0.9855 - val_loss: 0.6631 - val_accuracy: 0.9039\n",
      "Epoch 5/5\n",
      "109/109 [==============================] - 44s 408ms/step - loss: 0.0613 - accuracy: 0.9931 - val_loss: 0.1156 - val_accuracy: 0.9870\n",
      "Results for current fold:\n",
      "4/4 [==============================] - 1s 370ms/step - loss: 0.0918 - accuracy: 0.9883\n",
      "Fold:  2\n",
      "Epoch 1/5\n",
      "109/109 [==============================] - 44s 406ms/step - loss: 0.8135 - accuracy: 0.8529 - val_loss: 0.3007 - val_accuracy: 0.9273\n",
      "Epoch 2/5\n",
      "109/109 [==============================] - 44s 407ms/step - loss: 0.1035 - accuracy: 0.9633 - val_loss: 0.1799 - val_accuracy: 0.9455\n",
      "Epoch 3/5\n",
      "109/109 [==============================] - 44s 404ms/step - loss: 0.0682 - accuracy: 0.9847 - val_loss: 0.0963 - val_accuracy: 0.9766\n",
      "Epoch 4/5\n",
      "109/109 [==============================] - 45s 417ms/step - loss: 0.0710 - accuracy: 0.9858 - val_loss: 0.0908 - val_accuracy: 0.9922\n",
      "Epoch 5/5\n",
      "109/109 [==============================] - 44s 407ms/step - loss: 0.0327 - accuracy: 0.9916 - val_loss: 0.1242 - val_accuracy: 0.9870\n",
      "Results for current fold:\n",
      "4/4 [==============================] - 1s 370ms/step - loss: 0.0798 - accuracy: 0.9860\n",
      "Fold:  3\n",
      "Epoch 1/5\n",
      "109/109 [==============================] - 44s 404ms/step - loss: 1.0210 - accuracy: 0.8480 - val_loss: 0.0855 - val_accuracy: 0.9688\n",
      "Epoch 2/5\n",
      "109/109 [==============================] - 44s 406ms/step - loss: 0.1238 - accuracy: 0.9627 - val_loss: 1.5426 - val_accuracy: 0.6494\n",
      "Epoch 3/5\n",
      "109/109 [==============================] - 44s 406ms/step - loss: 0.0869 - accuracy: 0.9815 - val_loss: 0.1315 - val_accuracy: 0.9688\n",
      "Epoch 4/5\n",
      "109/109 [==============================] - 45s 411ms/step - loss: 0.0835 - accuracy: 0.9873 - val_loss: 0.2163 - val_accuracy: 0.9818\n",
      "Epoch 5/5\n",
      "109/109 [==============================] - 44s 407ms/step - loss: 0.0524 - accuracy: 0.9928 - val_loss: 0.2160 - val_accuracy: 0.9870\n",
      "Results for current fold:\n",
      "4/4 [==============================] - 1s 372ms/step - loss: 0.1564 - accuracy: 0.9860\n",
      "Fold:  4\n",
      "Epoch 1/5\n",
      "109/109 [==============================] - 45s 411ms/step - loss: 0.9384 - accuracy: 0.8451 - val_loss: 0.0475 - val_accuracy: 0.9844\n",
      "Epoch 2/5\n",
      "109/109 [==============================] - 44s 406ms/step - loss: 0.1550 - accuracy: 0.9659 - val_loss: 0.0383 - val_accuracy: 0.9922\n",
      "Epoch 3/5\n",
      "109/109 [==============================] - 44s 405ms/step - loss: 0.1297 - accuracy: 0.9766 - val_loss: 0.0566 - val_accuracy: 0.9792\n",
      "Epoch 4/5\n",
      "109/109 [==============================] - 44s 408ms/step - loss: 0.0600 - accuracy: 0.9896 - val_loss: 0.0493 - val_accuracy: 0.9922\n",
      "Epoch 5/5\n",
      "109/109 [==============================] - 45s 411ms/step - loss: 0.0572 - accuracy: 0.9919 - val_loss: 0.0265 - val_accuracy: 0.9870\n",
      "Results for current fold:\n",
      "4/4 [==============================] - 2s 376ms/step - loss: 0.0922 - accuracy: 0.9860\n",
      "Fold:  5\n",
      "Epoch 1/5\n",
      "109/109 [==============================] - 45s 410ms/step - loss: 0.8647 - accuracy: 0.8540 - val_loss: 0.1023 - val_accuracy: 0.9584\n",
      "Epoch 2/5\n",
      "109/109 [==============================] - 44s 407ms/step - loss: 0.1113 - accuracy: 0.9659 - val_loss: 0.0871 - val_accuracy: 0.9714\n",
      "Epoch 3/5\n",
      "109/109 [==============================] - 45s 413ms/step - loss: 0.0764 - accuracy: 0.9809 - val_loss: 0.0334 - val_accuracy: 0.9870\n",
      "Epoch 4/5\n",
      "109/109 [==============================] - 45s 409ms/step - loss: 0.0537 - accuracy: 0.9910 - val_loss: 0.0193 - val_accuracy: 0.9948\n",
      "Epoch 5/5\n",
      "109/109 [==============================] - 45s 411ms/step - loss: 0.0455 - accuracy: 0.9934 - val_loss: 0.0705 - val_accuracy: 0.9792\n",
      "Results for current fold:\n",
      "4/4 [==============================] - 2s 376ms/step - loss: 0.0918 - accuracy: 0.9813\n",
      "Fold:  6\n",
      "Epoch 1/5\n",
      "109/109 [==============================] - 44s 404ms/step - loss: 0.8978 - accuracy: 0.8575 - val_loss: 0.0954 - val_accuracy: 0.9584\n",
      "Epoch 2/5\n",
      "109/109 [==============================] - 45s 411ms/step - loss: 0.1378 - accuracy: 0.9604 - val_loss: 0.0225 - val_accuracy: 0.9948\n",
      "Epoch 3/5\n",
      "109/109 [==============================] - 45s 415ms/step - loss: 0.0943 - accuracy: 0.9850 - val_loss: 0.0326 - val_accuracy: 0.9896\n",
      "Epoch 4/5\n",
      "109/109 [==============================] - 45s 415ms/step - loss: 0.0275 - accuracy: 0.9934 - val_loss: 0.0573 - val_accuracy: 0.9766\n",
      "Epoch 5/5\n",
      "109/109 [==============================] - 45s 416ms/step - loss: 0.0899 - accuracy: 0.9861 - val_loss: 0.0418 - val_accuracy: 0.9922\n",
      "Results for current fold:\n",
      "4/4 [==============================] - 2s 389ms/step - loss: 0.0534 - accuracy: 0.9930\n",
      "Fold:  7\n",
      "Epoch 1/5\n",
      "109/109 [==============================] - 45s 409ms/step - loss: 0.9327 - accuracy: 0.8454 - val_loss: 0.2467 - val_accuracy: 0.9195\n",
      "Epoch 2/5\n",
      "109/109 [==============================] - 45s 412ms/step - loss: 0.1066 - accuracy: 0.9668 - val_loss: 0.0352 - val_accuracy: 0.9818\n",
      "Epoch 3/5\n",
      "109/109 [==============================] - 45s 414ms/step - loss: 0.0902 - accuracy: 0.9824 - val_loss: 0.0854 - val_accuracy: 0.9766\n",
      "Epoch 4/5\n",
      "109/109 [==============================] - 45s 416ms/step - loss: 0.0507 - accuracy: 0.9882 - val_loss: 0.1516 - val_accuracy: 0.9714\n",
      "Epoch 5/5\n",
      "109/109 [==============================] - 45s 414ms/step - loss: 0.0410 - accuracy: 0.9931 - val_loss: 0.1166 - val_accuracy: 0.9740\n",
      "Results for current fold:\n",
      "4/4 [==============================] - 2s 396ms/step - loss: 0.0711 - accuracy: 0.9813\n",
      "Fold:  8\n",
      "Epoch 1/5\n",
      "109/109 [==============================] - 45s 412ms/step - loss: 0.8817 - accuracy: 0.8662 - val_loss: 0.0624 - val_accuracy: 0.9766\n",
      "Epoch 2/5\n",
      "109/109 [==============================] - 45s 414ms/step - loss: 0.0921 - accuracy: 0.9679 - val_loss: 0.0348 - val_accuracy: 0.9844\n",
      "Epoch 3/5\n",
      "109/109 [==============================] - 45s 415ms/step - loss: 0.0740 - accuracy: 0.9824 - val_loss: 0.1280 - val_accuracy: 0.9584\n",
      "Epoch 4/5\n",
      "109/109 [==============================] - 45s 416ms/step - loss: 0.0548 - accuracy: 0.9902 - val_loss: 0.0401 - val_accuracy: 0.9948\n",
      "Epoch 5/5\n",
      "109/109 [==============================] - 45s 413ms/step - loss: 0.0460 - accuracy: 0.9922 - val_loss: 0.0606 - val_accuracy: 0.9896\n",
      "Results for current fold:\n",
      "4/4 [==============================] - 2s 379ms/step - loss: 0.0719 - accuracy: 0.9813\n",
      "Fold:  9\n",
      "Epoch 1/5\n",
      "109/109 [==============================] - 46s 420ms/step - loss: 0.9231 - accuracy: 0.8630 - val_loss: 0.2060 - val_accuracy: 0.9481\n",
      "Epoch 2/5\n",
      "109/109 [==============================] - 45s 412ms/step - loss: 0.1068 - accuracy: 0.9656 - val_loss: 0.0911 - val_accuracy: 0.9766\n",
      "Epoch 3/5\n",
      "109/109 [==============================] - 45s 416ms/step - loss: 0.0611 - accuracy: 0.9858 - val_loss: 0.0779 - val_accuracy: 0.9792\n",
      "Epoch 4/5\n",
      "109/109 [==============================] - 45s 413ms/step - loss: 0.0377 - accuracy: 0.9905 - val_loss: 0.0653 - val_accuracy: 0.9896\n",
      "Epoch 5/5\n",
      "109/109 [==============================] - 45s 415ms/step - loss: 0.0708 - accuracy: 0.9905 - val_loss: 0.0718 - val_accuracy: 0.9896\n",
      "Results for current fold:\n",
      "4/4 [==============================] - 2s 375ms/step - loss: 0.1631 - accuracy: 0.9790\n",
      "Fold:  10\n",
      "Epoch 1/5\n",
      "109/109 [==============================] - 45s 416ms/step - loss: 0.9554 - accuracy: 0.8549 - val_loss: 0.4049 - val_accuracy: 0.9221\n",
      "Epoch 2/5\n",
      "109/109 [==============================] - 46s 422ms/step - loss: 0.1369 - accuracy: 0.9636 - val_loss: 0.0589 - val_accuracy: 0.9818\n",
      "Epoch 3/5\n",
      "109/109 [==============================] - 46s 422ms/step - loss: 0.0936 - accuracy: 0.9806 - val_loss: 0.1575 - val_accuracy: 0.9766\n",
      "Epoch 4/5\n",
      "109/109 [==============================] - 45s 416ms/step - loss: 0.1009 - accuracy: 0.9879 - val_loss: 0.0050 - val_accuracy: 0.9948\n",
      "Epoch 5/5\n",
      "109/109 [==============================] - 45s 410ms/step - loss: 0.0626 - accuracy: 0.9908 - val_loss: 0.6472 - val_accuracy: 0.9481\n",
      "Results for current fold:\n",
      "4/4 [==============================] - 2s 383ms/step - loss: 0.7168 - accuracy: 0.9463\n"
     ]
    }
   ],
   "source": [
    "from sklearn.model_selection import StratifiedKFold\n",
    "from scipy.stats import zscore\n",
    "from sklearn import metrics\n",
    "import tensorflow as tf\n",
    "import random\n",
    "\n",
    "f_score=[]\n",
    "fold = 10\n",
    "label_names = ['0', '1']\n",
    "num_epochs = 5\n",
    "batch_size = 32\n",
    "#oos_y = []\n",
    "#oos_pred = []\n",
    "results = []\n",
    "#for train, test in kf.split(data[\"tokens\"], data['Label']):\n",
    "\n",
    "for i in range(fold):\n",
    "    print(\"Fold: \", i+1)\n",
    "    random_num = np.random.randint(1,7000, 1)[0]\n",
    "    data_train, data_test = train_test_split(data, test_size=0.10, shuffle = True, random_state = random_num)\n",
    "\n",
    "    # # total training words\n",
    "    totalTrainingWords = [word for tokens in data_train[\"tokens\"] for word in tokens]\n",
    "\n",
    "    # # Storing Length of the training sentence\n",
    "    lengthTrainingSentences = [len(tokens) for tokens in data_train[\"tokens\"]]\n",
    "\n",
    "    # # training Vocabulary size\n",
    "    trainingVocabSize = sorted(list(set(totalTrainingWords)))\n",
    "\n",
    "    ## Total number of lines\n",
    "    linesCount = len(data_train[\"tokens\"])\n",
    "    \n",
    "    tokenizer = Tokenizer(num_words=len(trainingVocabSize), lower=True, char_level=False)\n",
    "    tokenizer.fit_on_texts(data_train[\"Text_Final\"].tolist())\n",
    "    training_sequences = tokenizer.texts_to_sequences(data_train[\"Text_Final\"].tolist())\n",
    "\n",
    "    train_word_index = tokenizer.word_index\n",
    "    cnnTrainData = pad_sequences(training_sequences, maxlen=MAX_SEQUENCE_LENGTH)\n",
    "    \n",
    "    train_embedding_weights = np.zeros((len(train_word_index)+1, EMBEDDING_DIM))\n",
    "    \n",
    "    for word,index in train_word_index.items():\n",
    "        train_embedding_weights[index,:] = word2vec[word] if word in word2vec else np.random.rand(EMBEDDING_DIM)\n",
    "        \n",
    "    test_sequences = tokenizer.texts_to_sequences(data_test[\"Text_Final\"].tolist())\n",
    "    cnnTestData = pad_sequences(test_sequences, maxlen= MAX_SEQUENCE_LENGTH)\n",
    "    \n",
    "    # Splitting train data into X_train and y_train\n",
    "    y_train = data_train[label_names].values\n",
    "    x_train = cnnTrainData\n",
    "    y_tr = y_train\n",
    "    \n",
    "    # Splitting train data into X_test and y_test\n",
    "    y_test = data_test[label_names].values\n",
    "    x_test = cnnTestData\n",
    "    y_tst = y_test\n",
    "    \n",
    "    # create model\n",
    "    model = ConvolutionalNeuralNet(train_embedding_weights, MAX_SEQUENCE_LENGTH, len(train_word_index)+1, EMBEDDING_DIM, len(list(label_names)))\n",
    "    \n",
    "    #Train Model\n",
    "    history = model.fit(x_train, y_tr, epochs=num_epochs, validation_split=0.1, shuffle=True, batch_size=batch_size)\n",
    "      \n",
    "    # model evaluate\n",
    "    \n",
    "    print(\"Results for current fold:\")\n",
    "    results.append(model.evaluate(x_test, y_tst, batch_size=128))\n",
    "\n",
    "#     predictions = model.predict(cnnTestData, batch_size=1024, verbose=0)\n",
    "#     oos_y.append(y_test)\n",
    "#     oos_pred.append(predictions)\n",
    "    \n",
    "    #score = np.sqrt(metrics.mean_squared_error(predictions, y_test))\n",
    "#    f_score.append(count)\n",
    "\n",
    "model.save('model_CNN.h5')    "
   ]
  },
  {
   "cell_type": "code",
   "execution_count": 69,
   "metadata": {},
   "outputs": [
    {
     "name": "stdout",
     "output_type": "stream",
     "text": [
      "Kfold Mean:  0.9808411121368408\n"
     ]
    }
   ],
   "source": [
    "import statistics \n",
    "# for i in range(len(results)):\n",
    "#     print(\"Fold: \", i+1)\n",
    "#     print(\"test loss, test acc:\", results[i])\n",
    "\n",
    "score = []\n",
    "for i in results:\n",
    "    score.append(i[1])\n",
    "x = statistics.mean(score)\n",
    "    \n",
    "print(\"Kfold Mean: \", x)"
   ]
  },
  {
   "cell_type": "code",
   "execution_count": 70,
   "metadata": {},
   "outputs": [
    {
     "data": {
      "image/png": "[encoded data removed]",
      "text/plain": [
       "<Figure size 432x288 with 1 Axes>"
      ]
     },
     "metadata": {},
     "output_type": "display_data"
    }
   ],
   "source": [
    "# for Glove\n",
    "import pandas as pd\n",
    "import seaborn as sns\n",
    "results=pd.DataFrame()\n",
    "dictionary=dict()\n",
    "dictionary['Evaluation Measures']=[\"K Fold\", \"Precision\", \"Recall\", \"F1 Score\"]\n",
    "dictionary['CNN - Glove']=[96, 96, 96, 96]\n",
    "results=pd.DataFrame(dictionary)\n",
    "sns.set_style(style=\"whitegrid\")\n",
    "ax = sns.barplot(x='Evaluation Measures', y= 'CNN - Glove',data=results)"
   ]
  },
  {
   "cell_type": "markdown",
   "metadata": {},
   "source": [
    "### Reference\n",
    "[1] \"Convolutional Neural Networks for Sentence Classification\" by Yoon Kim\n"
   ]
  }
 ],
 "metadata": {
  "kernelspec": {
   "display_name": "Python 3 (ipykernel)",
   "language": "python",
   "name": "python3"
  },
  "language_info": {
   "codemirror_mode": {
    "name": "ipython",
    "version": 3
   },
   "file_extension": ".py",
   "mimetype": "text/x-python",
   "name": "python",
   "nbconvert_exporter": "python",
   "pygments_lexer": "ipython3",
   "version": "3.8.8"
  }
 },
 "nbformat": 4,
 "nbformat_minor": 4
}
